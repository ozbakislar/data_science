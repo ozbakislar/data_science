{
 "cells": [
  {
   "cell_type": "markdown",
   "id": "0537e4e9",
   "metadata": {},
   "source": [
    "Notlar TechproEducation Data Science egitiminden alinmistir."
   ]
  },
  {
   "cell_type": "markdown",
   "id": "0b956e8b-c012-4b7d-9fe1-be68fe668606",
   "metadata": {},
   "source": [
    "## <font color='green'> <b>Import the numpy package under the name as np & print the numpy version</b><font color='black'>"
   ]
  },
  {
   "cell_type": "markdown",
   "id": "1a442444-539b-49ea-882a-1fbb29f6bfcb",
   "metadata": {},
   "source": [
    "\"NumPy paketini np adı altında içe aktar ve NumPy sürümünü yazdır.\""
   ]
  },
  {
   "cell_type": "markdown",
   "id": "d3adb3f5-e1db-45d8-804a-50100d3b395c",
   "metadata": {},
   "source": [
    "**NOT: -Extra research is required- yazili olanlari Chatgpt ile cözüp anlamaya calistim.**"
   ]
  },
  {
   "cell_type": "code",
   "execution_count": 2,
   "id": "b7c6e1d1-1387-4916-a28d-61eceb801eaf",
   "metadata": {},
   "outputs": [],
   "source": [
    "import numpy as np"
   ]
  },
  {
   "cell_type": "code",
   "execution_count": 4,
   "id": "668e8221",
   "metadata": {},
   "outputs": [
    {
     "data": {
      "text/plain": [
       "'1.26.4'"
      ]
     },
     "execution_count": 4,
     "metadata": {},
     "output_type": "execute_result"
    }
   ],
   "source": [
    "np.__version__"
   ]
  },
  {
   "cell_type": "markdown",
   "id": "8c171220-e212-4057-ad4c-e809ba8961fd",
   "metadata": {},
   "source": [
    "## <font color='green'> <b>Create a null vector of size 10</b><font color='black'>"
   ]
  },
  {
   "cell_type": "markdown",
   "id": "918c04e0-b9ee-4732-8809-f11b1ec9676c",
   "metadata": {},
   "source": [
    "\"Boyutu 10 olan, sifirlarla dolu bir vektör olustur.\""
   ]
  },
  {
   "cell_type": "code",
   "execution_count": 6,
   "id": "107c7c3b",
   "metadata": {},
   "outputs": [
    {
     "data": {
      "text/plain": [
       "array([0, 0, 0, 0, 0, 0, 0, 0, 0, 0])"
      ]
     },
     "execution_count": 6,
     "metadata": {},
     "output_type": "execute_result"
    }
   ],
   "source": [
    "np.array([0, 0, 0, 0, 0, 0, 0, 0, 0, 0]) # 1. yol"
   ]
  },
  {
   "cell_type": "code",
   "execution_count": 8,
   "id": "7be45535-13d5-48c9-9089-f8b4d90613b6",
   "metadata": {},
   "outputs": [
    {
     "data": {
      "text/plain": [
       "array([0., 0., 0., 0., 0., 0., 0., 0., 0., 0.])"
      ]
     },
     "execution_count": 8,
     "metadata": {},
     "output_type": "execute_result"
    }
   ],
   "source": [
    "np.zeros(10) # 2. yol, zeros fonksiyonunu kullandik ve iceriye girdigimiz deger adedince sifir iceren tek boyutlu yani vektörel array olusturduk, daha dinamik oldu."
   ]
  },
  {
   "cell_type": "markdown",
   "id": "2891b252-a1db-4ab4-a164-47c9cce9a271",
   "metadata": {},
   "source": [
    "## <font color='green'> <b>Create a null vector of size 10 but the fifth value which is 1</b><font color='black'>"
   ]
  },
  {
   "cell_type": "markdown",
   "id": "0b065811-0dac-4341-a162-0dae69e5cc64",
   "metadata": {},
   "source": [
    "Boyutu 10 olan bir bos vektör olustur, ancak besinci degeri 1 olsun.\""
   ]
  },
  {
   "cell_type": "code",
   "execution_count": 12,
   "id": "51e58682",
   "metadata": {},
   "outputs": [
    {
     "data": {
      "text/plain": [
       "array([0., 0., 0., 0., 0., 1., 0., 0., 0., 0.])"
      ]
     },
     "execution_count": 12,
     "metadata": {},
     "output_type": "execute_result"
    }
   ],
   "source": [
    "süha_1 = np.zeros(10) # 1. yol\n",
    "süha_1[5] = 1 # Numpy'in gücünü kullanarak Numpy array'inin icindeki bir elemana indexle ulasip degistirdik, normalde bu Python listelerde olmaz.\n",
    "süha_1"
   ]
  },
  {
   "cell_type": "code",
   "execution_count": 14,
   "id": "45977c2f-e1cb-4f6f-ae78-941bbe6d6b7a",
   "metadata": {},
   "outputs": [
    {
     "data": {
      "text/plain": [
       "array([0, 0, 0, 0, 0, 1, 0, 0, 0, 0])"
      ]
     },
     "execution_count": 14,
     "metadata": {},
     "output_type": "execute_result"
    }
   ],
   "source": [
    "süha_2 = np.array([0 if i != 5 else 1 for i in range(10)]) # 2. yol, list comprehension ile\n",
    "süha_2"
   ]
  },
  {
   "cell_type": "markdown",
   "id": "491e5318-b216-48d8-8f35-82cd66594408",
   "metadata": {},
   "source": [
    "## <font color='green'> <b>Create a vector with values ranging from 10 to 50</b><font color='black'>"
   ]
  },
  {
   "cell_type": "markdown",
   "id": "d1349d43-23e8-4275-b425-7af90a444199",
   "metadata": {},
   "source": [
    "\"Degerleri 10'dan 50'ye kadar olan bir vektör olustur.\""
   ]
  },
  {
   "cell_type": "code",
   "execution_count": 16,
   "id": "c9cb389f-86e1-457e-950e-b5d385683405",
   "metadata": {},
   "outputs": [
    {
     "data": {
      "text/plain": [
       "array([10, 11, 12, 13, 14, 15, 16, 17, 18, 19, 20, 21, 22, 23, 24, 25, 26,\n",
       "       27, 28, 29, 30, 31, 32, 33, 34, 35, 36, 37, 38, 39, 40, 41, 42, 43,\n",
       "       44, 45, 46, 47, 48, 49, 50])"
      ]
     },
     "execution_count": 16,
     "metadata": {},
     "output_type": "execute_result"
    }
   ],
   "source": [
    "np.array(range(10, 51)) # 1. yol"
   ]
  },
  {
   "cell_type": "code",
   "execution_count": 18,
   "id": "877aaf55-46ec-4c87-a503-c9276025b6f0",
   "metadata": {},
   "outputs": [
    {
     "data": {
      "text/plain": [
       "array([10, 11, 12, 13, 14, 15, 16, 17, 18, 19, 20, 21, 22, 23, 24, 25, 26,\n",
       "       27, 28, 29, 30, 31, 32, 33, 34, 35, 36, 37, 38, 39, 40, 41, 42, 43,\n",
       "       44, 45, 46, 47, 48, 49, 50])"
      ]
     },
     "execution_count": 18,
     "metadata": {},
     "output_type": "execute_result"
    }
   ],
   "source": [
    "np.arange(10, 51) # 2. yol"
   ]
  },
  {
   "cell_type": "markdown",
   "id": "b7818669-03a5-4f61-b08f-b85b8dd94372",
   "metadata": {},
   "source": [
    "## <font color='green'> <b>Reverse a vector (first element becomes last)</b><font color='black'>"
   ]
  },
  {
   "cell_type": "markdown",
   "id": "816a254b-05ab-4d0a-b9aa-ae0da902533f",
   "metadata": {},
   "source": [
    "\"Bir vektörü ters cevir (ilk eleman son eleman olur).\""
   ]
  },
  {
   "cell_type": "code",
   "execution_count": 20,
   "id": "542660e4-bc9a-4030-9350-4f73e38a04c0",
   "metadata": {},
   "outputs": [
    {
     "data": {
      "text/plain": [
       "array([10,  9,  8,  7,  6,  5,  4,  3,  2,  1])"
      ]
     },
     "execution_count": 20,
     "metadata": {},
     "output_type": "execute_result"
    }
   ],
   "source": [
    "np.arange(1, 11)[::-1]"
   ]
  },
  {
   "cell_type": "markdown",
   "id": "5f4a94e4-596a-4c85-8356-7eb86d6cacbe",
   "metadata": {},
   "source": [
    "## <font color='green'> <b>Create a 3x3 matrix with values ranging from 0 to 9</b><font color='black'>"
   ]
  },
  {
   "cell_type": "markdown",
   "id": "7e2dd31c-e61a-45d1-a8a8-63fb72baf753",
   "metadata": {},
   "source": [
    "\"Degerleri 0'dan 9'a kadar olan 3x3 bir matris olustur.\""
   ]
  },
  {
   "cell_type": "code",
   "execution_count": 22,
   "id": "45b56276-e922-4758-8899-02f6684da340",
   "metadata": {},
   "outputs": [
    {
     "data": {
      "text/plain": [
       "array([[0, 1, 2],\n",
       "       [3, 4, 5],\n",
       "       [6, 7, 8]])"
      ]
     },
     "execution_count": 22,
     "metadata": {},
     "output_type": "execute_result"
    }
   ],
   "source": [
    "np.arange(9).reshape(3, 3) # arange ile aralik verdik ve reshape ile olusacak tek boyutlu 9 elemanli vektörü 2 boyutlu 3x3 matrixe cevirdik."
   ]
  },
  {
   "cell_type": "markdown",
   "id": "0df95fd1-f316-4976-849b-756f927f382c",
   "metadata": {},
   "source": [
    "## <font color='green'> <b>Find indices of non­zero elements from [1, 2, 0, 0, 4, 0]</b><font color='black'>\n",
    "**Extra research is required**"
   ]
  },
  {
   "cell_type": "markdown",
   "id": "1289e903-5b33-4ad0-9a2c-b9587a03d83e",
   "metadata": {},
   "source": [
    "\"[1, 2, 0, 0, 4, 0] dizisindeki sifir olmayan elemanlarin indekslerini bul\""
   ]
  },
  {
   "cell_type": "code",
   "execution_count": 24,
   "id": "95edf755",
   "metadata": {},
   "outputs": [
    {
     "data": {
      "text/plain": [
       "(array([0, 1, 4], dtype=int64),)"
      ]
     },
     "execution_count": 24,
     "metadata": {},
     "output_type": "execute_result"
    }
   ],
   "source": [
    "süha_3 = np.array([1, 2, 0, 0, 4, 0])  \n",
    "np.nonzero(süha_3) # nonzero sifir olmayan elemanlarin indexlerini döndüren bir fonksiyondur."
   ]
  },
  {
   "cell_type": "markdown",
   "id": "efc45ac3-9297-4ea0-9fd8-8534c46935e4",
   "metadata": {},
   "source": [
    "## <font color='green'> <b>Create a 3x3 identity matrix</b><font color='black'>\n",
    "Identity matrix, kare matrisler icin özel bir türdür. Diagonalindeki tüm elemanlar 1, diger elemanlar ise 0 olan kare matrisdir."
   ]
  },
  {
   "cell_type": "markdown",
   "id": "fa7a8756-67df-40ab-8b49-eb6b44f8bdb3",
   "metadata": {},
   "source": [
    "\"3x3 boyutunda bir birim matris olustur.\""
   ]
  },
  {
   "cell_type": "code",
   "execution_count": 26,
   "id": "bb3b3ade",
   "metadata": {},
   "outputs": [
    {
     "data": {
      "text/plain": [
       "array([[1., 0., 0.],\n",
       "       [0., 1., 0.],\n",
       "       [0., 0., 1.]])"
      ]
     },
     "execution_count": 26,
     "metadata": {},
     "output_type": "execute_result"
    }
   ],
   "source": [
    "np.eye(3, 3)"
   ]
  },
  {
   "cell_type": "markdown",
   "id": "aa19488a-0613-48f3-8604-4499afe134e8",
   "metadata": {},
   "source": [
    "## <font color='green'> <b>Create a 3x3x3 array with random values [1, 2, 0, 0, 4, 0]</b><font color='black'>"
   ]
  },
  {
   "cell_type": "markdown",
   "id": "4a470914-ec6b-4240-b5b1-f0e8fa9893cf",
   "metadata": {},
   "source": [
    "\"1, 2, 0, 0, 4, 0 degerlerini kullanarak 3x3x3 boyutunda bir rastgele dizi olustur.\""
   ]
  },
  {
   "cell_type": "code",
   "execution_count": 28,
   "id": "0465ead9",
   "metadata": {},
   "outputs": [
    {
     "data": {
      "text/plain": [
       "array([[[0, 0, 0],\n",
       "        [0, 0, 0],\n",
       "        [4, 1, 2]],\n",
       "\n",
       "       [[0, 4, 4],\n",
       "        [0, 0, 2],\n",
       "        [0, 0, 1]],\n",
       "\n",
       "       [[0, 0, 0],\n",
       "        [4, 0, 0],\n",
       "        [4, 0, 0]]])"
      ]
     },
     "execution_count": 28,
     "metadata": {},
     "output_type": "execute_result"
    }
   ],
   "source": [
    "np.random.choice([1, 2, 0, 0, 4, 0], size=(3, 3, 3))"
   ]
  },
  {
   "cell_type": "markdown",
   "id": "456bd772-149a-410a-9c86-04f1b19c6ae1",
   "metadata": {},
   "source": [
    "## <font color='green'> <b>Create a 10x10 array with random values and find the minimum and maximum values</b><font color='black'>"
   ]
  },
  {
   "cell_type": "markdown",
   "id": "ad6ed453-2e87-4425-abec-27ce03a3bd7d",
   "metadata": {},
   "source": [
    "\"10x10 boyutunda rastgele degerler iceren bir dizi olustur ve minimum ile maksimum degerlerini bul.\""
   ]
  },
  {
   "cell_type": "code",
   "execution_count": 30,
   "id": "1d72d8e2-bf3e-4302-85ee-f68281612855",
   "metadata": {},
   "outputs": [
    {
     "data": {
      "text/plain": [
       "array([[66, 88,  8, 94,  4, 34, 81, 38, 87, 93],\n",
       "       [22, 74, 86, 80, 54, 49, 75, 27,  6, 85],\n",
       "       [32, 46, 17, 95, 79, 50, 89, 86, 33, 76],\n",
       "       [15, 67, 87,  6, 83, 12, 14, 69, 36, 71],\n",
       "       [48, 49, 69, 47, 70, 63, 41, 20, 79, 19],\n",
       "       [ 3, 18, 80, 67,  9, 36, 18, 59, 26, 81],\n",
       "       [68, 26, 64, 82, 53,  7, 91, 85, 45, 98],\n",
       "       [87, 89, 36, 64, 71, 89, 73, 54, 73, 78],\n",
       "       [53, 91, 17, 95, 92,  7, 39,  4, 55, 49],\n",
       "       [69, 18, 29, 41, 94,  9, 32, 96, 28, 83]])"
      ]
     },
     "execution_count": 30,
     "metadata": {},
     "output_type": "execute_result"
    }
   ],
   "source": [
    "süha_4 = np.random.randint(1, 100, size=(10, 10)) # 1. yol\n",
    "süha_4"
   ]
  },
  {
   "cell_type": "code",
   "execution_count": 32,
   "id": "28e188b4-c19a-4bcc-8437-c6d7287801f4",
   "metadata": {},
   "outputs": [
    {
     "data": {
      "text/plain": [
       "98"
      ]
     },
     "execution_count": 32,
     "metadata": {},
     "output_type": "execute_result"
    }
   ],
   "source": [
    "süha_4.max()"
   ]
  },
  {
   "cell_type": "code",
   "execution_count": 34,
   "id": "fbab6105-1df9-4cb9-80ec-e6420a0f8112",
   "metadata": {},
   "outputs": [
    {
     "data": {
      "text/plain": [
       "3"
      ]
     },
     "execution_count": 34,
     "metadata": {},
     "output_type": "execute_result"
    }
   ],
   "source": [
    "süha_4.min()"
   ]
  },
  {
   "cell_type": "code",
   "execution_count": 38,
   "id": "fb1c335d-190d-4f71-8396-65ddb36e2468",
   "metadata": {},
   "outputs": [
    {
     "data": {
      "text/plain": [
       "array([[15, 44, 27, 69, 49, 29, 84, 39, 28, 82],\n",
       "       [87, 15, 69,  2, 75, 11, 22, 66, 77, 14],\n",
       "       [39,  1, 95, 33, 36,  2, 54, 99,  5, 61],\n",
       "       [36, 72, 96, 39, 56, 21,  5, 63, 51, 82],\n",
       "       [ 6, 41, 33, 12, 64, 60, 85, 89, 48, 13],\n",
       "       [71, 22, 65, 31, 75, 92, 20, 22, 87, 82],\n",
       "       [13, 26, 19, 68,  3, 84, 64, 15, 92, 97],\n",
       "       [96, 22, 15, 49, 19, 92, 21, 52, 64,  6],\n",
       "       [79, 56, 96, 67, 60, 43, 74,  8, 35, 10],\n",
       "       [ 4, 82,  2,  5, 15, 33, 43, 79,  6, 44]])"
      ]
     },
     "execution_count": 38,
     "metadata": {},
     "output_type": "execute_result"
    }
   ],
   "source": [
    "süha_5 = np.random.randint(1, 100, 100).reshape(10, 10) # 2. yol\n",
    "süha_5"
   ]
  },
  {
   "cell_type": "code",
   "execution_count": 40,
   "id": "fb41d6b6-364b-4425-8ca0-61be8fbf6b11",
   "metadata": {},
   "outputs": [
    {
     "data": {
      "text/plain": [
       "99"
      ]
     },
     "execution_count": 40,
     "metadata": {},
     "output_type": "execute_result"
    }
   ],
   "source": [
    "süha_5.max()"
   ]
  },
  {
   "cell_type": "code",
   "execution_count": 42,
   "id": "8223a2f5-01cc-4414-bf9f-446bd75353e1",
   "metadata": {},
   "outputs": [
    {
     "data": {
      "text/plain": [
       "1"
      ]
     },
     "execution_count": 42,
     "metadata": {},
     "output_type": "execute_result"
    }
   ],
   "source": [
    "süha_5.min()"
   ]
  },
  {
   "cell_type": "markdown",
   "id": "8cbf0c5f-e2dd-4418-b923-a52bbda70b7e",
   "metadata": {},
   "source": [
    "## <font color='green'> <b>Create a random vector of size 30 and find the mean value</b><font color='black'>"
   ]
  },
  {
   "cell_type": "markdown",
   "id": "95f8ee0f-b36b-4ad5-aa11-a3a928937313",
   "metadata": {},
   "source": [
    "\"Boyutu 30 olan bir rastgele vektör olusturun ve ortalama degerini bulun.\""
   ]
  },
  {
   "cell_type": "code",
   "execution_count": 46,
   "id": "625f82b7",
   "metadata": {},
   "outputs": [],
   "source": [
    "süha_6 = np.random.randint(1, 100, 30) # 1. yol, 1 ile 100 arasinda 30 tane int sayidan olursan vektör olusturduk."
   ]
  },
  {
   "cell_type": "code",
   "execution_count": 48,
   "id": "9016c8ec-a6fb-42ac-af5e-9137a3a75edf",
   "metadata": {},
   "outputs": [
    {
     "data": {
      "text/plain": [
       "53.6"
      ]
     },
     "execution_count": 48,
     "metadata": {},
     "output_type": "execute_result"
    }
   ],
   "source": [
    "süha_6.mean()"
   ]
  },
  {
   "cell_type": "code",
   "execution_count": 50,
   "id": "e3e90aca-903b-437c-8e63-27cfac14d734",
   "metadata": {},
   "outputs": [
    {
     "data": {
      "text/plain": [
       "array([0.27164813, 0.13917273, 0.45249344, 0.27156553, 0.04031348,\n",
       "       0.89604902, 0.2022081 , 0.1450109 , 0.27639569, 0.63532106,\n",
       "       0.82318753, 0.34205669, 0.03489784, 0.32658865, 0.84525245,\n",
       "       0.73260163, 0.63931407, 0.68743811, 0.13178563, 0.35931327,\n",
       "       0.17592209, 0.67421038, 0.51895272, 0.99654281, 0.86139885,\n",
       "       0.10608342, 0.51560978, 0.08190506, 0.14718118, 0.54744545])"
      ]
     },
     "execution_count": 50,
     "metadata": {},
     "output_type": "execute_result"
    }
   ],
   "source": [
    "süha_7 = np.random.rand(30) # 2. yol, 0-1 araliginda 30 adet float sayi ürettik.\n",
    "süha_7"
   ]
  },
  {
   "cell_type": "code",
   "execution_count": 52,
   "id": "af0d8098-63a6-441f-865b-0a288342fe52",
   "metadata": {},
   "outputs": [
    {
     "data": {
      "text/plain": [
       "0.42926218924650894"
      ]
     },
     "execution_count": 52,
     "metadata": {},
     "output_type": "execute_result"
    }
   ],
   "source": [
    "süha_7.mean()"
   ]
  },
  {
   "cell_type": "markdown",
   "id": "dcdb4e96",
   "metadata": {},
   "source": [
    "## <font color='green'> <b>How can I create an array with dimensions (6, 7, 8) using arange, and find its last element?</b><font color='black'>"
   ]
  },
  {
   "cell_type": "markdown",
   "id": "a1acbed3-c819-4156-88fa-9310eb4e88f7",
   "metadata": {},
   "source": [
    "\"arange kullanarak (6, 7, 8) boyutlarinda bir dizi nasil olusturabilirim ve bu dizinin son elemanini nasil bulabilirim?\""
   ]
  },
  {
   "cell_type": "code",
   "execution_count": 54,
   "id": "844deeaf",
   "metadata": {},
   "outputs": [
    {
     "data": {
      "text/plain": [
       "array([ 0,  1,  2,  3,  4,  5,  6,  7,  8,  9, 10, 11, 12, 13, 14, 15, 16,\n",
       "       17, 18, 19, 20, 21, 22, 23, 24, 25, 26, 27, 28, 29, 30, 31, 32, 33,\n",
       "       34, 35, 36, 37, 38, 39, 40, 41, 42, 43, 44, 45, 46, 47, 48, 49, 50,\n",
       "       51, 52, 53, 54, 55, 56, 57, 58, 59, 60, 61, 62, 63, 64, 65, 66, 67,\n",
       "       68, 69, 70, 71, 72, 73, 74, 75, 76, 77, 78, 79, 80, 81, 82, 83, 84,\n",
       "       85, 86, 87, 88, 89, 90, 91, 92, 93, 94, 95, 96, 97, 98, 99])"
      ]
     },
     "execution_count": 54,
     "metadata": {},
     "output_type": "execute_result"
    }
   ],
   "source": [
    "süha_8 = np.arange(100) # 1.yol\n",
    "süha_8"
   ]
  },
  {
   "cell_type": "code",
   "execution_count": 56,
   "id": "8b60cbb7-742a-4742-925b-445ed4c38f4e",
   "metadata": {},
   "outputs": [
    {
     "data": {
      "text/plain": [
       "array([[[ 0,  1,  2,  3,  4,  5,  6,  7],\n",
       "        [ 8,  9, 10, 11, 12, 13, 14, 15],\n",
       "        [16, 17, 18, 19, 20, 21, 22, 23],\n",
       "        [24, 25, 26, 27, 28, 29, 30, 31],\n",
       "        [32, 33, 34, 35, 36, 37, 38, 39],\n",
       "        [40, 41, 42, 43, 44, 45, 46, 47],\n",
       "        [48, 49, 50, 51, 52, 53, 54, 55]],\n",
       "\n",
       "       [[56, 57, 58, 59, 60, 61, 62, 63],\n",
       "        [64, 65, 66, 67, 68, 69, 70, 71],\n",
       "        [72, 73, 74, 75, 76, 77, 78, 79],\n",
       "        [80, 81, 82, 83, 84, 85, 86, 87],\n",
       "        [88, 89, 90, 91, 92, 93, 94, 95],\n",
       "        [96, 97, 98, 99,  0,  1,  2,  3],\n",
       "        [ 4,  5,  6,  7,  8,  9, 10, 11]],\n",
       "\n",
       "       [[12, 13, 14, 15, 16, 17, 18, 19],\n",
       "        [20, 21, 22, 23, 24, 25, 26, 27],\n",
       "        [28, 29, 30, 31, 32, 33, 34, 35],\n",
       "        [36, 37, 38, 39, 40, 41, 42, 43],\n",
       "        [44, 45, 46, 47, 48, 49, 50, 51],\n",
       "        [52, 53, 54, 55, 56, 57, 58, 59],\n",
       "        [60, 61, 62, 63, 64, 65, 66, 67]],\n",
       "\n",
       "       [[68, 69, 70, 71, 72, 73, 74, 75],\n",
       "        [76, 77, 78, 79, 80, 81, 82, 83],\n",
       "        [84, 85, 86, 87, 88, 89, 90, 91],\n",
       "        [92, 93, 94, 95, 96, 97, 98, 99],\n",
       "        [ 0,  1,  2,  3,  4,  5,  6,  7],\n",
       "        [ 8,  9, 10, 11, 12, 13, 14, 15],\n",
       "        [16, 17, 18, 19, 20, 21, 22, 23]],\n",
       "\n",
       "       [[24, 25, 26, 27, 28, 29, 30, 31],\n",
       "        [32, 33, 34, 35, 36, 37, 38, 39],\n",
       "        [40, 41, 42, 43, 44, 45, 46, 47],\n",
       "        [48, 49, 50, 51, 52, 53, 54, 55],\n",
       "        [56, 57, 58, 59, 60, 61, 62, 63],\n",
       "        [64, 65, 66, 67, 68, 69, 70, 71],\n",
       "        [72, 73, 74, 75, 76, 77, 78, 79]],\n",
       "\n",
       "       [[80, 81, 82, 83, 84, 85, 86, 87],\n",
       "        [88, 89, 90, 91, 92, 93, 94, 95],\n",
       "        [96, 97, 98, 99,  0,  1,  2,  3],\n",
       "        [ 4,  5,  6,  7,  8,  9, 10, 11],\n",
       "        [12, 13, 14, 15, 16, 17, 18, 19],\n",
       "        [20, 21, 22, 23, 24, 25, 26, 27],\n",
       "        [28, 29, 30, 31, 32, 33, 34, 35]]])"
      ]
     },
     "execution_count": 56,
     "metadata": {},
     "output_type": "execute_result"
    }
   ],
   "source": [
    "np.resize(süha_8, (6, 7, 8)) # resize boyutta uygunluk aramaz kendisi bosluklari doldurur ve orjinal yapiyi degistirdigi icin degiskene atamamiz sonraki adim icin gerekmez."
   ]
  },
  {
   "cell_type": "code",
   "execution_count": 58,
   "id": "11d4a2c8-29f8-4e8a-a1a8-4e6a795be67d",
   "metadata": {},
   "outputs": [
    {
     "data": {
      "text/plain": [
       "35"
      ]
     },
     "execution_count": 58,
     "metadata": {},
     "output_type": "execute_result"
    }
   ],
   "source": [
    "son_eleman = np.resize(süha_8, (6, 7, 8))\n",
    "son_eleman[-1, -1, -1] # Hangi katman? Son: -1, hangi satir? son: -1, hangi sütun? son: -1"
   ]
  },
  {
   "cell_type": "code",
   "execution_count": 60,
   "id": "f2c2e26a-4993-47f3-91d4-50251a9d5863",
   "metadata": {},
   "outputs": [
    {
     "data": {
      "text/plain": [
       "array([[[  0,   1,   2,   3,   4,   5,   6,   7],\n",
       "        [  8,   9,  10,  11,  12,  13,  14,  15],\n",
       "        [ 16,  17,  18,  19,  20,  21,  22,  23],\n",
       "        [ 24,  25,  26,  27,  28,  29,  30,  31],\n",
       "        [ 32,  33,  34,  35,  36,  37,  38,  39],\n",
       "        [ 40,  41,  42,  43,  44,  45,  46,  47],\n",
       "        [ 48,  49,  50,  51,  52,  53,  54,  55]],\n",
       "\n",
       "       [[ 56,  57,  58,  59,  60,  61,  62,  63],\n",
       "        [ 64,  65,  66,  67,  68,  69,  70,  71],\n",
       "        [ 72,  73,  74,  75,  76,  77,  78,  79],\n",
       "        [ 80,  81,  82,  83,  84,  85,  86,  87],\n",
       "        [ 88,  89,  90,  91,  92,  93,  94,  95],\n",
       "        [ 96,  97,  98,  99, 100, 101, 102, 103],\n",
       "        [104, 105, 106, 107, 108, 109, 110, 111]],\n",
       "\n",
       "       [[112, 113, 114, 115, 116, 117, 118, 119],\n",
       "        [120, 121, 122, 123, 124, 125, 126, 127],\n",
       "        [128, 129, 130, 131, 132, 133, 134, 135],\n",
       "        [136, 137, 138, 139, 140, 141, 142, 143],\n",
       "        [144, 145, 146, 147, 148, 149, 150, 151],\n",
       "        [152, 153, 154, 155, 156, 157, 158, 159],\n",
       "        [160, 161, 162, 163, 164, 165, 166, 167]],\n",
       "\n",
       "       [[168, 169, 170, 171, 172, 173, 174, 175],\n",
       "        [176, 177, 178, 179, 180, 181, 182, 183],\n",
       "        [184, 185, 186, 187, 188, 189, 190, 191],\n",
       "        [192, 193, 194, 195, 196, 197, 198, 199],\n",
       "        [200, 201, 202, 203, 204, 205, 206, 207],\n",
       "        [208, 209, 210, 211, 212, 213, 214, 215],\n",
       "        [216, 217, 218, 219, 220, 221, 222, 223]],\n",
       "\n",
       "       [[224, 225, 226, 227, 228, 229, 230, 231],\n",
       "        [232, 233, 234, 235, 236, 237, 238, 239],\n",
       "        [240, 241, 242, 243, 244, 245, 246, 247],\n",
       "        [248, 249, 250, 251, 252, 253, 254, 255],\n",
       "        [256, 257, 258, 259, 260, 261, 262, 263],\n",
       "        [264, 265, 266, 267, 268, 269, 270, 271],\n",
       "        [272, 273, 274, 275, 276, 277, 278, 279]],\n",
       "\n",
       "       [[280, 281, 282, 283, 284, 285, 286, 287],\n",
       "        [288, 289, 290, 291, 292, 293, 294, 295],\n",
       "        [296, 297, 298, 299, 300, 301, 302, 303],\n",
       "        [304, 305, 306, 307, 308, 309, 310, 311],\n",
       "        [312, 313, 314, 315, 316, 317, 318, 319],\n",
       "        [320, 321, 322, 323, 324, 325, 326, 327],\n",
       "        [328, 329, 330, 331, 332, 333, 334, 335]]])"
      ]
     },
     "execution_count": 60,
     "metadata": {},
     "output_type": "execute_result"
    }
   ],
   "source": [
    "süha_9 = np.arange(336) # 2.yol, reshape ile cözerken olusturacagimiz (6, 7, 8) ile uyumlu veri girmemiz gerektigi icin 6x7x8 = 336 olarak arange olusturduk. Sonrasinda orjinal diziyi degistirmeden düzenleme yaptigi icin bir degiskene atamaliyiz ki sonrasinda son elemani bulabilelim.\n",
    "süha_10 = süha_9.reshape(6, 7, 8)\n",
    "süha_10"
   ]
  },
  {
   "cell_type": "code",
   "execution_count": 62,
   "id": "1d33b9c3-51ad-4dc2-a22a-4bb82863c307",
   "metadata": {},
   "outputs": [
    {
     "data": {
      "text/plain": [
       "335"
      ]
     },
     "execution_count": 62,
     "metadata": {},
     "output_type": "execute_result"
    }
   ],
   "source": [
    "süha_10[-1, -1, -1]"
   ]
  },
  {
   "cell_type": "markdown",
   "id": "afc74cce-1589-434f-929e-d4f809eac34d",
   "metadata": {},
   "source": [
    "## <font color='green'> <b>Create a 5x5 matrix with row values ranging from 0 to 5</b><font color='black'>"
   ]
  },
  {
   "cell_type": "markdown",
   "id": "a91ba3b9-4fe6-46dc-9a83-16f98e59485d",
   "metadata": {},
   "source": [
    "\"Satir degerleri 0'dan 5'e kadar olan 5x5 boyutunda bir matris olusturun.\""
   ]
  },
  {
   "cell_type": "code",
   "execution_count": 218,
   "id": "5ef5e632-bc8f-4d26-9cf9-85fb98b7ac35",
   "metadata": {},
   "outputs": [
    {
     "data": {
      "text/plain": [
       "array([0, 1, 2, 3, 4, 0, 1, 2, 3, 4, 0, 1, 2, 3, 4, 0, 1, 2, 3, 4, 0, 1,\n",
       "       2, 3, 4])"
      ]
     },
     "execution_count": 218,
     "metadata": {},
     "output_type": "execute_result"
    }
   ],
   "source": [
    "concat = np.concatenate((np.arange(5), np.arange(5), np.arange(5), np.arange(5), np.arange(5))) # 1. yol, 0-5 araliginda üretilen vektörü 5 kere toplayip, split ile 5'e böldüm.\n",
    "concat"
   ]
  },
  {
   "cell_type": "code",
   "execution_count": 220,
   "id": "666596cc-5c62-425b-851d-11e0b821264e",
   "metadata": {},
   "outputs": [
    {
     "data": {
      "text/plain": [
       "[array([0, 1, 2, 3, 4]),\n",
       " array([0, 1, 2, 3, 4]),\n",
       " array([0, 1, 2, 3, 4]),\n",
       " array([0, 1, 2, 3, 4]),\n",
       " array([0, 1, 2, 3, 4])]"
      ]
     },
     "execution_count": 220,
     "metadata": {},
     "output_type": "execute_result"
    }
   ],
   "source": [
    "np.split(concat, 5)"
   ]
  },
  {
   "cell_type": "code",
   "execution_count": 64,
   "id": "6bf874f8-e154-4a2e-8e5c-2542c1ad2c48",
   "metadata": {},
   "outputs": [
    {
     "data": {
      "text/plain": [
       "array([[0, 1, 2, 3, 4],\n",
       "       [0, 1, 2, 3, 4],\n",
       "       [0, 1, 2, 3, 4],\n",
       "       [0, 1, 2, 3, 4],\n",
       "       [0, 1, 2, 3, 4]])"
      ]
     },
     "execution_count": 64,
     "metadata": {},
     "output_type": "execute_result"
    }
   ],
   "source": [
    "bes_bes = np.zeros((5, 5), dtype=int) # 2. yol, 5x5 0'a 0 bir matriks olusturdum sonra bunu [0, 1, 2, 3, 4] ile birlestirdim.\n",
    "bes_bes + np.arange(5)"
   ]
  },
  {
   "cell_type": "markdown",
   "id": "cbea287c-b2ef-4c94-b4bc-e047ee69abd1",
   "metadata": {},
   "source": [
    "## <font color='green'> <b>Create a vector of size 12 with values ranging from 0 to 1 (excluding 0 and 1)</b><font color='black'>"
   ]
  },
  {
   "cell_type": "markdown",
   "id": "da52e329-f80d-45d7-a933-3cf7ff6a0a90",
   "metadata": {},
   "source": [
    "\"0 ve 1 haric olmak üzere, 0 ile 1 arasinda 12 elemanli bir vektör olusturun.\""
   ]
  },
  {
   "cell_type": "code",
   "execution_count": 66,
   "id": "e34cdac0-b5e9-4315-bf00-abcb02c90f31",
   "metadata": {},
   "outputs": [
    {
     "data": {
      "text/plain": [
       "array([0.94734495, 0.38889773, 0.75481148, 0.83627275, 0.01196397,\n",
       "       0.95863194, 0.93409324, 0.65023078, 0.51207952, 0.19366194,\n",
       "       0.95218378, 0.24028289])"
      ]
     },
     "execution_count": 66,
     "metadata": {},
     "output_type": "execute_result"
    }
   ],
   "source": [
    "np.random.rand(12)"
   ]
  },
  {
   "cell_type": "markdown",
   "id": "1dc7d714-45a5-4bc7-a52e-37abe31bfb1f",
   "metadata": {},
   "source": [
    "## <font color='green'> <b>Create a random vector of size 10 and sort it</b><font color='black'>"
   ]
  },
  {
   "cell_type": "markdown",
   "id": "92fc50b0-7213-49f8-b9f0-aa505f2d4289",
   "metadata": {},
   "source": [
    "\"10 elemanli rastgele bir vektör olusturun ve siralayin.\""
   ]
  },
  {
   "cell_type": "code",
   "execution_count": 68,
   "id": "ad6c2835-ec93-48df-ad17-af2887383635",
   "metadata": {},
   "outputs": [
    {
     "data": {
      "text/plain": [
       "array([0.07606471, 0.66444894, 0.73114837, 0.38858058, 0.33736472,\n",
       "       0.88353537, 0.30799205, 0.44951347, 0.21795764, 0.88144004])"
      ]
     },
     "execution_count": 68,
     "metadata": {},
     "output_type": "execute_result"
    }
   ],
   "source": [
    "süha_11 = np.random.rand(10)\n",
    "süha_11"
   ]
  },
  {
   "cell_type": "code",
   "execution_count": 70,
   "id": "c96b324b-b653-4e12-ba56-acbf5cb9a71e",
   "metadata": {},
   "outputs": [
    {
     "data": {
      "text/plain": [
       "array([0.07606471, 0.21795764, 0.30799205, 0.33736472, 0.38858058,\n",
       "       0.44951347, 0.66444894, 0.73114837, 0.88144004, 0.88353537])"
      ]
     },
     "execution_count": 70,
     "metadata": {},
     "output_type": "execute_result"
    }
   ],
   "source": [
    "np.sort(süha_11) # sort kullandim."
   ]
  },
  {
   "cell_type": "markdown",
   "id": "0d58bab8-cab1-4318-9405-6e54a17ac346",
   "metadata": {},
   "source": [
    "## <font color='green'> <b>Consider two random array A anb B, check if they are equal</b><font color='black'>\n",
    "**Extra research is required**"
   ]
  },
  {
   "cell_type": "markdown",
   "id": "a8ececa7-d2f9-4bad-bf38-57f2bcb8ba19",
   "metadata": {},
   "source": [
    "\"İki rastgele dizi (A ve B) düsünün, bunlarin esit olup olmadigini kontrol edin.\""
   ]
  },
  {
   "cell_type": "code",
   "execution_count": 72,
   "id": "364958e7-8151-41a1-877c-aa7fdd98e6a8",
   "metadata": {},
   "outputs": [
    {
     "name": "stdout",
     "output_type": "stream",
     "text": [
      "Diziler esit mi? False\n"
     ]
    }
   ],
   "source": [
    "A = np.random.rand(5, 5)\n",
    "B = np.random.rand(5, 5)\n",
    "\n",
    "are_equal = np.array_equal(A, B) # Dizileri karsilastirir.\n",
    "print(\"Diziler esit mi?\", are_equal)"
   ]
  },
  {
   "cell_type": "code",
   "execution_count": 74,
   "id": "4e114baf-8dea-4bab-832c-dc4d1d577323",
   "metadata": {},
   "outputs": [
    {
     "data": {
      "text/plain": [
       "array([[0.88885007, 0.17598737, 0.04652962, 0.26986721, 0.25288378],\n",
       "       [0.74722554, 0.37318424, 0.255848  , 0.74613285, 0.51383035],\n",
       "       [0.5218284 , 0.62901476, 0.60377363, 0.94228606, 0.64981207],\n",
       "       [0.65728648, 0.04921557, 0.14820021, 0.09970836, 0.864905  ],\n",
       "       [0.27582483, 0.36157166, 0.32815868, 0.4511623 , 0.33874577]])"
      ]
     },
     "execution_count": 74,
     "metadata": {},
     "output_type": "execute_result"
    }
   ],
   "source": [
    "np.random.rand(5, 5)"
   ]
  },
  {
   "cell_type": "markdown",
   "id": "add060d3-6cca-47eb-8a48-2b9f33227130",
   "metadata": {},
   "source": [
    "## <font color='green'> <b>Generate a random vector of size 10 and replace the maximum value with 0</b><font color='black'>"
   ]
  },
  {
   "cell_type": "markdown",
   "id": "1b6afa73-f5dc-4eab-9cc3-4c309597d988",
   "metadata": {},
   "source": [
    "\"Boyutu 10 olan rastgele bir vektör olusturun ve bu vektördeki maksimum degeri 0 ile degistirin.\""
   ]
  },
  {
   "cell_type": "code",
   "execution_count": 76,
   "id": "8e61ac91-2b29-447e-b57d-2bdbf28b4369",
   "metadata": {},
   "outputs": [
    {
     "data": {
      "text/plain": [
       "array([46, 11, 85, 18, 43, 14, 81, 91, 78, 49])"
      ]
     },
     "execution_count": 76,
     "metadata": {},
     "output_type": "execute_result"
    }
   ],
   "source": [
    "süha_12 = np.random.randint(1, 101, 10)\n",
    "süha_12"
   ]
  },
  {
   "cell_type": "code",
   "execution_count": 78,
   "id": "1c7accf6-9c33-4773-80a3-94a5e3ce4aea",
   "metadata": {},
   "outputs": [
    {
     "data": {
      "text/plain": [
       "7"
      ]
     },
     "execution_count": 78,
     "metadata": {},
     "output_type": "execute_result"
    }
   ],
   "source": [
    "süha_12.argmax() # Maximum degerin indexini buldum."
   ]
  },
  {
   "cell_type": "code",
   "execution_count": 80,
   "id": "3d916cb3-bf60-4f0b-bac0-647a61934227",
   "metadata": {},
   "outputs": [
    {
     "data": {
      "text/plain": [
       "array([46, 11, 85, 18, 43, 14, 81,  0, 78, 49])"
      ]
     },
     "execution_count": 80,
     "metadata": {},
     "output_type": "execute_result"
    }
   ],
   "source": [
    "süha_12[7] = 0\n",
    "süha_12"
   ]
  },
  {
   "cell_type": "markdown",
   "id": "3d99138b-91e6-4d19-9195-1f384a68063b",
   "metadata": {},
   "source": [
    "## <font color='green'> <b>How to find the most frequent value in an array?</b><font color='black'>\n",
    "**Extra research is required**"
   ]
  },
  {
   "cell_type": "markdown",
   "id": "e106a906-4c31-471c-acbb-e2b4f3a51066",
   "metadata": {},
   "source": [
    "\"Bir dizideki en sik gecen degeri nasil buluruz?\""
   ]
  },
  {
   "cell_type": "code",
   "execution_count": 366,
   "id": "af8f6bee-87a4-40c3-b49f-9f8aa4e65942",
   "metadata": {},
   "outputs": [
    {
     "name": "stdout",
     "output_type": "stream",
     "text": [
      "En Sik Gecen Deger: 4\n"
     ]
    }
   ],
   "source": [
    "dizi = np.array([1, 2, 2, 3, 3, 3, 4, 4, 4, 4])\n",
    "\n",
    "degerler, frekanslar = np.unique(dizi, return_counts=True)\n",
    "\n",
    "en_sik_deger = degerler[np.argmax(frekanslar)]\n",
    "print(\"En Sik Gecen Deger:\", en_sik_deger)"
   ]
  },
  {
   "cell_type": "markdown",
   "id": "643742e8",
   "metadata": {},
   "source": [
    "## <font color='green'> <b>Create a 2d array with 1 on the border and 0 inside</b><font color='black'>"
   ]
  },
  {
   "cell_type": "markdown",
   "id": "65768f0e-209f-4e46-85ad-51b7deda57de",
   "metadata": {},
   "source": [
    "\"Kenarlarinda 1, ic kisminda 0 olan 2 boyutlu bir dizi olusturun.\""
   ]
  },
  {
   "cell_type": "code",
   "execution_count": 384,
   "id": "4159a0e0-0a8c-478d-8195-e2475bb51869",
   "metadata": {},
   "outputs": [
    {
     "data": {
      "text/plain": [
       "array([[0, 0, 0],\n",
       "       [0, 0, 0],\n",
       "       [0, 0, 0]])"
      ]
     },
     "execution_count": 384,
     "metadata": {},
     "output_type": "execute_result"
    }
   ],
   "source": [
    "sifir_matriks = np.zeros((3, 3), dtype=int)\n",
    "sifir_matriks"
   ]
  },
  {
   "cell_type": "code",
   "execution_count": 406,
   "id": "c861d50e-0f84-4799-af02-e9fef8d9863f",
   "metadata": {},
   "outputs": [
    {
     "data": {
      "text/plain": [
       "array([[1, 1, 1],\n",
       "       [1, 0, 1],\n",
       "       [1, 1, 1]])"
      ]
     },
     "execution_count": 406,
     "metadata": {},
     "output_type": "execute_result"
    }
   ],
   "source": [
    "sifir_matriks[0,:] = 1\n",
    "sifir_matriks"
   ]
  },
  {
   "cell_type": "code",
   "execution_count": 408,
   "id": "9412feb0-45ad-4e7d-bc53-588d111bd18d",
   "metadata": {},
   "outputs": [
    {
     "data": {
      "text/plain": [
       "array([[1, 1, 1],\n",
       "       [1, 0, 1],\n",
       "       [1, 1, 1]])"
      ]
     },
     "execution_count": 408,
     "metadata": {},
     "output_type": "execute_result"
    }
   ],
   "source": [
    "sifir_matriks[-1,:] = 1\n",
    "sifir_matriks"
   ]
  },
  {
   "cell_type": "code",
   "execution_count": 410,
   "id": "917de04f-87d5-4353-9cef-39b9d0b6a0e9",
   "metadata": {},
   "outputs": [
    {
     "data": {
      "text/plain": [
       "array([[1, 1, 1],\n",
       "       [1, 0, 1],\n",
       "       [1, 1, 1]])"
      ]
     },
     "execution_count": 410,
     "metadata": {},
     "output_type": "execute_result"
    }
   ],
   "source": [
    "sifir_matriks[:,0] = 1\n",
    "sifir_matriks"
   ]
  },
  {
   "cell_type": "code",
   "execution_count": 412,
   "id": "d77af9de-e5e2-4d4d-a8b4-79d7651a0414",
   "metadata": {},
   "outputs": [
    {
     "data": {
      "text/plain": [
       "array([[1, 1, 1],\n",
       "       [1, 0, 1],\n",
       "       [1, 1, 1]])"
      ]
     },
     "execution_count": 412,
     "metadata": {},
     "output_type": "execute_result"
    }
   ],
   "source": [
    "sifir_matriks[:,-1] = 1\n",
    "sifir_matriks"
   ]
  },
  {
   "cell_type": "markdown",
   "id": "823dbb42",
   "metadata": {},
   "source": [
    "## <font color='green'> <b>Create a 5x5 matrix with values 1, 2, 3, 4 just below the diagonal</b><font color='black'>\n",
    "**Extra research may be required**"
   ]
  },
  {
   "cell_type": "markdown",
   "id": "b2a71b6c-2907-46c0-b10d-55efbae5e5c7",
   "metadata": {},
   "source": [
    "\"Ana kösegenin hemen altinda 1, 2, 3, 4 degerlerini iceren 5x5 boyutunda bir matris olusturun.\""
   ]
  },
  {
   "attachments": {
    "image.png": {
     "image/png": "[encoded data removed]"
    }
   },
   "cell_type": "markdown",
   "id": "e65c7127",
   "metadata": {},
   "source": [
    "![image.png](attachment:image.png)"
   ]
  },
  {
   "cell_type": "code",
   "execution_count": 83,
   "id": "81a560c6-bb4f-4bbb-8b93-84ba387ec933",
   "metadata": {},
   "outputs": [
    {
     "data": {
      "text/plain": [
       "array([[0, 0, 0, 0, 0],\n",
       "       [1, 0, 0, 0, 0],\n",
       "       [0, 2, 0, 0, 0],\n",
       "       [0, 0, 3, 0, 0],\n",
       "       [0, 0, 0, 4, 0]])"
      ]
     },
     "execution_count": 83,
     "metadata": {},
     "output_type": "execute_result"
    }
   ],
   "source": [
    "values = [1, 2, 3, 4]\n",
    "matrix = np.diag(values, k=-1)\n",
    "matrix"
   ]
  },
  {
   "cell_type": "markdown",
   "id": "19b54bac",
   "metadata": {},
   "source": [
    "## <font color='green'> <b>Create a 8x8 matrix and fill it with a checkerboard pattern</b><font color='black'>"
   ]
  },
  {
   "cell_type": "markdown",
   "id": "7f3c1973-392f-46f8-ab0c-e0ba6c9343eb",
   "metadata": {},
   "source": [
    "\"8x8 boyutunda bir matris olusturun ve dama tahtasi desenine uygun sekilde doldurun.\""
   ]
  },
  {
   "attachments": {
    "image.png": {
     "image/png": "[encoded data removed]"
    }
   },
   "cell_type": "markdown",
   "id": "2ce4419c",
   "metadata": {},
   "source": [
    "![image.png](attachment:image.png)"
   ]
  },
  {
   "cell_type": "code",
   "execution_count": 85,
   "id": "1eb786de-526e-49fe-99fa-c9e064cf75b6",
   "metadata": {},
   "outputs": [
    {
     "data": {
      "text/plain": [
       "array([[0, 0, 0, 0, 0, 0, 0, 0],\n",
       "       [0, 0, 0, 0, 0, 0, 0, 0],\n",
       "       [0, 0, 0, 0, 0, 0, 0, 0],\n",
       "       [0, 0, 0, 0, 0, 0, 0, 0],\n",
       "       [0, 0, 0, 0, 0, 0, 0, 0],\n",
       "       [0, 0, 0, 0, 0, 0, 0, 0],\n",
       "       [0, 0, 0, 0, 0, 0, 0, 0],\n",
       "       [0, 0, 0, 0, 0, 0, 0, 0]])"
      ]
     },
     "execution_count": 85,
     "metadata": {},
     "output_type": "execute_result"
    }
   ],
   "source": [
    "dama = np.zeros((8, 8), dtype=int)\n",
    "dama"
   ]
  },
  {
   "cell_type": "code",
   "execution_count": 457,
   "id": "18c486ec-7271-42d1-be2e-da199e49fe40",
   "metadata": {},
   "outputs": [
    {
     "data": {
      "text/plain": [
       "array([[1, 0, 1, 0, 1, 0, 1, 0],\n",
       "       [0, 0, 0, 0, 0, 0, 0, 0],\n",
       "       [1, 0, 1, 0, 1, 0, 1, 0],\n",
       "       [0, 0, 0, 0, 0, 0, 0, 0],\n",
       "       [1, 0, 1, 0, 1, 0, 1, 0],\n",
       "       [0, 0, 0, 0, 0, 0, 0, 0],\n",
       "       [1, 0, 1, 0, 1, 0, 1, 0],\n",
       "       [0, 0, 0, 0, 0, 0, 0, 0]])"
      ]
     },
     "execution_count": 457,
     "metadata": {},
     "output_type": "execute_result"
    }
   ],
   "source": [
    "dama[0::2, 0::2] = 1 # tüm cift indexli satirlarla cift indexli sütunlarin elemanlari olan 0'lari 1'lerle degistirdim.\n",
    "dama"
   ]
  },
  {
   "cell_type": "code",
   "execution_count": 87,
   "id": "68cf1b7f-ecad-4aad-aee5-b11d1d45982f",
   "metadata": {},
   "outputs": [
    {
     "data": {
      "text/plain": [
       "array([[0, 0, 0, 0, 0, 0, 0, 0],\n",
       "       [0, 1, 0, 1, 0, 1, 0, 1],\n",
       "       [0, 0, 0, 0, 0, 0, 0, 0],\n",
       "       [0, 1, 0, 1, 0, 1, 0, 1],\n",
       "       [0, 0, 0, 0, 0, 0, 0, 0],\n",
       "       [0, 1, 0, 1, 0, 1, 0, 1],\n",
       "       [0, 0, 0, 0, 0, 0, 0, 0],\n",
       "       [0, 1, 0, 1, 0, 1, 0, 1]])"
      ]
     },
     "execution_count": 87,
     "metadata": {},
     "output_type": "execute_result"
    }
   ],
   "source": [
    "dama[1::2, 1::2] = 1 # tüm tek indexli satirlarla tek indexli sütunlarin elemanlari olan 0'lari 1'lerle degistirdim.\n",
    "dama"
   ]
  },
  {
   "cell_type": "markdown",
   "id": "50007555",
   "metadata": {},
   "source": [
    "## <font color='green'> <b>Create a checkerboard 8x8 matrix using the tile function</b><font color='black'>\n",
    "**Extra research is required**"
   ]
  },
  {
   "cell_type": "markdown",
   "id": "3d8e11c2-c9cc-4b7f-b79b-9304b36f9273",
   "metadata": {},
   "source": [
    "\"Tile fonksiyonunu kullanarak 8x8 boyutunda bir dama tahtasi matrisi olusturun.\""
   ]
  },
  {
   "cell_type": "code",
   "execution_count": 97,
   "id": "8892e778-835e-467a-9a93-5210bad5397f",
   "metadata": {},
   "outputs": [
    {
     "data": {
      "text/plain": [
       "array([[1, 0, 1, 0, 1, 0, 1, 0],\n",
       "       [0, 1, 0, 1, 0, 1, 0, 1],\n",
       "       [1, 0, 1, 0, 1, 0, 1, 0],\n",
       "       [0, 1, 0, 1, 0, 1, 0, 1],\n",
       "       [1, 0, 1, 0, 1, 0, 1, 0],\n",
       "       [0, 1, 0, 1, 0, 1, 0, 1],\n",
       "       [1, 0, 1, 0, 1, 0, 1, 0],\n",
       "       [0, 1, 0, 1, 0, 1, 0, 1]])"
      ]
     },
     "execution_count": 97,
     "metadata": {},
     "output_type": "execute_result"
    }
   ],
   "source": [
    "pattern = np.array([[1, 0], [0, 1]])\n",
    "checkerboard = np.tile(pattern, (4, 4))\n",
    "checkerboard"
   ]
  },
  {
   "cell_type": "code",
   "execution_count": null,
   "id": "90bd80d9-a217-4253-871d-41821b7a78d4",
   "metadata": {},
   "outputs": [],
   "source": []
  }
 ],
 "metadata": {
  "hide_input": false,
  "kernelspec": {
   "display_name": "Python 3 (ipykernel)",
   "language": "python",
   "name": "python3"
  },
  "language_info": {
   "codemirror_mode": {
    "name": "ipython",
    "version": 3
   },
   "file_extension": ".py",
   "mimetype": "text/x-python",
   "name": "python",
   "nbconvert_exporter": "python",
   "pygments_lexer": "ipython3",
   "version": "3.12.7"
  },
  "toc": {
   "base_numbering": 1,
   "nav_menu": {},
   "number_sections": true,
   "sideBar": true,
   "skip_h1_title": false,
   "title_cell": "Table of Contents",
   "title_sidebar": "Contents",
   "toc_cell": false,
   "toc_position": {
    "height": "calc(100% - 180px)",
    "left": "10px",
    "top": "150px",
    "width": "384px"
   },
   "toc_section_display": true,
   "toc_window_display": true
  },
  "varInspector": {
   "cols": {
    "lenName": 16,
    "lenType": 16,
    "lenVar": 40
   },
   "kernels_config": {
    "python": {
     "delete_cmd_postfix": "",
     "delete_cmd_prefix": "del ",
     "library": "var_list.py",
     "varRefreshCmd": "print(var_dic_list())"
    },
    "r": {
     "delete_cmd_postfix": ") ",
     "delete_cmd_prefix": "rm(",
     "library": "var_list.r",
     "varRefreshCmd": "cat(var_dic_list()) "
    }
   },
   "types_to_exclude": [
    "module",
    "function",
    "builtin_function_or_method",
    "instance",
    "_Feature"
   ],
   "window_display": false
  }
 },
 "nbformat": 4,
 "nbformat_minor": 5
}
