{
 "cells": [
  {
   "cell_type": "markdown",
   "metadata": {},
   "source": [
    "Notlar TechproEducation Data Science egitiminden alinmistir."
   ]
  },
  {
   "cell_type": "markdown",
   "metadata": {},
   "source": [
    "# DERS 16_10_2024"
   ]
  },
  {
   "cell_type": "markdown",
   "metadata": {},
   "source": [
    "## While Loop\n",
    "\n",
    "Python, belirtilen boolean ifadesi **yanlis** olana kadar, bu ifade blogunun tekrar tekrar yürütüldügü, **kosullu** döngü olusturmak icin **while** anahtar kelimesini kullanır."
   ]
  },
  {
   "cell_type": "code",
   "execution_count": 1,
   "metadata": {},
   "outputs": [
    {
     "ename": "SyntaxError",
     "evalue": "invalid syntax (2457678866.py, line 1)",
     "output_type": "error",
     "traceback": [
      "\u001b[1;36m  Cell \u001b[1;32mIn[1], line 1\u001b[1;36m\u001b[0m\n\u001b[1;33m    Syntax:\u001b[0m\n\u001b[1;37m           ^\u001b[0m\n\u001b[1;31mSyntaxError\u001b[0m\u001b[1;31m:\u001b[0m invalid syntax\n"
     ]
    }
   ],
   "source": [
    "Syntax:\n",
    "    \n",
    "while boolean expression:\n",
    "    statement1 (4 birim girinti)\n",
    "    statement2\n",
    "    ...\n",
    "    statement(n)"
   ]
  },
  {
   "attachments": {
    "1.png": {
     "image/png": "[encoded data removed]"
    }
   },
   "cell_type": "markdown",
   "metadata": {},
   "source": [
    "![1.png](attachment:1.png)"
   ]
  },
  {
   "cell_type": "code",
   "execution_count": null,
   "metadata": {},
   "outputs": [],
   "source": [
    "# Girintiler önemli, eger yanlis girinti yapilirsa IndentationError olusur. (Mülakat sorusu!)\n",
    "\n",
    "num = 0\n",
    "\n",
    "while num < 5:\n",
    "    num += 1\n",
    "    print(f\"num: {num}\")"
   ]
  },
  {
   "cell_type": "code",
   "execution_count": null,
   "metadata": {},
   "outputs": [],
   "source": [
    "# CALISTIRMA!\n",
    "\n",
    "while 10 > 5:\n",
    "    print(\"Bu döngü sonsuza kadar calisir.\")"
   ]
  },
  {
   "cell_type": "code",
   "execution_count": null,
   "metadata": {},
   "outputs": [],
   "source": [
    "x = 1\n",
    "\n",
    "while 10 > x:\n",
    "    print(x)\n",
    "    x += 1"
   ]
  },
  {
   "cell_type": "code",
   "execution_count": null,
   "metadata": {},
   "outputs": [],
   "source": [
    "x = 1\n",
    "\n",
    "while 10 > x:\n",
    "    x += 1\n",
    "    print(x)"
   ]
  },
  {
   "cell_type": "code",
   "execution_count": null,
   "metadata": {},
   "outputs": [],
   "source": [
    "# CALISTIRMA!\n",
    "\n",
    "x = 1\n",
    "\n",
    "while x < 10:\n",
    "    print('Bu döngü sonsuza kadar calisir.')\n",
    "    \n",
    "x += 1"
   ]
  },
  {
   "cell_type": "code",
   "execution_count": null,
   "metadata": {},
   "outputs": [],
   "source": [
    "# Bu döngü calismaz.\n",
    "\n",
    "while False:\n",
    "    print(\"Burasi calisir mi?\")"
   ]
  },
  {
   "cell_type": "code",
   "execution_count": null,
   "metadata": {},
   "outputs": [],
   "source": [
    "# CALISTIRMA!\n",
    "\n",
    "x = 1\n",
    "\n",
    "while True:\n",
    "    print(x, \"sonsuza gider\")\n",
    "    x += 1"
   ]
  },
  {
   "cell_type": "code",
   "execution_count": null,
   "metadata": {},
   "outputs": [],
   "source": [
    "y = True\n",
    "\n",
    "while y:\n",
    "    print(\"While döngüsü condition False olana kadar calisir yani bir kere.\")\n",
    "    y = False"
   ]
  },
  {
   "cell_type": "code",
   "execution_count": null,
   "metadata": {},
   "outputs": [],
   "source": [
    "x = 1\n",
    "\n",
    "while x <= 3:\n",
    "    print(f\"deneme: {x}\")\n",
    "    x += 1\n",
    "    \n",
    "print(\"3 deneme hakkin bitti!\")"
   ]
  },
  {
   "cell_type": "code",
   "execution_count": null,
   "metadata": {},
   "outputs": [],
   "source": [
    "# Verilen listenin elamanlarinin karesini döndüren kodu yaziniz. (While ile çözülecek!)\n",
    "\n",
    "sayilar_listesi = [1, 3, 6, 8, 11, 15]\n",
    "\n",
    "x = 0\n",
    "\n",
    "while x < len(sayilar_listesi):\n",
    "    print(sayilar_listesi[x] ** 2)\n",
    "    x += 1"
   ]
  },
  {
   "cell_type": "code",
   "execution_count": null,
   "metadata": {},
   "outputs": [],
   "source": [
    "# Verilen listenin elamanlarinin karesini baska bir liste icinde döndüren kodu yaziniz. (While ile çözülecek!)\n",
    "\n",
    "sayilar_listesi = [1, 3, 6, 8, 11, 15]\n",
    "\n",
    "x = 0\n",
    "\n",
    "liste = []\n",
    "\n",
    "while x < len(sayilar_listesi):\n",
    "    liste.append(sayilar_listesi[x] ** 2)\n",
    "    x += 1\n",
    "    \n",
    "print(liste)"
   ]
  },
  {
   "cell_type": "code",
   "execution_count": null,
   "metadata": {},
   "outputs": [],
   "source": [
    "# Kullanicidan input ile alinan degeri kontrol eden ve 50'den büyük sayi girisi yapmasi durumunda \n",
    "# kullaniciya dogru sayi girilmedigini belirten bir ifade yazilsin.\n",
    "# 50'den kücük bir deger girildiginde döngü sona ersin ve bununla ilgili\n",
    "# kullaniciya olumlu dönüt versin. \n",
    "# Döngü dogru deger girilene kadar kulanicidan input ile deger alsin."
   ]
  },
  {
   "cell_type": "code",
   "execution_count": null,
   "metadata": {},
   "outputs": [],
   "source": [
    "sayi = int(input('1 ile 100 arasinda bir sayi giriniz:'))\n",
    "\n",
    "while sayi > 50:\n",
    "    print('Dogru giris gerceklestiremedin, tekrar dene:')\n",
    "    sayi = int(input('Lütfen 1 ile 100 arasinda bir deger giriniz:'))\n",
    "\n",
    "print ('Bravo!')"
   ]
  },
  {
   "cell_type": "code",
   "execution_count": null,
   "metadata": {},
   "outputs": [],
   "source": [
    "# Bu listedeki sayilardan tekleri bir listeye, ciftleri diger bir listeye ekleyip ciktilarini verelim.\n",
    "\n",
    "sayilar_listesi = [1, 15, 2, 36, 5, 89, 45, 62, 52, 71, 30, 56, 45, 95, 61, 48]\n",
    "\n",
    "odds = []\n",
    "evens = []\n",
    "\n",
    "x = 0\n",
    "\n",
    "while x < len(sayilar_listesi):\n",
    "    \n",
    "    if sayilar_listesi[x] % 2 == 0:\n",
    "        evens.append(sayilar_listesi[x])\n",
    "    else:\n",
    "        odds.append(sayilar_listesi[x])\n",
    "        \n",
    "    x += 1\n",
    "    \n",
    "print(f\"Tek sayilar listesi: {odds}\")\n",
    "print(f\"Çift sayilar listesi: {evens}\")"
   ]
  },
  {
   "cell_type": "markdown",
   "metadata": {},
   "source": [
    "### break"
   ]
  },
  {
   "cell_type": "code",
   "execution_count": null,
   "metadata": {},
   "outputs": [],
   "source": [
    "num = 0\n",
    "\n",
    "while num < 5:\n",
    "    num += 1\n",
    "    print(f\"num: {num}\")\n",
    "    \n",
    "    if num == 3:\n",
    "        break"
   ]
  },
  {
   "cell_type": "code",
   "execution_count": null,
   "metadata": {},
   "outputs": [],
   "source": [
    "# Sirayla int degerleri toplayin. Str ifadeye denk gelince kod sonlansin.\n",
    "\n",
    "\n",
    "liste = [1, 2, 3, 4, \"Techpro\", 5, 6, 7]\n",
    "\n",
    "x = 0\n",
    "\n",
    "toplam = 0\n",
    "\n",
    "while x < len(liste):\n",
    "    \n",
    "    if type(liste[x]) == int:\n",
    "        toplam += liste[x]\n",
    "        \n",
    "    elif type(liste[x]) == str:\n",
    "        break\n",
    "    \n",
    "    x += 1\n",
    "    \n",
    "print(toplam)"
   ]
  },
  {
   "cell_type": "markdown",
   "metadata": {},
   "source": [
    "### continue"
   ]
  },
  {
   "cell_type": "code",
   "execution_count": null,
   "metadata": {},
   "outputs": [],
   "source": [
    "# continue -> Gec devam et, bekleme yapma ticari!\n",
    "# continue'den sonraki ifade okunmaz döngü baslar.\n",
    "\n",
    "num = 0\n",
    "\n",
    "while num < 5:\n",
    "    num += 1\n",
    "    \n",
    "    if num > 3:\n",
    "        continue\n",
    "    \n",
    "    print(f\"num: {num}\")"
   ]
  },
  {
   "cell_type": "code",
   "execution_count": null,
   "metadata": {},
   "outputs": [],
   "source": [
    "# Sirayla int degerleri toplayin. Str ifadeye denk gelince o ifedayi atlayin ve devam edin.\n",
    "\n",
    "\n",
    "liste = [1, \"veli\", 2, 3, 4, \"Techpro\", 5, 6, 7, \"ali\"] \n",
    "\n",
    "x = 0\n",
    "\n",
    "toplam = 0\n",
    "\n",
    "while x < len(liste):\n",
    "    \n",
    "    if type(liste[x]) == int:\n",
    "        toplam += liste[x]\n",
    "        \n",
    "    elif type(liste[x]) == str:\n",
    "        x += 1\n",
    "        continue\n",
    "        \n",
    "    x += 1\n",
    "    \n",
    "    \n",
    "print(toplam)"
   ]
  },
  {
   "cell_type": "markdown",
   "metadata": {},
   "source": [
    "# DERS 17_10_2024"
   ]
  },
  {
   "cell_type": "code",
   "execution_count": null,
   "metadata": {},
   "outputs": [],
   "source": [
    "# Kullanicidan bir sayi al ve o sayinin faktöriyelini hesapla.\n",
    "\n",
    "num = int(input(\"Faktöriyeli hesaplanacak sayiyi giriniz:\"))\n",
    "\n",
    "factorial = 1\n",
    "i = 1\n",
    "\n",
    "while i <= num:\n",
    "    factorial *= i # factorial = factorial * i\n",
    "    i += 1\n",
    "    \n",
    "print(f\"{num}! = {factorial}\")"
   ]
  },
  {
   "cell_type": "code",
   "execution_count": null,
   "metadata": {},
   "outputs": [],
   "source": [
    "# Kullanicidan bir sayi al ve bu sayiyi tersine cevir.\n",
    "\n",
    "num = int(input(\"Bir sayi giriniz:\"))\n",
    "reversed_num = 0\n",
    "\n",
    "while num > 0:\n",
    "    digit = num % 10\n",
    "    \n",
    "    reversed_num = reversed_num * 10 + digit\n",
    "    \n",
    "    num //= 10\n",
    "    \n",
    "print(f\"Ters cevrilmis sayi: {reversed_num}\")"
   ]
  },
  {
   "cell_type": "code",
   "execution_count": null,
   "metadata": {},
   "outputs": [],
   "source": [
    "# Bastan sona algoritmasini benim kurdugum cevap (Yukaridaki soru icin):\n",
    "\n",
    "sayi = input('Lütfen palindrom olup olmadigini tespit etmek istediginiz sayiyi giriniz:')\n",
    "liste = []\n",
    "y = True\n",
    "\n",
    "if sayi.isnumeric():\n",
    "    sayi = int(sayi)\n",
    "    cikti_sayisi = sayi\n",
    "\n",
    "    while y:\n",
    "    \n",
    "        liste.append(sayi % 10)\n",
    "        sayi //= 10  \n",
    "\n",
    "        if sayi == 0:\n",
    "            y = False\n",
    "\n",
    "    str_liste = list(map(str, liste))\n",
    "\n",
    "    ters_sayi = ''.join(str_liste)\n",
    "\n",
    "    if int(ters_sayi) == cikti_sayisi:\n",
    "        print(f'Girmis oldugunuz sayi: {cikti_sayisi}, tersi: {ters_sayi}. Sayiniz bir palindrom!')\n",
    "\n",
    "    else:\n",
    "        print(f'Girmis oldugunuz sayi: {cikti_sayisi}, tersi: {ters_sayi}. Sayiniz bir palindrom degildir!')\n",
    "\n",
    "else:\n",
    "    print('Lütfen sayi formatinda bir giris gerceklestirin.')"
   ]
  },
  {
   "cell_type": "markdown",
   "metadata": {},
   "source": [
    "## else\n",
    "**else** blogu, while döngüsünü takip edebilir ve else blogu, döngü herhangi bir break ifadesi ile kesilmediginde, yani döngü dogal olarak sonlandiginda (boolean ifadesi False oldugunda) yürütülür. Eger döngü bir **break** ifadesi ile sonlandirilirsa, else bloğu çalışmaz."
   ]
  },
  {
   "cell_type": "code",
   "execution_count": null,
   "metadata": {},
   "outputs": [],
   "source": [
    "i = 1\n",
    "\n",
    "while i <= 5:\n",
    "    print(i)\n",
    "    i += 1\n",
    "\n",
    "else:\n",
    "    print(\"Döngü dogal olarak sonlandi.\")"
   ]
  },
  {
   "cell_type": "code",
   "execution_count": null,
   "metadata": {},
   "outputs": [],
   "source": [
    "i = 1\n",
    "\n",
    "while i <= 5:\n",
    "    if i == 3:\n",
    "        break\n",
    "    print(i)\n",
    "    i += 1\n",
    "\n",
    "else:\n",
    "    print(\"Döngü dogal olarak sonlanmadi.\")"
   ]
  },
  {
   "cell_type": "code",
   "execution_count": null,
   "metadata": {},
   "outputs": [],
   "source": [
    "# Bankamatik sifre girme isleminin kodlarini yazin.\n",
    "\n",
    "kayitli_sifre = \"1234\"\n",
    "\n",
    "y = True\n",
    "\n",
    "while y:\n",
    "    \n",
    "    kullanici_girisi = input(\"Lütfen kart sifrenizi giriniz:\")\n",
    "    \n",
    "    if kayitli_sifre == kullanici_girisi:\n",
    "        print(\"Ana menüye yönlendiriliyorsunuz...\")\n",
    "        y = False\n",
    "        \n",
    "    else:\n",
    "        print(\"Girdiginiz sifre yanlis, lütfen tekrar giriniz.\")"
   ]
  },
  {
   "cell_type": "code",
   "execution_count": null,
   "metadata": {},
   "outputs": [],
   "source": [
    "# Benim cözümüm:\n",
    "\n",
    "import time\n",
    "kayitli_sifre = 1234\n",
    "\n",
    "sayac = 0\n",
    "\n",
    "while True:\n",
    "\n",
    "    try:\n",
    "        kullanici_sifresi = int(input('Lütfen 4 haneli banka sifrenizi giriniz:'))\n",
    "    \n",
    "    except ValueError:\n",
    "        print(\"Lütfen geçerli bir 4 haneli sayi girin!\")\n",
    "        continue\n",
    "    \n",
    "    if kayitli_sifre == kullanici_sifresi:\n",
    "        print('Sifre girisi basariyla gerceklestirildi.')\n",
    "        time.sleep(1)\n",
    "        print('Ana menüye yönlendiriliyorsunuz...')\n",
    "        break\n",
    "    \n",
    "    else:\n",
    "        sayac += 1\n",
    "\n",
    "        if sayac == 0 or sayac == 1 or sayac == 2:\n",
    "            print('Sifre girisi yanlis lütfen tekrar deneyiniz:')\n",
    "        \n",
    "        else:\n",
    "            time.sleep(1)\n",
    "            print('''\n",
    "        Sifre giris isleminizi 3 kere yanlis gerceklestirdiniz.\n",
    "        Bankamatik kartinizi güvenlik amacli yuttu. Lütfen en yakin\n",
    "        Sühabank subemizle veyahut müsteri temsilcimizle \n",
    "        iletisime geciniz.''')\n",
    "            break\n"
   ]
  },
  {
   "cell_type": "markdown",
   "metadata": {},
   "source": [
    "## random Modülü"
   ]
  },
  {
   "cell_type": "code",
   "execution_count": null,
   "metadata": {},
   "outputs": [],
   "source": [
    "import random"
   ]
  },
  {
   "cell_type": "markdown",
   "metadata": {},
   "source": [
    "**random()** 0.0 ile 1.0 arasinda rastgele bir float sayi döndürür."
   ]
  },
  {
   "cell_type": "code",
   "execution_count": null,
   "metadata": {},
   "outputs": [],
   "source": [
    "random.random()"
   ]
  },
  {
   "cell_type": "markdown",
   "metadata": {},
   "source": [
    "**randint (a, b):** a ile b (dahil) arasinda rastgele bir tam sayi döndürür."
   ]
  },
  {
   "cell_type": "code",
   "execution_count": null,
   "metadata": {},
   "outputs": [],
   "source": [
    "random.randint(5, 50)"
   ]
  },
  {
   "cell_type": "markdown",
   "metadata": {},
   "source": [
    "**uniform(a, b):** a ile b (dahil) arasinda rastgele bir float sayi döndürür."
   ]
  },
  {
   "cell_type": "code",
   "execution_count": null,
   "metadata": {},
   "outputs": [],
   "source": [
    "round(random.uniform(1.5, 6.5), 5)"
   ]
  },
  {
   "cell_type": "markdown",
   "metadata": {},
   "source": [
    "**randrange (start, stop, step):** Start ile stop arasinda belirli bir adim degerine göre rastegele bir tam sayi döndürür."
   ]
  },
  {
   "cell_type": "code",
   "execution_count": null,
   "metadata": {},
   "outputs": [],
   "source": [
    "random.randrange(0, 101, 5)"
   ]
  },
  {
   "cell_type": "markdown",
   "metadata": {},
   "source": [
    "**choice():** Verilen diziden (liste, tuple, string) rastgele bir öge döndürür."
   ]
  },
  {
   "cell_type": "code",
   "execution_count": null,
   "metadata": {},
   "outputs": [],
   "source": [
    "my_list = [\"elma\", \"muz\", \"cilek\", \"kiraz\"]\n",
    "print(random.choice(my_list))"
   ]
  },
  {
   "cell_type": "markdown",
   "metadata": {},
   "source": [
    "**shuffle():** Verilen dizinin ögelerini yerinde karistirir."
   ]
  },
  {
   "cell_type": "code",
   "execution_count": null,
   "metadata": {},
   "outputs": [],
   "source": [
    "my_list = [\"elma\", \"muz\", \"cilek\", \"kiraz\"]\n",
    "random.shuffle(my_list)\n",
    "print(my_list)"
   ]
  },
  {
   "cell_type": "markdown",
   "metadata": {},
   "source": [
    "**sample(population, k):** Verien diziden rastgele k adet öge döndürür. Ögeler tekrar etmez."
   ]
  },
  {
   "cell_type": "code",
   "execution_count": null,
   "metadata": {},
   "outputs": [],
   "source": [
    "my_list = [\"elma\", \"muz\", \"cilek\", \"kiraz\"]\n",
    "print(random.sample(my_list, 2))"
   ]
  },
  {
   "cell_type": "code",
   "execution_count": null,
   "metadata": {},
   "outputs": [],
   "source": [
    "# Bilgisayar 1 ile 100 arasinda rastgele bir sayi secer.\n",
    "# Kullanicidan bu sayiyi tahmin etmesi istenir.\n",
    "# Kullanici tahminde bulunur ve bilgisayar, kullanicinin tahminini degerlendirerek su geri bildirimlerden birini verir:\n",
    "# Tahmin edilen sayi dogruysa:\n",
    "# \"Girdiginiz sayi dogru. X kerede bildiniz. Tebrikler.\"\n",
    "# Tahmin edilen sayi  büyükse:\n",
    "# \"Girdiginiz sayi X. tahminini azalt.\"\n",
    "# Tahmin edilen sayi kücükse:\n",
    "# \"Girdiğiniz sayi X. tahminini arttir.\"\n",
    "# Kullaniciya toplamda 7 tahmin hakki verilir.\n",
    "# Kullanici 7 tahmin hakkini da kullanir ve dogru tahminde bulunamazsa:\n",
    "# \"7 hakkin bitti. Aklimdaki sayi X'idi\" mesaji gösterilir ve oyun sona erer.\n",
    "# Oyunun basinda 2 saniyelik bir bekleme süresi vardır.\n",
    "\n",
    "import random\n",
    "import time\n",
    "\n",
    "aklimdaki_sayi = random.randint(1, 100)\n",
    "\n",
    "sayac = 0\n",
    "time.sleep(2)\n",
    "\n",
    "while True:\n",
    "    sayac += 1\n",
    "    \n",
    "    tahmin = int(input(\"Aklimdaki sayiyi tahmin et:\"))\n",
    "    \n",
    "    if aklimdaki_sayi < tahmin:\n",
    "        print(f\"Girdiginiz sayi {tahmin}. Tahmini azalt\")\n",
    "        \n",
    "    elif aklimdaki_sayi > tahmin:\n",
    "        print(f\"Girdiginiz sayi {tahmin}. Tahmini artir\")\n",
    "        \n",
    "    else:\n",
    "        print(f\"Girdiginiz sayi {tahmin}. {sayac} kerede bildiniz. Tebrikler.\")\n",
    "        break\n",
    "    \n",
    "    if sayac == 7:\n",
    "        print(f\"7 hakkin bitti. Aklimdaki sayi {aklimdaki_sayi} idi.\")\n",
    "        break\n"
   ]
  },
  {
   "cell_type": "code",
   "execution_count": null,
   "metadata": {},
   "outputs": [],
   "source": [
    "# Benim cözümüm:\n",
    "\n",
    "import random\n",
    "import time\n",
    "sayi = random.randint(1, 100)\n",
    "sayac = 0\n",
    "\n",
    "while True:\n",
    "\n",
    "    try:\n",
    "        tahmin = int(input('Lütfen 1 ile 100 arasinda bir tam sayiyi sayi formatinda giriniz:'))\n",
    "        time.sleep(2)\n",
    "\n",
    "    except ValueError:\n",
    "        print('Lütfen sayiyi sayi formatinda giriniz. Örnegin: \\'yüz\\' seklinde degil, 100 seklinde.')\n",
    "        continue\n",
    "\n",
    "    sayac += 1\n",
    "\n",
    "    if sayac == 7:\n",
    "        print(f'7 hakkiniz bitti, aklimdaki sayiyi {sayi} olarak belirlemistim.')\n",
    "        break\n",
    "\n",
    "    if sayi == tahmin:\n",
    "        print(f'Girdiginiz sayi dogru, {sayac}\\'kerede bildiniz.')\n",
    "        break\n",
    "    \n",
    "    elif sayi > tahmin:\n",
    "        print(f'Girdiginiz sayi {tahmin}, tahmininizi arttirin.')\n",
    "        \n",
    "\n",
    "    elif sayi < tahmin:\n",
    "        print(f'Girdiginiz sayi {tahmin}, tahmininizi azaltin.')\n"
   ]
  },
  {
   "cell_type": "code",
   "execution_count": null,
   "metadata": {},
   "outputs": [],
   "source": [
    "# Diger cözümüm:\n",
    "\n",
    "import time\n",
    "import random\n",
    "\n",
    "bilgisayar_sayi = random.randint(1, 100)\n",
    "\n",
    "\n",
    "sayac = 0\n",
    "time.sleep(2)\n",
    "\n",
    "while True:\n",
    "    kullanici_sayisi = int(input('Aklimdaki sayiyi tahmin et :)'))\n",
    "    \n",
    "    sayac += 1\n",
    "\n",
    "    if sayac == 7:\n",
    "        print('Size verilen 7 deneme hakkinda aklimdaki sayiyi bulamadiniz :(')\n",
    "        break\n",
    "\n",
    "    if bilgisayar_sayi > kullanici_sayisi:\n",
    "        print('Lütfen tahminini arttir!')\n",
    "        \n",
    "    elif bilgisayar_sayi < kullanici_sayisi:\n",
    "        print('Lütfen tahminini azalt!')\n",
    "        \n",
    "    elif bilgisayar_sayi == kullanici_sayisi:\n",
    "        print(f'Tebrikler! {sayac} kerede bildiniz! Aklimdaki sayi {bilgisayar_sayi}\\'di.')\n",
    "        break\n",
    "\n",
    "    \n"
   ]
  },
  {
   "cell_type": "markdown",
   "metadata": {},
   "source": [
    "## for loop\n",
    "\n",
    "Python'da **for** döngüsü **list, tuple, set, range, vb.** gibi dizi türleri üzerinde yineleme yapmak için kullanilir.\n",
    "\n",
    "for döngüsünün gövdesi, dizideki her üye eleman icin yürütülür. Bu nedenle, döngüyü kontrol eden bir boolean ifadesinin (while döngüsünde oldugu gibi) acik bir sekilde dogrulanmasini gerektirmez."
   ]
  },
  {
   "cell_type": "code",
   "execution_count": null,
   "metadata": {},
   "outputs": [],
   "source": [
    "for i in \"techpro\":\n",
    "    print(i)"
   ]
  },
  {
   "cell_type": "code",
   "execution_count": null,
   "metadata": {},
   "outputs": [],
   "source": [
    "for i in [\"ahmet\", \"sükrü\", \"alperen\", \"burcu\"]:\n",
    "    print(i.capitalize())"
   ]
  },
  {
   "cell_type": "markdown",
   "metadata": {},
   "source": [
    "# DERS 18_10_2024 "
   ]
  },
  {
   "cell_type": "code",
   "execution_count": null,
   "metadata": {},
   "outputs": [],
   "source": [
    "dict1 = {\"name\": \"Hasan\", \"surname\": \"Kesekagidi\", \"age\": 26}\n",
    "dict1"
   ]
  },
  {
   "cell_type": "code",
   "execution_count": null,
   "metadata": {},
   "outputs": [],
   "source": [
    "# Default olarak keyleri cagirir.\n",
    "\n",
    "for i in dict1:\n",
    "    print(i)"
   ]
  },
  {
   "cell_type": "code",
   "execution_count": null,
   "metadata": {},
   "outputs": [],
   "source": [
    "for i in dict1.values():\n",
    "    print(i)"
   ]
  },
  {
   "cell_type": "code",
   "execution_count": null,
   "metadata": {},
   "outputs": [],
   "source": [
    "for i in dict1.items():\n",
    "    print(i)"
   ]
  },
  {
   "cell_type": "code",
   "execution_count": null,
   "metadata": {},
   "outputs": [],
   "source": [
    "for i, j in dict1.items():\n",
    "    print(f\"key: {i}, value: {j}\")"
   ]
  },
  {
   "cell_type": "code",
   "execution_count": null,
   "metadata": {},
   "outputs": [],
   "source": [
    "for key, value in dict1.items():\n",
    "    print(f\"key: {key:<10}, value: {value}\")"
   ]
  },
  {
   "cell_type": "code",
   "execution_count": null,
   "metadata": {},
   "outputs": [],
   "source": [
    "for i, j in dict1.items():\n",
    "    print(f\"key: {i:>10}, value: {j}\")"
   ]
  },
  {
   "cell_type": "code",
   "execution_count": null,
   "metadata": {},
   "outputs": [],
   "source": [
    "for i, j in dict1.items():\n",
    "    print(f\"key: {i:^10}, value: {j}\")"
   ]
  },
  {
   "cell_type": "markdown",
   "metadata": {},
   "source": [
    "## range()\n",
    "\n",
    "range(start, stop, step) -> step varsayilan 1'dir."
   ]
  },
  {
   "cell_type": "markdown",
   "metadata": {},
   "source": [
    "range() fonksiyonu, belirli bir araliktaki sayilar arasinda gezinmeyi saglayan bir fonksiyondur. Genellikle döngülerde (for döngüsü gibi) kullanilir. Bu fonksiyon, belirli bir baslangic, bitis ve adim (step) degeriyle araliktaki sayilar üzerinde iterasyon (tekrarlama) yapmani saglar.\n",
    "\n",
    "list() fonksiyonu, iterable olan range() nesnesini alip, onun icindeki tüm sayilari bir listeye dönüstürür. Liste, tüm sayilari bellekte saklayan bir veri yapisidir. Bu sayede, sayilari görebilmek icin range() nesnesini bir listeye dönüstürmemiz gerekir."
   ]
  },
  {
   "cell_type": "code",
   "execution_count": null,
   "metadata": {},
   "outputs": [],
   "source": [
    "range(5)"
   ]
  },
  {
   "cell_type": "code",
   "execution_count": null,
   "metadata": {},
   "outputs": [],
   "source": [
    "# range(0, 5) demektir. Range'de baslangic dahil bitis dahil degildir.\n",
    "\n",
    "print(list(range(5)))"
   ]
  },
  {
   "cell_type": "code",
   "execution_count": null,
   "metadata": {},
   "outputs": [],
   "source": [
    "for i in range(5):\n",
    "    print(i)"
   ]
  },
  {
   "cell_type": "code",
   "execution_count": null,
   "metadata": {},
   "outputs": [],
   "source": [
    "# 10'dan 1'e kadar olan sayilari yazdirin.\n",
    "\n",
    "for i in range(10, 0, -1):\n",
    "    print(i)"
   ]
  },
  {
   "cell_type": "code",
   "execution_count": null,
   "metadata": {},
   "outputs": [],
   "source": [
    "# Kullanicidan 1-9 arasinda bir rakam isteyin. O sayiya ait çarpim tablosunu olusturun.\n",
    "\n",
    "number = int(input(\"1 ile 9 arasinda bir sayi giriniz(1 ve 9 dahil):\"))\n",
    "\n",
    "if 1 <= number <= 9:\n",
    "    for i in range(1, 11):\n",
    "        print(f\"{number} x {i} = {number * i}\")\n",
    "        \n",
    "else:\n",
    "    print(\"1 ile 9 arasinda bir sayi girmediniz.\")"
   ]
  },
  {
   "cell_type": "code",
   "execution_count": null,
   "metadata": {},
   "outputs": [],
   "source": [
    "# Benim cözümüm:\n",
    "\n",
    "x = True\n",
    "while x:\n",
    "    \n",
    "    try:\n",
    "        sayi = int(input('Lütfen 1 - 9 araliginda (dahil) bir sayi giriniz:'))\n",
    "    \n",
    "        if 1 <= sayi <= 9:\n",
    "            x = False\n",
    "\n",
    "        else:\n",
    "            print('Lütfen 1 ile 9 (dahil) arasinda bir rakam giriniz:')\n",
    "\n",
    "    except ValueError:\n",
    "        print('Lütfen 1 ile 9 (dahil) rakami sayi formatinda giriniz.')\n",
    "\n",
    "for i in range(1, 11):\n",
    "    print('{} x {} = {}'.format(sayi, i, sayi * i))"
   ]
  },
  {
   "cell_type": "code",
   "execution_count": null,
   "metadata": {},
   "outputs": [],
   "source": [
    "text = input(\"Bir metin giriniz:\")\n",
    "vowels = \"aeıioöuüAEIİOÖUÜ\"\n",
    "\n",
    "for char in text:\n",
    "    if char in vowels:\n",
    "        print(char)"
   ]
  },
  {
   "cell_type": "code",
   "execution_count": null,
   "metadata": {},
   "outputs": [],
   "source": [
    "# Kullanicidan bir sayi alin ve bu sayinin asal olup olmadigini kontrol edin.\n",
    "\n",
    "num = int(input(\"Bir sayi giriniz:\")) \n",
    "\n",
    "if num > 1:\n",
    "    for i in range(2, num):\n",
    "        if num % i == 0:\n",
    "            print(f\"{num} asal sayi degildir.\")\n",
    "            break\n",
    "    else:\n",
    "        print(f\"{num} asal sayidir.\")\n",
    "else:\n",
    "    print(f\"{num} asal sayi değildir.\")"
   ]
  },
  {
   "cell_type": "markdown",
   "metadata": {},
   "source": [
    "# DERS 19_10_2024 "
   ]
  },
  {
   "cell_type": "code",
   "execution_count": null,
   "metadata": {},
   "outputs": [],
   "source": [
    "# Bir sayinin basamaklarinin toplamini bulma\n",
    "# Kullanicidan bir sayi alin ve bu sayinin basamaklarinin toplamini bulan bir Python programi yazin."
   ]
  },
  {
   "cell_type": "code",
   "execution_count": null,
   "metadata": {},
   "outputs": [],
   "source": [
    "# 1. CÖZÜM METHODU:\n",
    "\n",
    "num = input('Lütfen bir sayi girin')\n",
    "total = 0\n",
    "\n",
    "if num.isnumeric():\n",
    "    \n",
    "    for i in num: #'345'\n",
    "        total += int(i)\n",
    "    \n",
    "    print(f'Girdiginiz sayi: {num} basamaklari toplami {total}') \n",
    "\n",
    "else:\n",
    "    print('Verdiginiz deger numeric olmalidir.') "
   ]
  },
  {
   "cell_type": "code",
   "execution_count": null,
   "metadata": {},
   "outputs": [],
   "source": [
    "# 2. CÖZÜM METHODU:\n",
    "\n",
    "num = input('Lütfen bir sayi girin')\n",
    "total = 0\n",
    "x = 0 # x'i index olarak kullaniyoruz.\n",
    "\n",
    "if num.isnumeric():\n",
    "    \n",
    "    while x < len(num):\n",
    "        total += int(num[x])\n",
    "        x += 1\n",
    "    \n",
    "    print(f'num: {num} total: {total}')    \n",
    "\n",
    "else:\n",
    "    print('Verdiginiz deger numeric olmalidir.')   "
   ]
  },
  {
   "cell_type": "code",
   "execution_count": null,
   "metadata": {},
   "outputs": [],
   "source": [
    "# 3. CÖZÜM METHODU:\n",
    "\n",
    "num = input('Lütfen bir sayi girin')\n",
    "total = 0\n",
    "nums = []\n",
    "x = 0 # x'i index olarak kullaniyoruz.\n",
    "\n",
    "if num.isnumeric():\n",
    "\n",
    "    while x < len(num):\n",
    "        nums.append(int(num[x])) # Elemanlari integera cevirip listeye teker teker ekledik.\n",
    "        x += 1\n",
    "\n",
    "    total = sum(nums)  # sum fonksiyonu listenin elemanlarini toplar ve döndürür.  \n",
    "\n",
    "    print(f'num: {num} total: {total}')    \n",
    "\n",
    "else:\n",
    "    print('Verdiginiz deger numeric olmalidir.')   "
   ]
  },
  {
   "cell_type": "code",
   "execution_count": null,
   "metadata": {},
   "outputs": [],
   "source": [
    "# Elemanlarin toplamini döndürür. \n",
    "\n",
    "a = [2, 3, 4, 5, 6, 8, 45, 12, 68, 89]\n",
    "sum(a) "
   ]
  },
  {
   "cell_type": "code",
   "execution_count": null,
   "metadata": {},
   "outputs": [],
   "source": [
    "# 4. CÖZÜM METHODU:\n",
    "\n",
    "num = input('Lütfen bir sayi girin')\n",
    "total = 0\n",
    "\n",
    "if num.isnumeric():\n",
    "    num = int(num)\n",
    "    \n",
    "    while num > 0:\n",
    "        total += num % 10\n",
    "        num //= 10 # Sonucu integer alabilmek icin // kullandik.\n",
    "    \n",
    "    print(f'total {total}')    \n",
    "    \n",
    "else:\n",
    "    print('Verdiginiz deger numeric olmalidir.')"
   ]
  },
  {
   "cell_type": "code",
   "execution_count": null,
   "metadata": {},
   "outputs": [],
   "source": [
    "# Benim cözümüm:\n",
    "\n",
    "try:\n",
    "    sayi = int(input('Lütfen bir sayi giriniz:'))\n",
    "\n",
    "    toplam = 0\n",
    "\n",
    "    while sayi > 0:\n",
    "        toplam += sayi % 10\n",
    "        sayi //= 10\n",
    "\n",
    "    print(toplam) \n",
    "\n",
    "except ValueError:\n",
    "    print('Lütfen sayiyi sayi formunda giriniz, yazi formunda degil.')"
   ]
  },
  {
   "cell_type": "code",
   "execution_count": null,
   "metadata": {},
   "outputs": [],
   "source": [
    "# Asagidaki soruyu daha iyi anlamak icin, dict'lerin eleman eklemedeki su özelligini bilmemiz lazim:\n",
    "\n",
    "meyveler = {}\n",
    "\n",
    "meyveler['Elma'] = 5\n",
    "\n",
    "meyveler"
   ]
  },
  {
   "cell_type": "code",
   "execution_count": null,
   "metadata": {},
   "outputs": [],
   "source": [
    "# Denizlerin Sicaklik Tahmini\n",
    "# Bir deniz listesi olusturun.\n",
    "# denizler = ['Akdeniz', 'Ege Denizi', 'Karadeniz', 'Marmara Denizi', 'Adriyatik Denizi']\n",
    "# durumlar = ['Durgun', 'Dalgali', 'Firtinali']\n",
    "# Her deniz icin rastgele bir sicaklik degeri (10°C ile 30°C arasinda) ve durumu (durgun, dalgali, firtinali) secin.\n",
    "# Sicakliklari ve denizin durumunu bir sözlükte saklayin. Genislikleri göze hos gelecek sekilde ayarlayin.\n",
    "# {akdeniz = {sicaklik = 25, durum = durgun}, karadeniz = {}}\n",
    "\n",
    "import random\n",
    "sea_list = ['Akdeniz', 'Ege Denizi', 'Karadeniz', 'Marmara Denizi', 'Adriyatik Denizi']\n",
    "forecast = ['Durgun', 'Dalgali', 'Firtinali']\n",
    "\n",
    "sea_dict = {} # dict\n",
    "\n",
    "for sea in sea_list:\n",
    "\n",
    "    sea_dict[sea] = {'sicaklik': random.randint(10, 30), 'durum' : random.choice(forecast) } # nested oldugu icin\n",
    "\n",
    "for sea, bilgi in sea_dict.items():\n",
    "\n",
    "    print(f\"Deniz ismi: {sea:<20}, sicakligi: {bilgi['sicaklik']:>5}, durumu: {bilgi['durum']:^20}\")\n",
    "\n",
    "\n",
    "    # :< sola hizala\n",
    "    # :> saga hizala \n",
    "    # :^ ortala"
   ]
  },
  {
   "cell_type": "code",
   "execution_count": null,
   "metadata": {},
   "outputs": [],
   "source": [
    "# Benim cözümüm:\n",
    "\n",
    "import random\n",
    "\n",
    "denizler = ['Akdeniz', 'Ege Denizi', 'Karadeniz', 'Marmara Denizi', 'Adriyatik Denizi']\n",
    "durumlar = ['Durgun', 'Dalgali', 'Firtinali']\n",
    "\n",
    "hava_durumu = {}\n",
    "\n",
    "# Denizi rastgele sectiremeyiz cünkü acikta deniz kalabilir.\n",
    "\n",
    "for deniz in denizler:\n",
    "    hava_durumu[deniz] = {'durumlar':random.choice(durumlar), 'sicaklik': random.randint(10, 30)}\n",
    "\n",
    "# Yukaridaki ciktiyi düzeltmek icin bunu yapalim:\n",
    "# sep parametresi, yalnizca print() fonksiyonuna birden fazla argüman verildiginde\n",
    "# her bir argüman arasina ayrac koymak icin kullanilir.\n",
    "# sep, f-string icinde dogrudan kullanıldıgında calismaz, cünkü f-string zaten tek bir argüman olarak print() fonksiyonuna verilmektedir.\n",
    "\n",
    "for i, j in hava_durumu.items():\n",
    "    print(f'Deniz: {i:^16}', f'durum: {j[\"durumlar\"]:^9}', f'sicaklik: {j[\"sicaklik\"]:^5}', sep = \"   |   \")"
   ]
  },
  {
   "cell_type": "code",
   "execution_count": null,
   "metadata": {},
   "outputs": [],
   "source": [
    "# Baskent Bilme Oyunu \n",
    "# ülke random gelsin, baskenti biz yazalim, dogru ise bildiniz degilse tekrar deneyiniz desin ve bu loop ile devam etsin.\n",
    "\n",
    "country_capitals = {\n",
    "    'Türkiye': 'Ankara',\n",
    "    'Fransa': 'Paris',\n",
    "    'Almanya': 'Berlin',\n",
    "    'İtalya': 'Roma',\n",
    "    'İspanya': 'Madrid',\n",
    "    'Portekiz': 'Lizbon',\n",
    "    'Hollanda': 'Amsterdam',\n",
    "    'Belcika': 'Brüksel',\n",
    "    'İsvicre': 'Bern',\n",
    "    'Avusturya': 'Viyana',\n",
    "    'Yunanistan': 'Atina',\n",
    "    'İngiltere': 'Londra',\n",
    "    'İsvec': 'Stockholm',\n",
    "    'Norvec': 'Oslo',\n",
    "    'Danimarka': 'Kopenhag',\n",
    "    'Finlandiya': 'Helsinki',\n",
    "    'Rusya': 'Moskova',\n",
    "    'Cin': 'Pekin',\n",
    "    'Japonya': 'Tokyo',\n",
    "    'Hindistan': 'Yeni Delhi'\n",
    "}\n",
    "\n",
    "import random\n",
    "\n",
    "while True:\n",
    "    country, capital = random.choice(list(country_capitals.items()))\n",
    "    capital_guess = input(f'{country} ülkesinin baskentini giriniz, cikmak icin e ye basiniz').strip()\n",
    "\n",
    "    if capital == capital_guess.title():\n",
    "        print(f'Dogru bildiniz {country}, {capital}')\n",
    "        break\n",
    "    elif capital_guess.lower() == 'e':\n",
    "        print('Cikis yapiliyor...')\n",
    "        break\n",
    "    else:\n",
    "        print('Tekrar deneyiniz.')"
   ]
  },
  {
   "cell_type": "code",
   "execution_count": null,
   "metadata": {},
   "outputs": [],
   "source": [
    "# Benim cözümüm:\n",
    "\n",
    "country_capitals = {\n",
    "    'Türkiye': 'Ankara',\n",
    "    'Fransa': 'Paris',\n",
    "    'Almanya': 'Berlin',\n",
    "    'İtalya': 'Roma',\n",
    "    'İspanya': 'Madrid',\n",
    "    'Portekiz': 'Lizbon',\n",
    "    'Hollanda': 'Amsterdam',\n",
    "    'Belcika': 'Brüksel',\n",
    "    'İsvicre': 'Bern',\n",
    "    'Avusturya': 'Viyana',\n",
    "    'Yunanistan': 'Atina',\n",
    "    'İngiltere': 'Londra',\n",
    "    'İsvec': 'Stockholm',\n",
    "    'Norvec': 'Oslo',\n",
    "    'Danimarka': 'Kopenhag',\n",
    "    'Finlandiya': 'Helsinki',\n",
    "    'Rusya': 'Moskova',\n",
    "    'Cin': 'Pekin',\n",
    "    'Japonya': 'Tokyo',\n",
    "    'Hindistan': 'Yeni Delhi'\n",
    "}\n",
    "\n",
    "import random\n",
    "import time\n",
    "\n",
    "keys_list = list(country_capitals.keys())\n",
    "ülke = random.choice(keys_list)\n",
    "\n",
    "while True:\n",
    "    sehir = input(f'{ülke} ülkesinin baskenti nedir? Oyunu sonlandirmak icin \\'e\\'ye basiniz.').lower()\n",
    "\n",
    "    if country_capitals[ülke] == sehir.capitalize():\n",
    "        print('{} ülkesinin sehrini {} olarak dogru bildiniz. Tebrikler'.format(ülke, sehir))\n",
    "        break\n",
    "    \n",
    "    elif sehir == 'e':\n",
    "        print('Cikis yapiliyor...')\n",
    "        time.sleep(1)\n",
    "        print('Basariyla cikis yapildi!')\n",
    "        break\n",
    "    \n",
    "    else:\n",
    "        print(f'{ülke} ülkesinin sehrini yanlis tahmin ettiniz. Lütfen tekrar deneyiniz.')\n"
   ]
  },
  {
   "cell_type": "markdown",
   "metadata": {},
   "source": [
    "# DERS 21_10_2024 "
   ]
  },
  {
   "cell_type": "code",
   "execution_count": null,
   "metadata": {},
   "outputs": [],
   "source": [
    "# Kullanicidan bir sayi alin ve o kadar sayida Fibonacci serisi üretin.\n",
    "\n",
    "n = int(input(\"Kac terimlik Fibonacci serisi istiyorsunuz?:\"))\n",
    "a, b = 0, 1\n",
    "\n",
    "for i in range(n):\n",
    "    print(a , end=\" \")\n",
    "    a, b = b, a + b"
   ]
  },
  {
   "cell_type": "code",
   "execution_count": null,
   "metadata": {},
   "outputs": [],
   "source": [
    "# Kullanicidan bir sayi alin ve sayiyi ters cevirin.\n",
    "\n",
    "num = input(\"Bir sayi giriniz:\")\n",
    "reversed_num = \"\"\n",
    "\n",
    "for digit in num:\n",
    "    reversed_num = digit + reversed_num\n",
    "    \n",
    "print(f\"{num} sayisinin tersi: {reversed_num}\")"
   ]
  },
  {
   "cell_type": "markdown",
   "metadata": {},
   "source": [
    "## Nested for loop\n",
    "\n",
    "Bir döngü (for döngüsü veya while döngüsü) gövde blogunda başka bir döngü iceriyorsa, iki döngünün ic ice oldugunu söyleriz. Dis döngü m yineleme ve iç döngü n tekrarlama gerceklestirecek sekilde tasarlanmissa, ic döngünün gövde blogu m x n kez yürütülecektir."
   ]
  },
  {
   "cell_type": "code",
   "execution_count": null,
   "metadata": {},
   "outputs": [],
   "source": [
    "for x in range(1, 5):\n",
    "    for y in range(1, 4):\n",
    "        print(f\"x: {x}, y: {y}\")"
   ]
  },
  {
   "cell_type": "code",
   "execution_count": null,
   "metadata": {},
   "outputs": [],
   "source": [
    "# Bir carpim tablosu olusturmak istiyorsunuz.\n",
    "# Carpım tablosu 1'den 10'a kadar olan sayilarin carpimlarini icermelidir.\n",
    "\n",
    "for i in range(1, 11):\n",
    "    for j in range(1, 11):\n",
    "        print(f\"{i:<2} x {j:>2} = {i * j:<2}\")\n",
    "    print()"
   ]
  },
  {
   "cell_type": "code",
   "execution_count": null,
   "metadata": {},
   "outputs": [],
   "source": [
    "# Bir kare desen (pattern) olusturmak istiyoruz.\n",
    "\n",
    "boyut = int(input(\"Kare deseni icin boyut giriniz:\"))\n",
    "\n",
    "for i in range(boyut):\n",
    "    for j in range(boyut):\n",
    "        print(\"*\", end=\" \")\n",
    "    print()"
   ]
  },
  {
   "cell_type": "code",
   "execution_count": null,
   "metadata": {},
   "outputs": [],
   "source": [
    "# Ücgen icin de yapalim:\n",
    "\n",
    "yükseklik = int(input(\"Üçgen deseni icin yükseklik giriniz:\"))\n",
    "\n",
    "for i in range(1, yükseklik + 1):\n",
    "    for j in range(i):\n",
    "        print(\"*\", end=\" \")\n",
    "    print()"
   ]
  },
  {
   "cell_type": "markdown",
   "metadata": {},
   "source": [
    "## List Comprehension"
   ]
  },
  {
   "cell_type": "code",
   "execution_count": null,
   "metadata": {},
   "outputs": [],
   "source": [
    "liste = [1, 2, 3, 4, 5]\n",
    "\n",
    "empty_list = []\n",
    "\n",
    "for i in liste:\n",
    "    empty_list.append(i ** 2)\n",
    "    \n",
    "print(empty_list)"
   ]
  },
  {
   "cell_type": "code",
   "execution_count": null,
   "metadata": {},
   "outputs": [],
   "source": [
    "[i ** 2 for i in liste]"
   ]
  },
  {
   "cell_type": "code",
   "execution_count": null,
   "metadata": {},
   "outputs": [],
   "source": [
    "sayilar_listesi = [1, 15, 2, 36, 5, 89, 45, 62, 52, 71, 30, 56, 45, 95, 61, 48]\n",
    "\n",
    "tek_sayilar = []\n",
    "\n",
    "for i in sayilar_listesi:\n",
    "    if i % 2:\n",
    "        tek_sayilar.append(i)\n",
    "        \n",
    "print(tek_sayilar)"
   ]
  },
  {
   "cell_type": "code",
   "execution_count": null,
   "metadata": {},
   "outputs": [],
   "source": [
    "# for + if oldugunda if cümlesi for cümlesinin sagina, islemse for cümlesinin soluna yazilir.\n",
    "\n",
    "tek_sayilar = [i for i in sayilar_listesi if i % 2] \n",
    "tek_sayilar"
   ]
  },
  {
   "cell_type": "markdown",
   "metadata": {},
   "source": [
    "# DERS 22_10_2024"
   ]
  },
  {
   "cell_type": "code",
   "execution_count": null,
   "metadata": {},
   "outputs": [],
   "source": [
    "# Yeni bir liste olusturacagiz, ciftler aynen kalacak, teklerin karesi alinacak.\n",
    "\n",
    "sayilar_listesi = [1, 15, 2, 36, 5, 89, 45, 62, 52, 71, 30, 56, 45, 95, 61, 48]\n",
    "\n",
    "sonuc = []\n",
    "\n",
    "for i in sayilar_listesi:\n",
    "    if i % 2 == 0:\n",
    "        sonuc.append(i)\n",
    "        \n",
    "    else:\n",
    "        sonuc.append(i ** 2)\n",
    "        \n",
    "print(sonuc)"
   ]
  },
  {
   "cell_type": "code",
   "execution_count": null,
   "metadata": {},
   "outputs": [],
   "source": [
    "# for + if + else kullanilacaksa, for cümlesi en saga yazilir. Diger islemler solda olmalidir.\n",
    "# if'in islemi if'in solunda, else'in islemi else'in sagında olmalidir.\n",
    "\n",
    "sonuc = [i if i % 2 == 0 else i ** 2 for i in sayilar_listesi]\n",
    "sonuc"
   ]
  },
  {
   "cell_type": "code",
   "execution_count": null,
   "metadata": {},
   "outputs": [],
   "source": [
    "for i in (1, 2, 3):\n",
    "    for j in [4, 5, 6]:\n",
    "        print(i * j)"
   ]
  },
  {
   "cell_type": "code",
   "execution_count": null,
   "metadata": {},
   "outputs": [],
   "source": [
    "[i * j for i in (1, 2, 3) for j in [4, 5, 6]]"
   ]
  },
  {
   "cell_type": "code",
   "execution_count": null,
   "metadata": {},
   "outputs": [],
   "source": [
    "# karakterler = ['a', 'b', '1', '2', 'c'] karakterleri sayi ve harf olarak ayirin. Eger karakter bir sayiysa listeye karesini ekleyin, harfse ayni sekilde listeye ekleyin.\n",
    "\n",
    "karakterler = ['a', 'b', '1', '2', 'c']\n",
    "\n",
    "[int(i) ** 2 if i.isdigit() else i for i in karakterler]"
   ]
  },
  {
   "attachments": {
    "2.png": {
     "image/png": "[encoded data removed]"
    }
   },
   "cell_type": "markdown",
   "metadata": {},
   "source": [
    "![2.png](attachment:2.png)"
   ]
  },
  {
   "cell_type": "markdown",
   "metadata": {},
   "source": [
    "## Functions"
   ]
  },
  {
   "cell_type": "markdown",
   "metadata": {},
   "source": [
    "Python'da fonksiyonlar, belirli bir görevi yerine getiren, tekrar kullanilabilir kod bloklaridir. Fonksiyonlar, kodunuzu daha modüler, okunabilir ve yönetilebilir hale getirir. Ayrica, kodun tekrarlanmasini önler ve hata yapma olasiligini azaltir.\n",
    "\n",
    "Fonksiyonların Olusturulmasi ve İlgili Terminoloji\n",
    "\n",
    "    Fonksiyon Tanimi (Definition): Bir fonksiyon tanimlamak icin def anahtar kelimesi kullanilir.\n",
    "    Fonksiyon Adi (Function Name): Fonksiyonu cagirmak icin kullanilan isimdir.\n",
    "    Parametreler (Parameters): Fonksiyonun aldigi girdilerdir. Parantez icinde belirtilirler.\n",
    "    Fonksiyon Gövdesi (Function Body): Fonksiyonun calistirdigi kod blogudur. Girintili olarak yazilir.\n",
    "    Geri Dönüs Degeri (Return Value): Fonksiyonun sonuc olarak döndürdügü degerdir, return anahtar kelimesi ile belirtilir."
   ]
  },
  {
   "cell_type": "code",
   "execution_count": null,
   "metadata": {},
   "outputs": [],
   "source": [
    "def my_len(x):\n",
    "\n",
    "    \"\"\"len() fonksiyonunu begenmedim\n",
    "    kendi fonksiyonumu yazacagim.\"\"\"\n",
    "    \n",
    "    return sum([1 for _ in x])\n",
    "\n",
    "my_len('Süha')"
   ]
  },
  {
   "cell_type": "code",
   "execution_count": null,
   "metadata": {},
   "outputs": [],
   "source": [
    "# for ile de yazalim:\n",
    "\n",
    "def my_len_for(x):\n",
    "\n",
    "    \"\"\"len() fonksiyonunu begenmedim\n",
    "    kendi fonksiyonumu yazacagim.\"\"\"\n",
    "\n",
    "    sayac = 0\n",
    "\n",
    "    for i in x:\n",
    "        sayac += 1\n",
    "\n",
    "    return sayac"
   ]
  },
  {
   "cell_type": "code",
   "execution_count": null,
   "metadata": {},
   "outputs": [],
   "source": [
    "def my_len_int(x):\n",
    "\n",
    "    \"\"\"len() fonksiyonunu int degerlerin\n",
    "    uzunlugunu bulmadigi icin bu fonksiyonu yazdim.\"\"\"\n",
    "\n",
    "    return sum([1 for _ in str(x)])\n",
    "\n",
    "my_len_int(1234)"
   ]
  },
  {
   "cell_type": "code",
   "execution_count": null,
   "metadata": {},
   "outputs": [],
   "source": [
    "def my_len_int_for(x):\n",
    "\n",
    "    \"\"\"len() fonksiyonunu int degerlerin\n",
    "    uzunlugunu bulmadigi icin bu fonksiyonu yazdim.\"\"\"\n",
    "\n",
    "    sayac = 0\n",
    "    for i in str(x):\n",
    "        sayac += 1\n",
    "    \n",
    "    return sayac"
   ]
  },
  {
   "attachments": {
    "1.png": {
     "image/png": "[encoded data removed]"
    }
   },
   "cell_type": "markdown",
   "metadata": {},
   "source": [
    "![1.png](attachment:1.png)"
   ]
  },
  {
   "cell_type": "markdown",
   "metadata": {},
   "source": [
    "**Yukarida görüldügü gibi bir fonksiyonu yazmak icin parantez actigimizda, fonksiyonun aciklamasini yani docstring'ini gösterir. Veya help fonksiyonunu asagidaki gibi kullanabiliriz.**"
   ]
  },
  {
   "cell_type": "code",
   "execution_count": null,
   "metadata": {},
   "outputs": [],
   "source": [
    "help(my_len_int_for)"
   ]
  },
  {
   "cell_type": "code",
   "execution_count": null,
   "metadata": {},
   "outputs": [],
   "source": [
    "def kareler_toplami(x, y):\n",
    "    \n",
    "    print(x ** 2 + y ** 2)"
   ]
  },
  {
   "cell_type": "code",
   "execution_count": null,
   "metadata": {},
   "outputs": [],
   "source": [
    "kareler_toplami(3, 4)"
   ]
  },
  {
   "cell_type": "code",
   "execution_count": null,
   "metadata": {},
   "outputs": [],
   "source": [
    "# None verdi dikkat et, bu printin bir tipinin olmadigini gösterir.\n",
    "\n",
    "print(kareler_toplami(3, 4))"
   ]
  },
  {
   "cell_type": "code",
   "execution_count": null,
   "metadata": {},
   "outputs": [],
   "source": [
    "# print ile tanimladigimiz fonksiyonlarla sonradan islem yapacaksak böyle hata aliriz, cünkü bir tipi yoktur.\n",
    "# Sonrasinda islem yapacaksak print degil return kullanmamiz mantikli olur.\n",
    "\n",
    "kareler_toplami(3, 4) + 5"
   ]
  },
  {
   "cell_type": "code",
   "execution_count": null,
   "metadata": {},
   "outputs": [],
   "source": [
    "def kareler_toplami2(x, y):\n",
    "    \n",
    "    return x ** 2 + y ** 2"
   ]
  },
  {
   "cell_type": "code",
   "execution_count": null,
   "metadata": {},
   "outputs": [],
   "source": [
    "kareler_toplami2(3, 4) + 5"
   ]
  },
  {
   "cell_type": "markdown",
   "metadata": {},
   "source": [
    "## Python'da Fonksiyon Parametreleri\n",
    "\n",
    "Parametreler, bir fonksiyon tanimlandiginda parantez icinde belirtilen degiskenlerdir. Bu degiskenler, fonksiyon cagrildiginda aldigi girdileri temsil eder. Argümanlar ise fonksiyon cagrildiginda bu parametrelere gecirilen gercek degerlerdir.\n",
    "\n",
    "**Parametreler ve Argümanlar Arasindaki Fark**\n",
    "\n",
    "* Parametreler: Fonksiyonun taniminda belirtilen degiskenlerdir.\n",
    "* Argümanlar: Fonksiyon cagrildiginda bu parametrelere verilen degerlerdir."
   ]
  },
  {
   "cell_type": "code",
   "execution_count": null,
   "metadata": {},
   "outputs": [],
   "source": [
    "def toplama(a, b): # a ve b birer parametredir.\n",
    "    \n",
    "    return a + b\n",
    "\n",
    "sonuc = toplama(3, 5) # 3 ve 5 birer argümandır.\n",
    "\n",
    "print(sonuc)"
   ]
  },
  {
   "cell_type": "markdown",
   "metadata": {},
   "source": [
    "### Parametre Türleri\n",
    "\n",
    "1. Konumsal Parametreler (Positional Arguments): \n",
    "\n",
    "Konumsal argümanlar, bir fonksiyona gecerken sirasina göre degerlendirilen argümanlardir. Yani, argümanlar, fonksiyon taniminda belirtilen parametrelerin sirasina göre yerlestirilir."
   ]
  },
  {
   "cell_type": "code",
   "execution_count": null,
   "metadata": {},
   "outputs": [],
   "source": [
    "def merhaba(isim, yas):\n",
    "\n",
    "    print(f\"Merhaba {isim}, {yas} yasindasiniz.\")"
   ]
  },
  {
   "cell_type": "code",
   "execution_count": null,
   "metadata": {},
   "outputs": [],
   "source": [
    "merhaba('Süha', 33)"
   ]
  },
  {
   "cell_type": "code",
   "execution_count": null,
   "metadata": {},
   "outputs": [],
   "source": [
    "merhaba(33, 'Süha')"
   ]
  },
  {
   "cell_type": "markdown",
   "metadata": {},
   "source": [
    "2. Varsayilan Parametreler: Varsayilan bir degere sahiptir ve opsiyoneldir."
   ]
  },
  {
   "cell_type": "code",
   "execution_count": null,
   "metadata": {},
   "outputs": [],
   "source": [
    "def merhaba(isim = \"Ziyaretci\"):\n",
    "\n",
    "    print(f\"Merhaba {isim}!\")"
   ]
  },
  {
   "cell_type": "code",
   "execution_count": null,
   "metadata": {},
   "outputs": [],
   "source": [
    "merhaba()"
   ]
  },
  {
   "cell_type": "code",
   "execution_count": null,
   "metadata": {},
   "outputs": [],
   "source": [
    "merhaba(\"Süha\")"
   ]
  },
  {
   "cell_type": "markdown",
   "metadata": {},
   "source": [
    "3. Anahtar Kelime Parametreler:\n",
    "\n",
    "Anahtar kelime argümanlar, bir fonksiyona gecerken parametre adlari belirtilerek degerlendirilen argümanlardir. Bu sayede, argümanlarin sirasi önemli olmaksizin, hangi degerin hangi parametreye karsilik geldigi acikca belirtilir."
   ]
  },
  {
   "cell_type": "code",
   "execution_count": null,
   "metadata": {},
   "outputs": [],
   "source": [
    "def merhaba(isim, yas):\n",
    "\n",
    "    print(f\"Merhaba {isim}, {yas} yasindasiniz.\")"
   ]
  },
  {
   "cell_type": "code",
   "execution_count": null,
   "metadata": {},
   "outputs": [],
   "source": [
    "merhaba(yas = 33, isim = \"Süha\")"
   ]
  },
  {
   "cell_type": "code",
   "execution_count": null,
   "metadata": {},
   "outputs": [],
   "source": [
    "# Eger parametreler icerisinde default degeri olan bir parametre varsa, hata almamak icin default degerli parametreyi fonksiyon taniminda en sona yazmalisiniz.\n",
    "\n",
    "def your_name(first_name, second_name = \"Ali\", last_name):\n",
    "\n",
    "    print(f\"Your name is {first_name} {second_name} {last_name}\")"
   ]
  },
  {
   "cell_type": "code",
   "execution_count": null,
   "metadata": {},
   "outputs": [],
   "source": [
    "def your_name(first_name, last_name, second_name = \"Ali\"):\n",
    "\n",
    "    print(f\"Your name is {first_name} {second_name} {last_name}\")"
   ]
  },
  {
   "attachments": {
    "9.png": {
     "image/png": "[encoded data removed]"
    }
   },
   "cell_type": "markdown",
   "metadata": {},
   "source": [
    "![9.png](attachment:9.png)"
   ]
  },
  {
   "cell_type": "code",
   "execution_count": null,
   "metadata": {},
   "outputs": [],
   "source": [
    "# Kullanicidan alinan bir sayinin armstrong olup olmadigini denetleme\n",
    "\n",
    "sayi = (input('Lütfen bir sayi giriniz:'))\n",
    "\n",
    "toplam = 0\n",
    "\n",
    "for i in sayi:\n",
    "    toplam += (int(i) ** len(sayi))\n",
    "\n",
    "if toplam == int(sayi):\n",
    "    print('Girdiginiz sayi bir armstrong sayidir')\n",
    "else:\n",
    "    print('Girdiginiz sayi bir armstrong sayi degildir.')"
   ]
  },
  {
   "cell_type": "code",
   "execution_count": null,
   "metadata": {},
   "outputs": [],
   "source": [
    "# def yaparak cözüm:\n",
    "\n",
    "def armstrong(sayi):\n",
    "    \n",
    "    \"\"\"Girilen int bir sayinin bir armstrong sayi olup\n",
    "    olmadigini denetler.\"\"\"\n",
    "\n",
    "    sayi = str(sayi)\n",
    "\n",
    "    if int(sayi) == sum([pow(int(i), len(sayi)) for i in sayi]):\n",
    "        \n",
    "        print(f'{sayi} bir armstrong sayidir.')\n",
    "    \n",
    "    else:\n",
    "\n",
    "        print(f'{sayi} bir armstrong sayi degildir.')\n",
    "    \n"
   ]
  },
  {
   "cell_type": "code",
   "execution_count": null,
   "metadata": {},
   "outputs": [],
   "source": [
    "armstrong(407)"
   ]
  },
  {
   "cell_type": "code",
   "execution_count": null,
   "metadata": {},
   "outputs": [],
   "source": [
    "armstrong(130)"
   ]
  },
  {
   "cell_type": "code",
   "execution_count": null,
   "metadata": {},
   "outputs": [],
   "source": [
    "# Benim cözümüm:\n",
    "\n",
    "def armstrong_tespit(sayi):\n",
    "\n",
    "    '''Armstrong sayilarini tespit fonksiyonu'''\n",
    "\n",
    "    if int(sayi) == sum([pow(int(i), len(str(sayi))) for i in str(sayi)]):\n",
    "        print(f'Girmis oldugunuz sayi {sayi} bir armstrong sayidir.')\n",
    "\n",
    "    else:\n",
    "        print('Girmis oldugunuz sayi {} bir armstrong sayi degildir.'.format(sayi))\n",
    "\n",
    "\n",
    "armstrong_tespit(9474)"
   ]
  },
  {
   "cell_type": "markdown",
   "metadata": {},
   "source": [
    "# DERS 23_10_2024"
   ]
  },
  {
   "cell_type": "markdown",
   "metadata": {},
   "source": [
    "***args** **ve** ****kwargs Nedir ve Ne İse Yarar?**\n",
    "\n",
    "\n",
    "Python'da fonksiyonlari tanimlarken ve cagirirken esneklik saglamak icin *args ve **kwargs kullanilir. Bu iki kavram, bir fonksiyonun degisken sayida argüman almasina olanak tanir.\n",
    "\n",
    "***args Nedir?**\n",
    "\n",
    "*args, bir fonksiyona degisken sayida konumsal (positional) argüman gecirmeyi sağlar. *args kullanarak, kac tane argüman gecireceginizi önceden bilmeniz gerekmez. Fonksiyon, bu argümanlari bir tuple (demet) olarak alir.\n",
    "\n",
    "**Kullanim Alani**\n",
    "\n",
    "Bir fonksiyona birden fazla konumsal argüman gecirmeniz gerektiginde, ancak bu argümanlarin sayisini önceden bilmediginizde *args kullanislidir."
   ]
  },
  {
   "cell_type": "code",
   "execution_count": null,
   "metadata": {},
   "outputs": [],
   "source": [
    "# Tuple gibi davranir.\n",
    "\n",
    "def toplam(*args):\n",
    "    \n",
    "    return sum(args)\n",
    "\n",
    "print(toplam(1, 2, 3))"
   ]
  },
  {
   "cell_type": "code",
   "execution_count": null,
   "metadata": {},
   "outputs": [],
   "source": [
    "toplam(3, 4, 5, 6)"
   ]
  },
  {
   "cell_type": "markdown",
   "metadata": {},
   "source": [
    "****kwargs Nedir?**\n",
    "\n",
    "**kwargs, bir fonksiyona degisken sayida anahtar kelime (keyword) argümani gecirmeyi saglar. **kwargs kullanarak, kac tane anahtar kelime argümani gecireceginizi önceden bilmeniz gerekmez. Fonksiyon, bu argümanlari bir sözlük (dictionary) olarak alir.\n",
    "\n",
    "**Kullanim Alani**\n",
    "\n",
    "Bir fonksiyona birden fazla anahtar kelime argüman gecirmeniz gerektiginde, ancak bu argümanlarin sayisini ve isimlerini önceden bilmediginizde **kwargs kullanislidir."
   ]
  },
  {
   "cell_type": "code",
   "execution_count": null,
   "metadata": {},
   "outputs": [],
   "source": [
    "def bilgiler(**kwargs):\n",
    "    \n",
    "    for anahtar, deger in kwargs.items():\n",
    "        \n",
    "        print(f\"{anahtar}: {deger}\")\n",
    "        \n",
    "bilgiler(ad = \"Ali\", yas = 25, sehir = \"İstanbul\")"
   ]
  },
  {
   "cell_type": "markdown",
   "metadata": {},
   "source": [
    "Python'da * ve ** sembollerinin önemi ve anlami, fonksiyonlarda konumsal ve anahtar kelime argümanlari esnek bir sekilde islemek icin kullanilir. İste bu sembollerin anlami ve neden kullanildigi:\n",
    "\n",
    "***args ve** ****kwargs Sembollerinin Anlami**\n",
    "\n",
    "***args**\n",
    "\n",
    "*args, fonksiyonun herhangi bir sayida konumsal (positional) argüman alabilmesini saglar. * sembolü, fonksiyona gecirilen argümanlarin bir tuple olarak toplanacagini belirtir.\n",
    "\n",
    "Tek Yildiz *: Fonksiyona gecirilecek bir dizi konumsal argümani yakalamak icin kullanilir. Argümanlar tuple olarak toplanir.\n",
    "\n",
    "****kwargs**\n",
    "\n",
    "**kwargs, fonksiyonun herhangi bir sayida anahtar kelime (keyword) argümani alabilmesini saglar. ** sembolü, fonksiyona gecirilen anahtar kelime argümanlarinin bir sözlük (dictionary) olarak toplanacagini belirtir.\n",
    "\n",
    "Cift Yildiz **: Fonksiyona gecirilecek bir dizi anahtar kelime argümanı yakalamak icin kullanilir. Argümanlar sözlük olarak toplanir.\n",
    "\n",
    "**Sembollerin Diger Kullanimlari**\n",
    "\n",
    "'*' ve '**' sembollerinin fonksiyon tanimlarinin disinda da kullanimlari vardir:\n",
    "\n",
    "**Listeleri ve Sözlükleri Acma**\n",
    "\n",
    "Listeleri Acma *: dict harici iterable veri tipini acarak elemanlarini ayri ayri argümanlar olarak gecirme."
   ]
  },
  {
   "cell_type": "code",
   "execution_count": null,
   "metadata": {},
   "outputs": [],
   "source": [
    "# List ile kullanimi\n",
    "\n",
    "def toplama(a, b, c):\n",
    "    return a + b + c"
   ]
  },
  {
   "cell_type": "code",
   "execution_count": null,
   "metadata": {},
   "outputs": [],
   "source": [
    "sayilar = [1, 2, 3]\n",
    "toplama(sayilar)"
   ]
  },
  {
   "cell_type": "code",
   "execution_count": null,
   "metadata": {},
   "outputs": [],
   "source": [
    "sayilar = [1, 2, 3]\n",
    "toplama(*sayilar)"
   ]
  },
  {
   "cell_type": "code",
   "execution_count": null,
   "metadata": {},
   "outputs": [],
   "source": [
    "# Tuple ile kullanimi\n",
    "\n",
    "def carpma(a, b, c):\n",
    "    return a * b * c "
   ]
  },
  {
   "cell_type": "code",
   "execution_count": null,
   "metadata": {},
   "outputs": [],
   "source": [
    "sayilar = (2, 3, 4)\n",
    "carpma(*sayilar)"
   ]
  },
  {
   "cell_type": "code",
   "execution_count": null,
   "metadata": {},
   "outputs": [],
   "source": [
    "# Set ile kullanimi\n",
    "\n",
    "def en_büyük(a, b, c):\n",
    "    return max(a, b, c)"
   ]
  },
  {
   "cell_type": "code",
   "execution_count": null,
   "metadata": {},
   "outputs": [],
   "source": [
    "sayilar = {7, 8, 9}\n",
    "sonuc = en_büyük(*sayilar)\n",
    "sonuc"
   ]
  },
  {
   "cell_type": "markdown",
   "metadata": {},
   "source": [
    "Sözlükleri Acma **: Bir sözlügü acarak anahtar kelime argümanlari olarak gecirme."
   ]
  },
  {
   "cell_type": "code",
   "execution_count": null,
   "metadata": {},
   "outputs": [],
   "source": [
    "def bilgiler(ad, yas, sehir):\n",
    "    print(f\"Ad: {ad}, Yaş: {yas}, Şehir: {sehir}\")"
   ]
  },
  {
   "cell_type": "code",
   "execution_count": null,
   "metadata": {},
   "outputs": [],
   "source": [
    "kisi = {\"ad\": \"Ali\", \"yas\": 25, \"sehir\": \"İstanbul\"}\n",
    "\n",
    "bilgiler(**kisi)"
   ]
  },
  {
   "cell_type": "code",
   "execution_count": null,
   "metadata": {},
   "outputs": [],
   "source": [
    "def karma_fonksiyon(a, b, *args, c=10, **kwargs):\n",
    "    print(f\"a: {a}\")\n",
    "    print(f\"b: {b}\")\n",
    "    print(f\"args: {args}\")\n",
    "    print(f\"c: {c}\")\n",
    "    print(f\"kwargs: {kwargs}\")\n",
    "    \n",
    "karma_fonksiyon(1, 2, 3, 4, d=5, e=6)"
   ]
  },
  {
   "attachments": {
    "10.png": {
     "image/png": "[encoded data removed]"
    }
   },
   "cell_type": "markdown",
   "metadata": {},
   "source": [
    "![10.png](attachment:10.png)"
   ]
  },
  {
   "cell_type": "code",
   "execution_count": null,
   "metadata": {},
   "outputs": [],
   "source": [
    "sözlük_1 = {'Isim': 'Süha', 'Meslek': 'DS', 'Medeni_Durumu': 'Evli'}\n",
    "sözlük_2 = {'Cocuk_durumu': 1, 'Cocugun_Cinsiyeti': 'Kiz'}\n",
    "\n",
    "birlesik_sözlük = {**sözlük_1, **sözlük_2}\n",
    "\n",
    "birlesik_sözlük\n"
   ]
  },
  {
   "cell_type": "code",
   "execution_count": null,
   "metadata": {},
   "outputs": [],
   "source": [
    "sözlük_1 = {'Isim': 'Süha', 'Meslek': 'DS', 'Medeni_Durumu': 'Evli'}\n",
    "sözlük_2 = {**sözlük_1, 'Cocuk_durumu': 2}\n",
    "\n",
    "sözlük_2\n"
   ]
  },
  {
   "cell_type": "code",
   "execution_count": null,
   "metadata": {},
   "outputs": [],
   "source": [
    "# Kendisine verilen sayi dizisinin, tek olanlarin karesini\n",
    "# ve çift olanlarin ise 2 katini alip baska bir listeye ekleyen fonksiyonu yaziniz.\n",
    "\n",
    "def tek_cift(*sayilar):\n",
    "    \n",
    "    result = []\n",
    "    \n",
    "    for i in sayilar:\n",
    "        if i % 2:\n",
    "            result.append(i ** 2)\n",
    "        else:\n",
    "            result.append(i * 2)\n",
    "            \n",
    "            \n",
    "    return result"
   ]
  },
  {
   "cell_type": "code",
   "execution_count": null,
   "metadata": {},
   "outputs": [],
   "source": [
    "def tek_cift2(*sayilar):\n",
    "    return [i ** 2 if i % 2 else i * 2 for i in sayilar]"
   ]
  },
  {
   "cell_type": "code",
   "execution_count": null,
   "metadata": {},
   "outputs": [],
   "source": [
    "tek_cift2(1, 2, 3, 4, 5, 6, 7, 8)"
   ]
  },
  {
   "cell_type": "code",
   "execution_count": null,
   "metadata": {},
   "outputs": [],
   "source": [
    "tek_cift2(range(1, 10))"
   ]
  },
  {
   "cell_type": "code",
   "execution_count": null,
   "metadata": {},
   "outputs": [],
   "source": [
    "tek_cift2(*range(1, 10))"
   ]
  },
  {
   "cell_type": "code",
   "execution_count": null,
   "metadata": {},
   "outputs": [],
   "source": [
    "print(*\"techproeducation\")"
   ]
  },
  {
   "cell_type": "code",
   "execution_count": null,
   "metadata": {},
   "outputs": [],
   "source": [
    "dict1 = {\"name1\": \"Şükrü\", \"name2\": \"Kadir\", \"name3\": \"Hanife\"}\n",
    "\n",
    "def kwargs_function(**kwargs):\n",
    "    for i, j in kwargs.items():\n",
    "        print(f\"key: {i}, value: {j}\")"
   ]
  },
  {
   "cell_type": "code",
   "execution_count": null,
   "metadata": {},
   "outputs": [],
   "source": [
    "kwargs_function(dict1)"
   ]
  },
  {
   "cell_type": "code",
   "execution_count": null,
   "metadata": {},
   "outputs": [],
   "source": [
    "kwargs_function(**dict1)"
   ]
  },
  {
   "cell_type": "markdown",
   "metadata": {},
   "source": [
    "Anne, baba ve cocuktan olusan cekirdek ailenin süper aile olup olmadigini bulan kodu yazin. Isimleri kullanicidan isteyin. (Cocugun ismindeki sessiz harflerin hepsi, anne ve babanin isimlerinde var ise bu aile süper ailedir.) Not: anne ve baba isminden en az bir tane olmali. Örn1: baba adi = \"Halil\", anne adi= \"Merve\", cocuk adı= \"Veli\" >> Süper aile. (\"v\" anneden, \"l\" babadan) Örn2: baba adi = \"Murat\", anne adi= \"Songül\", cocuk adi= \"Mert\" >> Süper aile degil. Anneden harf yok."
   ]
  },
  {
   "cell_type": "code",
   "execution_count": null,
   "metadata": {},
   "outputs": [],
   "source": [
    "baba = input(\"Baba için isim girin:\").lower()\n",
    "anne = input(\"Anne için isim girin:\").lower()\n",
    "cocuk = input(\"Çocuk için isim girin:\").lower()\n",
    "\n",
    "cocuk_sessiz_harfler = \"\"\n",
    "\n",
    "\n",
    "for i in cocuk:\n",
    "    if i not in \"aeıioöuü\":\n",
    "        cocuk_sessiz_harfler += i \n",
    "        \n",
    "if len(set(anne) & set(cocuk_sessiz_harfler)) > 0 and len(set(baba) & set(cocuk_sessiz_harfler)) > 0 and set(cocuk_sessiz_harfler).issubset(set(anne) | set(baba)):\n",
    "    print(\"Bu aile süper ailedir.\")\n",
    "    \n",
    "else:\n",
    "    print(\"Cocuga isim bile koyamadiniz.\")"
   ]
  },
  {
   "cell_type": "code",
   "execution_count": null,
   "metadata": {},
   "outputs": [],
   "source": [
    "def süper_aile(anne, baba, cocuk):\n",
    "    anne = anne.lower()\n",
    "    baba = baba.lower()\n",
    "    cocuk = cocuk.lower()\n",
    "    \n",
    "    cocuk_sessiz_harfler = \"\"\n",
    "    \n",
    "    for i in cocuk:\n",
    "        if i not in \"aeıioöuü\":\n",
    "            cocuk_sessiz_harfler += i\n",
    "            \n",
    "            \n",
    "    if len(set(anne) & set(cocuk_sessiz_harfler)) > 0 and len(set(baba) & set(cocuk_sessiz_harfler)) > 0 and set(cocuk_sessiz_harfler).issubset(set(anne) | set(baba)):\n",
    "        print(\"Bu aile süper ailedir.\")\n",
    "        \n",
    "    else:\n",
    "        print(\"Cocuga isim bile koyamadiniz.\")"
   ]
  },
  {
   "cell_type": "code",
   "execution_count": null,
   "metadata": {},
   "outputs": [],
   "source": [
    "süper_aile(\"merve\", \"halil\", \"veli\")"
   ]
  },
  {
   "cell_type": "code",
   "execution_count": null,
   "metadata": {},
   "outputs": [],
   "source": [
    "süper_aile(\"Songül\", \"Murat\", \"Mert\")"
   ]
  },
  {
   "cell_type": "code",
   "execution_count": null,
   "metadata": {},
   "outputs": [],
   "source": [
    "# Benim cözümüm:\n",
    "\n",
    "import time\n",
    "\n",
    "print('Süper aile tespit programina hosgeldiniz!')\n",
    "time.sleep(1)\n",
    "\n",
    "anne = input('Lütfen annenin ismini giriniz:').lower()\n",
    "baba = input('Lütfen babanin ismini giriniz:').lower()\n",
    "cocuk = input('Lütfen cocugun ismini giriniz:').lower()\n",
    "\n",
    "sesli_harfler = 'aeıioöuü'\n",
    "cocuk_sessiz_harfler = ''\n",
    "\n",
    "for i in cocuk:\n",
    "    if i not in sesli_harfler:\n",
    "        cocuk_sessiz_harfler += i # stringler immutabel oldugundan bu sekilde degistirebiliriz, yeniden atayarak.\n",
    "\n",
    "if len(set(anne) & set(cocuk_sessiz_harfler)) > 0 and len(set(baba) & set(cocuk_sessiz_harfler)) > 0 and set(cocuk_sessiz_harfler).issubset(set(anne) | set(baba)):\n",
    "    print(\"Bu aile süper ailedir.\")\n",
    "    \n",
    "else:\n",
    "    print(\"Cocuga isim bile koyamadiniz.\")"
   ]
  },
  {
   "cell_type": "markdown",
   "metadata": {},
   "source": [
    "## filter()"
   ]
  },
  {
   "attachments": {
    "3.png": {
     "image/png": "[encoded data removed]"
    }
   },
   "cell_type": "markdown",
   "metadata": {},
   "source": [
    "![3.png](attachment:3.png)"
   ]
  },
  {
   "cell_type": "code",
   "execution_count": null,
   "metadata": {},
   "outputs": [],
   "source": [
    "filter(None, \"hello\")"
   ]
  },
  {
   "cell_type": "code",
   "execution_count": null,
   "metadata": {},
   "outputs": [],
   "source": [
    "list(filter(None, \"hello\"))"
   ]
  },
  {
   "cell_type": "code",
   "execution_count": null,
   "metadata": {},
   "outputs": [],
   "source": [
    "def find_odds(x):\n",
    "    if x % 2:\n",
    "        return True\n",
    "    else:\n",
    "        return False"
   ]
  },
  {
   "cell_type": "code",
   "execution_count": null,
   "metadata": {},
   "outputs": [],
   "source": [
    "list(filter(find_odds, [0, 1, 2, 3, 4, 5, 6, 7, 8, 9]))"
   ]
  },
  {
   "cell_type": "code",
   "execution_count": null,
   "metadata": {},
   "outputs": [],
   "source": [
    "tuple(filter(find_odds, {0, 1, 2, 3, 4, 5, 6, 7, 8, 9}))"
   ]
  },
  {
   "cell_type": "code",
   "execution_count": null,
   "metadata": {},
   "outputs": [],
   "source": [
    "set(filter(find_odds, (0, 1, 2, 3, 4, 5, 6, 7, 8, 9)))"
   ]
  },
  {
   "cell_type": "code",
   "execution_count": null,
   "metadata": {},
   "outputs": [],
   "source": [
    "def len_x(x):\n",
    "    if len(x) == 5: return True"
   ]
  },
  {
   "cell_type": "code",
   "execution_count": null,
   "metadata": {},
   "outputs": [],
   "source": [
    "isimler_listesi = [\"ömer\", \"sükrü\", \"ali\", \"süha\", \"rumeysa\", \"hanife\", \"esra\", \"bahar\"]"
   ]
  },
  {
   "cell_type": "code",
   "execution_count": null,
   "metadata": {},
   "outputs": [],
   "source": [
    "list(filter(len_x, isimler_listesi))"
   ]
  },
  {
   "cell_type": "markdown",
   "metadata": {},
   "source": [
    "## lambda()"
   ]
  },
  {
   "attachments": {
    "4.png": {
     "image/png": "[encoded data removed]"
    }
   },
   "cell_type": "markdown",
   "metadata": {},
   "source": [
    "![4.png](attachment:4.png)"
   ]
  },
  {
   "cell_type": "code",
   "execution_count": null,
   "metadata": {},
   "outputs": [],
   "source": [
    "def kareler_toplami(x, y):\n",
    "    return x ** 2 + y ** 2\n"
   ]
  },
  {
   "cell_type": "code",
   "execution_count": null,
   "metadata": {},
   "outputs": [],
   "source": [
    "lambda x, y: x ** 2 + y ** 2"
   ]
  },
  {
   "cell_type": "code",
   "execution_count": null,
   "metadata": {},
   "outputs": [],
   "source": [
    "(lambda x, y: x ** 2 + y ** 2)(3, 4)"
   ]
  },
  {
   "cell_type": "code",
   "execution_count": null,
   "metadata": {},
   "outputs": [],
   "source": [
    "(lambda x, y: x ** 2 + y ** 2)(3)"
   ]
  },
  {
   "cell_type": "code",
   "execution_count": null,
   "metadata": {},
   "outputs": [],
   "source": [
    "def len_5(x):\n",
    "    \n",
    "    if len(x) == 5: return True"
   ]
  },
  {
   "cell_type": "code",
   "execution_count": null,
   "metadata": {},
   "outputs": [],
   "source": [
    "(lambda x: len(x) == 5)(\"sükrü\")"
   ]
  },
  {
   "cell_type": "code",
   "execution_count": null,
   "metadata": {},
   "outputs": [],
   "source": [
    "(lambda x: x[::-1])(\"ey edip adanada pide ye\")"
   ]
  },
  {
   "cell_type": "code",
   "execution_count": null,
   "metadata": {},
   "outputs": [],
   "source": [
    "list(filter((lambda x: len(x) == 5), isimler_listesi))"
   ]
  },
  {
   "cell_type": "code",
   "execution_count": null,
   "metadata": {},
   "outputs": [],
   "source": [
    "set(filter((lambda x: x % 2), [1, 2, 3, 4, 5]))"
   ]
  },
  {
   "cell_type": "markdown",
   "metadata": {},
   "source": [
    "# DERS 24_10_2024"
   ]
  },
  {
   "cell_type": "markdown",
   "metadata": {},
   "source": [
    "Rastgele sayilardan olusan bir listenin icinden 15 ve 30 arasinda olan (iki sayida dahil) sayilari ayiklayan kodu yazin. (filter ve lambda fonksiyonlarini kullanin)"
   ]
  },
  {
   "cell_type": "code",
   "execution_count": null,
   "metadata": {},
   "outputs": [],
   "source": [
    "import random\n",
    "random.sample(range(1, 101), 20)"
   ]
  },
  {
   "cell_type": "code",
   "execution_count": null,
   "metadata": {},
   "outputs": [],
   "source": [
    "list(filter((lambda x: 15 <= x <= 30), random.sample(range(1, 101), 20)))"
   ]
  },
  {
   "cell_type": "markdown",
   "metadata": {},
   "source": [
    "## map()\n",
    "\n",
    "Python **map** fonksiyonu, bir fonksiyonu belirli bir iterable (liste, tuple vb.) üzerindeki her bir ögeye uygulayarak yeni bir iterable döndüren bir yüksek düzey fonksiyondur. map fonksiyonu, özellikle büyük veri kümesi üzerinde ayni islemi tekrar tekrar gerceklestirmek istediginizde oldukca yararlidir.\n",
    "\n",
    "**map Fonksiyonunun Tanimi ve Amaci**\n",
    "\n",
    "* **Tanim:** map fonksiyonu, belirtilen bir fonksiyonu verilen iterable'in her bir ögesine uygular ve sonuclari iceren bir map nesnesi (bir iterator) döndürür.\n",
    "* **Amac:** Tekrarlayan islemleri basitlestirmek ve kodun daha okunabilir ve bakimi kolay olmasini saglamak.\n",
    "\n",
    "**map Fonksiyonunun Kullanim Durumlari**\n",
    "\n",
    "* Listenin her elemanina belirli bir islev uygulamak.\n",
    "* Veri dönüsümleri (örnegin, string'den integer'a).\n",
    "* Karmasik veri yapilarini basitlestirmek veya dönüstürmek."
   ]
  },
  {
   "cell_type": "code",
   "execution_count": null,
   "metadata": {},
   "outputs": [],
   "source": [
    "def sayinin_karesi(x):\n",
    "    return x ** 2"
   ]
  },
  {
   "cell_type": "code",
   "execution_count": null,
   "metadata": {},
   "outputs": [],
   "source": [
    "map(sayinin_karesi, (1, 2, 3, 4, 5, 6, 7, 8, 9))"
   ]
  },
  {
   "cell_type": "code",
   "execution_count": null,
   "metadata": {},
   "outputs": [],
   "source": [
    "list(map(sayinin_karesi, (1, 2, 3, 4, 5, 6, 7, 8, 9)))"
   ]
  },
  {
   "cell_type": "code",
   "execution_count": null,
   "metadata": {},
   "outputs": [],
   "source": [
    "tuple(map(len, [\"techpro\", \"ali\", \"ahmet\", (1, 2, 3, 4, 5, 6, 7, 8, 9)]))"
   ]
  },
  {
   "cell_type": "code",
   "execution_count": null,
   "metadata": {},
   "outputs": [],
   "source": [
    "# iterable olmayan elemanlar iceriyor.\n",
    "\n",
    "tuple(map(len, [\"techpro\", \"ali\", True, 25, \"ahmet\", (1, 2, 3, 4, 5, 6, 7, 8, 9)]))"
   ]
  },
  {
   "cell_type": "code",
   "execution_count": null,
   "metadata": {},
   "outputs": [],
   "source": [
    "list(map(len, {\"bir\": \"Süha\", \"iki\": \"Basak\", \"üc\": \"Sükrü\", \"dört\": \"Alpaslan\"}.values()))"
   ]
  },
  {
   "cell_type": "code",
   "execution_count": null,
   "metadata": {},
   "outputs": [],
   "source": [
    "# Tek sayilarin karesini, cift sayilari ise oldugu gibi birakan fonksiyonun def ile yazilmasi.\n",
    "\n",
    "def tek_cift(*sayilar):\n",
    "    \n",
    "    result = []\n",
    "    \n",
    "    for i in sayilar:\n",
    "        if i % 2:\n",
    "            result.append(i ** 2)\n",
    "        else:\n",
    "            result.append(i)\n",
    "            \n",
    "    return result"
   ]
  },
  {
   "cell_type": "code",
   "execution_count": null,
   "metadata": {},
   "outputs": [],
   "source": [
    "# Ayni fonksiyonun lambda ile yazilmasi\n",
    "\n",
    "(lambda i: i ** 2 if i % 2 else i)(5)"
   ]
  },
  {
   "cell_type": "code",
   "execution_count": null,
   "metadata": {},
   "outputs": [],
   "source": [
    "# [1, 2, 3, 4, 5, 6, 7, 8] elemanlarinin karesini alan fonksiyonu map ile lambda'yi birlestirip yazalim.\n",
    "\n",
    "list(map((lambda i: i ** 2 if i % 2 else i), [1, 2, 3, 4, 5, 6, 7, 8]))"
   ]
  },
  {
   "attachments": {
    "6.png": {
     "image/png": "[encoded data removed]"
    }
   },
   "cell_type": "markdown",
   "metadata": {},
   "source": [
    "![6.png](attachment:6.png)"
   ]
  },
  {
   "cell_type": "code",
   "execution_count": null,
   "metadata": {},
   "outputs": [],
   "source": [
    "numbers1 = [1, 2, 3]\n",
    "numbers2 = [4, 5, 6]\n",
    "\n",
    "summed_numbers = map(lambda x, y: x + y, numbers1, numbers2)\n",
    "print(list(summed_numbers))"
   ]
  },
  {
   "cell_type": "code",
   "execution_count": null,
   "metadata": {},
   "outputs": [],
   "source": [
    "# Her ögrencinin notunu 5 puan artiran fonksiyon olusturun, lambda ve map kullanarak, liste olarak gösterin.\n",
    "\n",
    "students = [\n",
    "    {\"name\": \"John\", \"score\": 85},\n",
    "    {\"name\": \"Jane\", \"score\": 92},\n",
    "    {\"name\": \"Dave\", \"score\": 88}]\n",
    "\n",
    "def increase_grade(student):\n",
    "    student[\"score\"] += 5\n",
    "    return student\n",
    "\n",
    "updated_students = map(increase_grade, students)\n",
    "\n",
    "print(list(updated_students))"
   ]
  },
  {
   "cell_type": "code",
   "execution_count": 3,
   "metadata": {},
   "outputs": [
    {
     "name": "stdout",
     "output_type": "stream",
     "text": [
      "[{'name': 'John', 'score': 90}, {'name': 'Jane', 'score': 97}, {'name': 'Dave', 'score': 93}]\n"
     ]
    }
   ],
   "source": [
    "students = [\n",
    "    {\"name\": \"John\", \"score\": 85},\n",
    "    {\"name\": \"Jane\", \"score\": 92},\n",
    "    {\"name\": \"Dave\", \"score\": 88}]\n",
    "\n",
    "updated_students = list(map(lambda x: {**x, \"score\": x['score'] + 5}, students))\n",
    "\n",
    "print(updated_students)"
   ]
  },
  {
   "cell_type": "code",
   "execution_count": null,
   "metadata": {},
   "outputs": [],
   "source": [
    "numbers = [1, 2, 3, 4, 5, 6, 7, 8, 9, 10]\n",
    "liste = []\n",
    "\n",
    "for i in numbers:\n",
    "    if i % 2:\n",
    "        continue\n",
    "    else:\n",
    "        liste.append(i ** 2)\n",
    "        \n",
    "liste"
   ]
  },
  {
   "cell_type": "code",
   "execution_count": null,
   "metadata": {},
   "outputs": [],
   "source": [
    "numbers = [1, 2, 3, 4, 5, 6, 7, 8, 9, 10]\n",
    "\n",
    "even_squares = map(lambda x: x ** 2, filter(lambda x: x % 2 == 0, numbers))\n",
    "\n",
    "print(list(even_squares))"
   ]
  },
  {
   "cell_type": "code",
   "execution_count": null,
   "metadata": {},
   "outputs": [],
   "source": [
    "# Benim cözümüm:\n",
    "\n",
    "numbers = [1, 2, 3, 4, 5, 6, 7, 8, 9, 10]\n",
    "\n",
    "even_squares = map(lambda x: x ** 2, [i for i in numbers if i % 2 == 0])\n",
    "\n",
    "print(list(even_squares))"
   ]
  },
  {
   "cell_type": "markdown",
   "metadata": {},
   "source": [
    "## enumerate()\n",
    "\n",
    "enumerate fonksiyonu, Python'da bir iterable (yineleyebilir) nesne üzerinde döngü kurarken her bir ögenin indeksini de elde etmemizi sağlar. Bu, genellikle bir liste veya bir dizi üzerinde iterasyon yaparken kullanilir.\n",
    "\n",
    "enumerate fonksiyonunun kullanilmasinin baslica nedenleri sunlardir:\n",
    "\n",
    "* Okunabilirligi Arttirmak: Döngü icinde hem ögeye hem de indeksine erisim saglamak, kodun daha okunabilir olmasini saglar. Bu, özellikle indekse dayali islemler yaparken faydalidir.\n",
    "\n",
    "* Hata Ayiklama: Hangi indeksin hangi degere karsilik geldigini bilmek, hata ayiklama süreclerinde faydalidir.\n",
    "\n",
    "* Performans: enumerate fonksiyonu, manuel olarak bir sayac degiskeni olusturmaktan ve arttirmaktan daha verimlidir ve daha az hata yapma olasiligi tasir."
   ]
  },
  {
   "cell_type": "code",
   "execution_count": null,
   "metadata": {},
   "outputs": [],
   "source": [
    "name = [\"Sükrü\", \"Ali\", \"Esra\", \"Bahar\", \"Süha\", \"Ömer\"]"
   ]
  },
  {
   "cell_type": "code",
   "execution_count": null,
   "metadata": {},
   "outputs": [],
   "source": [
    "enumerate(name)"
   ]
  },
  {
   "cell_type": "code",
   "execution_count": null,
   "metadata": {},
   "outputs": [],
   "source": [
    "list(enumerate(name))"
   ]
  },
  {
   "cell_type": "code",
   "execution_count": null,
   "metadata": {},
   "outputs": [],
   "source": [
    "dict(enumerate(name))"
   ]
  },
  {
   "cell_type": "code",
   "execution_count": null,
   "metadata": {},
   "outputs": [],
   "source": [
    "list(enumerate((1, 2, 3, 4, 5), 10))"
   ]
  },
  {
   "cell_type": "code",
   "execution_count": null,
   "metadata": {},
   "outputs": [],
   "source": [
    "for e, i in enumerate((1, 2, 3, 4, 5), 10):\n",
    "    print(f\"{e} - {i}\")"
   ]
  },
  {
   "cell_type": "code",
   "execution_count": null,
   "metadata": {},
   "outputs": [],
   "source": [
    "for e, i in enumerate({1, 2, 3, 4, 5}):\n",
    "    print(f\"{e} - {i}\")"
   ]
  },
  {
   "cell_type": "markdown",
   "metadata": {},
   "source": [
    "## zip()\n",
    "zip() metodu, iki veya daha fazla iterable (iterasyon yapilabilen) veri yapisini birlestirerek her birinden ayni indeksli elemanlari bir araya getirir. Bu sayede, ayni sayida eleman iceren iterable veri yapilari üzerinde paralel olarak iterasyon yapabilirsiniz."
   ]
  },
  {
   "cell_type": "code",
   "execution_count": null,
   "metadata": {},
   "outputs": [],
   "source": [
    "a = [\"apple\", \"apple\", \"lemon\"]\n",
    "b = [1, 1, 3]"
   ]
  },
  {
   "cell_type": "code",
   "execution_count": null,
   "metadata": {},
   "outputs": [],
   "source": [
    "zip(a, b)"
   ]
  },
  {
   "cell_type": "code",
   "execution_count": null,
   "metadata": {},
   "outputs": [],
   "source": [
    "list(zip(a, b))"
   ]
  },
  {
   "cell_type": "code",
   "execution_count": null,
   "metadata": {},
   "outputs": [],
   "source": [
    "tuple(zip(a, b))"
   ]
  },
  {
   "cell_type": "code",
   "execution_count": null,
   "metadata": {},
   "outputs": [],
   "source": [
    "dict(zip(a, b))"
   ]
  },
  {
   "cell_type": "code",
   "execution_count": null,
   "metadata": {},
   "outputs": [],
   "source": [
    "set(zip(a, b))"
   ]
  },
  {
   "cell_type": "code",
   "execution_count": null,
   "metadata": {},
   "outputs": [],
   "source": [
    "list1 = [1, 2, 3, 4]\n",
    "list2 = [\"a\", \"b\", \"c\"]\n",
    "list3 = [\"elma\", \"armut\"]\n",
    "\n",
    "zipped = zip(list1, list2, list3)\n",
    "\n",
    "print(list(zipped))"
   ]
  },
  {
   "cell_type": "code",
   "execution_count": null,
   "metadata": {},
   "outputs": [],
   "source": [
    "name = [\"John\", \"Jane\", \"George\"]\n",
    "age = [33, 25, 26]\n",
    "job = (\"datascientist\", \"dataanalyst\", \"pythondeveloper\")"
   ]
  },
  {
   "cell_type": "code",
   "execution_count": null,
   "metadata": {},
   "outputs": [],
   "source": [
    "list(zip(name, age, job))"
   ]
  },
  {
   "cell_type": "code",
   "execution_count": null,
   "metadata": {},
   "outputs": [],
   "source": [
    "dict(zip(name, age, job))"
   ]
  },
  {
   "cell_type": "code",
   "execution_count": null,
   "metadata": {},
   "outputs": [],
   "source": [
    "dict(zip(name, zip(age, job)))"
   ]
  },
  {
   "cell_type": "markdown",
   "metadata": {},
   "source": [
    "## Variable Scope\n",
    "\n",
    "**Tanim:** Python'da \"variable scope\", bir degiskenin tanimli oldugu ve erisilebilir oldugu kod blogunun sinirlarini belirtir.\n",
    "\n",
    "**Amac:** Degiskenlerin nerede kullanilabilecegini ve nerede kullanilamayacagini belirlemek, böylece kodun düzenli ve hatasiz calismasini saglamak.\n",
    "\n",
    "**Temel Kavramlar**\n",
    "\n",
    "* **Local Scope:** Bir fonksiyon veya blok icinde tanimlanan degiskenler, sadece o fonksiyon veya blok icinde kullanilabilir.\n",
    "* **Global Scope:** Fonksiyonlarin disinda tanimlanan degiskenler, programin herhangi bir yerinde kullanilabilir.\n",
    "* **Enclosing Scope:** İc ice fonksiyonlarda, ic fonksiyonun dis fonksiyona erisimi.\n",
    "* **Built-in Scope:** Python tarafindan saglanan varsayilan isimlerdir. (Örnegin: len, print)"
   ]
  },
  {
   "cell_type": "code",
   "execution_count": null,
   "metadata": {},
   "outputs": [],
   "source": [
    "sayi1 = 10 # Global Scope\n",
    "\n",
    "def myfunction():\n",
    "    sayi2 = 5 # Local Scope\n",
    "    print(sayi1) # Global scope'taki x degiskenine erisilebilir.\n",
    "    print(sayi2) # Local scope'taki y degiskenine erisilebilir.\n",
    "    \n",
    "myfunction()\n",
    "\n",
    "\n",
    "print(sayi1)\n",
    "print(sayi2)"
   ]
  },
  {
   "cell_type": "code",
   "execution_count": null,
   "metadata": {},
   "outputs": [],
   "source": [
    "sayi3 = 10 # Global\n",
    "\n",
    "def outer_function():\n",
    "    sayi3 = 20 # enclosing scope\n",
    "    def inner_function():\n",
    "        sayi3 = 30 # local scope\n",
    "        print(sayi3)\n",
    "    inner_function()\n",
    "    print(sayi3)\n",
    "    \n",
    "    \n",
    "outer_function()\n",
    "print(sayi3)"
   ]
  },
  {
   "cell_type": "markdown",
   "metadata": {},
   "source": [
    "## Variable Scope'u Anlamanin Önemi\n",
    "\n",
    "Variable scope'u anlamak, özellikle hatalari önlemek ve kodun dogru calismasini saglamak acisindan kritiktir. Yanlis degisken erisimi, beklenmeyen sonuclara ve hata mesajlarina yol acabilir."
   ]
  },
  {
   "cell_type": "code",
   "execution_count": null,
   "metadata": {},
   "outputs": [],
   "source": [
    "sayi4 = 10 # Global degisken\n",
    "\n",
    "def modify_global():\n",
    "    global sayi4 # Bu, sayi degiskeninin global oldugunu belirtir.\n",
    "    sayi4 = 20 # global degiskeninin degerini degistirdik.\n",
    "    \n",
    "    \n",
    "print(sayi4)\n",
    "modify_global()\n",
    "print(sayi4) # 20 ciktisini verir cünkü global degisken fonksiyon icinde degistirildi.\n"
   ]
  },
  {
   "cell_type": "code",
   "execution_count": null,
   "metadata": {},
   "outputs": [],
   "source": [
    "sayi4 = 10\n",
    "\n",
    "def modify_global():\n",
    "    sayi4 = 20 \n",
    "    \n",
    "    \n",
    "print(sayi4)\n",
    "modify_global()\n",
    "print(sayi4)"
   ]
  },
  {
   "cell_type": "markdown",
   "metadata": {},
   "source": [
    "# DERS 25_10_2024"
   ]
  },
  {
   "cell_type": "markdown",
   "metadata": {},
   "source": [
    "## **Try and Except Blocks - Hata Yönetimi**\n",
    "### **Neden İhtiyacimiz Var?**\n",
    "Yazdigimiz kodlarin sorunsuz calisabilmesi icin kodda olusabilecek tüm olasi hatalari önceden düsünüp bunlara önlemler almamiz gerekir. Bazen programlarimizi olustururken bazi kodlar vardir ki bu kodlar bize program icinde belli hatalara yol acabilir bu hatalar mantiksal programlama hatalari, degiskenlerin tipleri ile ilgili hatalar veya cok daha farkli hata çesitleri olabilir. Örnegin internetten\n",
    "veri cektigimiz bir projede, internet baglantisinin kopmasi durumunda programin calismasi aksayacaktir. Böyle durumlara karsi önceden hazirlikli olmali ve cözümler sunmamiz gerekir.<br>\n",
    "### **Hata Cesitleri**\n",
    "**1. Syntax Hatasi:** Kodu yazarken yanlis yazdigimiz kodlardan meydana gelir. Bu durumlarda derleyici bize direkt hata verir ve düzeltebiliriz.<br>\n",
    "**2. Mantik Hatasi:** Kodun isleyisinde yaptigimiz hatalardir, derleyici tarafindan bize bir uyari verilmedigi icin yakalanmasi daha zor hatalardir.<br>\n",
    "### **Hata Türleri:**\n",
    "Assertion Error, AttributeError EOFError, Floating PointError GeneratorExit, ImportError IndexError, KeyError Keyboardinterrupt, Memory Error, NameError, NotimplementedError, OSError, OverflowError, ReferenceError, RuntimeError, Stoplteration, SyntaxError, Indentation Error, TabError SystemError, SystemExit,\n",
    "TypeError, Unbound LocalError, UnicodeError, Unicode EncodeError, UnicodeDecodeError, Unicode Translate Error, ValueError, ZeroDivisionError<br><br>\n",
    "İste böyle bir durumda Python bu sorunu cözmek icin bize **'try ve except'** bloklarini kullanmamizi saglar. <br>**Try** bloklari icinde muhtemel olan hatalari yakalarken **except** bloklari hem hatalari kontrol etmemizi hem de bu hatalari cözmemizi saglar.<br><br>"
   ]
  },
  {
   "cell_type": "markdown",
   "metadata": {},
   "source": [
    "**\"try ve except bloklarinin kullanim semasi\"**<br><br>\n",
    "**<span style=\"color:blue;\">try:</span>**<br>\n",
    "kodlarimiz burada<br>\n",
    "**<span style=\"color:red;\">except ExceptionI:</span>**<br>\n",
    "Bir hata oldugunda burasi calisir.<br>\n",
    "**<span style=\"color:red;\">except ExceptionII:</span>**<br>\n",
    "Hata iki oldugunda bu kodu calistirir."
   ]
  },
  {
   "cell_type": "code",
   "execution_count": null,
   "metadata": {},
   "outputs": [],
   "source": [
    "try:\n",
    "    \"4\" + 5\n",
    "except:\n",
    "    print( 4 + 5)"
   ]
  },
  {
   "cell_type": "code",
   "execution_count": null,
   "metadata": {},
   "outputs": [],
   "source": [
    "# try kisminda hata yoksa try blogu calisir.\n",
    "\n",
    "try:\n",
    "    print (\"4\" * 5) \n",
    "except:\n",
    "    print('Hata var.')"
   ]
  },
  {
   "cell_type": "code",
   "execution_count": null,
   "metadata": {},
   "outputs": [],
   "source": [
    "try:\n",
    "    print('4' + 5)\n",
    "except TypeError:\n",
    "    print('Hata TypeError oldugu icin ben calistim.')"
   ]
  },
  {
   "cell_type": "code",
   "execution_count": null,
   "metadata": {},
   "outputs": [],
   "source": [
    "# Hata NameError degil TypeError.\n",
    "\n",
    "try:\n",
    "    print('4' + 5)\n",
    "except NameError:\n",
    "    print('Hata NameError oldugu icin ben calistim.')"
   ]
  },
  {
   "cell_type": "code",
   "execution_count": null,
   "metadata": {},
   "outputs": [],
   "source": [
    "try:\n",
    "    print(\"4\" + 5)\n",
    "except NameError:\n",
    "    print(\"Hata NameError olduğu için ben calistim\")\n",
    "except TypeError:\n",
    "    print(\"Hata TypeError olduğu için ben calistim\")"
   ]
  },
  {
   "cell_type": "code",
   "execution_count": null,
   "metadata": {},
   "outputs": [],
   "source": [
    "try:\n",
    "    print('4' + 5)\n",
    "except:\n",
    "    print('Hata NameError oldugu icin ben calistim.')"
   ]
  },
  {
   "cell_type": "code",
   "execution_count": null,
   "metadata": {},
   "outputs": [],
   "source": [
    "# except niye calismadi cünkü int calistirirken hata aldik o yüzden yakalayamadik.\n",
    "\n",
    "x = int(input('Bir sayi giriniz:'))\n",
    "y = int(input('Bir sayi giriniz:'))\n",
    "\n",
    "try:\n",
    "    print(x / y)\n",
    "except:\n",
    "    print('Bu yaziyi görüyorsaniz sayilarda hata var demektir.')"
   ]
  },
  {
   "cell_type": "code",
   "execution_count": null,
   "metadata": {},
   "outputs": [],
   "source": [
    "# try'dan önceki hatayi kaldirdik, try'in icine koyduk.\n",
    "\n",
    "x = input('Bir sayi giriniz:')\n",
    "y = input('Bir sayi giriniz:')\n",
    "\n",
    "try:\n",
    "    print(int(x) / int(y))\n",
    "except:\n",
    "    print('Bu yaziyi görüyorsaniz sayilarda hata var demektir.')"
   ]
  },
  {
   "cell_type": "code",
   "execution_count": null,
   "metadata": {},
   "outputs": [],
   "source": [
    "8 / 0"
   ]
  },
  {
   "cell_type": "code",
   "execution_count": null,
   "metadata": {},
   "outputs": [],
   "source": [
    "try:\n",
    "    x = int(input(\"Bir sayi giriniz:\"))\n",
    "    y = int(input(\"Bir sayi daha giriniz:\"))\n",
    "    print(x / y)\n",
    "except ValueError:\n",
    "    print(\"Bu yaziyi görüyarsaniz sayiyi integer formunda girmemissiniz demektir.\")\n",
    "except ZeroDivisionError:\n",
    "    print('Hic bir sayi sifira bölünemez.')"
   ]
  },
  {
   "cell_type": "code",
   "execution_count": null,
   "metadata": {},
   "outputs": [],
   "source": [
    "x = input(\"Bir sayi giriniz:\")\n",
    "y = input(\"Bir sayi daha giriniz:\")\n",
    "\n",
    "try:\n",
    "    print(int(a) / int(y))\n",
    "except ValueError:\n",
    "    print(\"Bu yaziyi görüyarsaniz sayiyi int formatinda girmemissiniz demektir.\")\n",
    "except ZeroDivisionError:\n",
    "    print(\"Hiç bir sayi sifira bölünemez\")\n",
    "except:\n",
    "    print(\"Vallahi bu sefer hatanin ne oldugunu ben de bilmiyorum\")"
   ]
  },
  {
   "cell_type": "code",
   "execution_count": null,
   "metadata": {},
   "outputs": [],
   "source": [
    "x = input(\"Bir sayi giriniz:\")\n",
    "y = input(\"Bir sayi daha giriniz:\")\n",
    "\n",
    "try:\n",
    "    print(int(a) / int(y))\n",
    "except ValueError:\n",
    "    print(\"Bu yaziyi görüyarsaniz sayiyi int formatinda girmemissiniz demektir.\")\n",
    "except ZeroDivisionError:\n",
    "    print(\"Hic bir sayi sifira bölünemez\")\n",
    "except Exception as hata:\n",
    "    print(f\"Buradaki hata: {hata}\")"
   ]
  },
  {
   "cell_type": "code",
   "execution_count": null,
   "metadata": {},
   "outputs": [],
   "source": [
    "x = input(\"Bir sayi giriniz:\")\n",
    "y = input(\"Bir sayi daha giriniz:\")\n",
    "\n",
    "try:\n",
    "    a = int(x) / int(y)\n",
    "    print(a ** 2)\n",
    "except ValueError:\n",
    "    print(\"Bu yaziyi görüyarsaniz sayiyi int formatinda girmemissiniz demektir.\")\n",
    "except ZeroDivisionError:\n",
    "    print(\"Hic bir sayi sifira bölünemez.\")"
   ]
  },
  {
   "cell_type": "code",
   "execution_count": null,
   "metadata": {},
   "outputs": [],
   "source": [
    "# try calisirsa else de calisir. Bildigimiz else degil.\n",
    "\n",
    "x = input(\"Bir sayi giriniz:\")\n",
    "y = input(\"Bir sayi daha giriniz:\")\n",
    "\n",
    "try:\n",
    "    a = int(x) / int(y)\n",
    "except ValueError:\n",
    "    print(\"Bu yaziyi görüyarsaniz sayiyi int formatinda girmemissiniz demektir.\")\n",
    "except ZeroDivisionError:\n",
    "    print(\"Hic bir sayi sifira bölünemez.\")\n",
    "else:\n",
    "    print(a ** 2)"
   ]
  },
  {
   "cell_type": "code",
   "execution_count": null,
   "metadata": {},
   "outputs": [],
   "source": [
    "x = input(\"Bir sayi giriniz:\")\n",
    "y = input(\"Bir sayi daha giriniz:\")\n",
    "\n",
    "try:\n",
    "    a = int(x) / int(y)\n",
    "except (ValueError, ZeroDivisionError):\n",
    "    print(\"Hatali deger veya sifir girdiniz\")\n",
    "else:\n",
    "    print(a ** 2)"
   ]
  },
  {
   "cell_type": "code",
   "execution_count": null,
   "metadata": {},
   "outputs": [],
   "source": [
    "# Kullanicidan 2 sayi alin. Sayilari birbirine bölün. \n",
    "# Bölünmüs halini listeye ekleyin. Listede 3 eleman olana kadar islemi yapin.\n",
    "\n",
    "liste = []\n",
    "\n",
    "while True:\n",
    "    x = input(\"Bir sayi giriniz:\")\n",
    "    y = input(\"Bir sayi daha giriniz:\")\n",
    "    \n",
    "    try:\n",
    "        a = int(x) / int(y)\n",
    "    \n",
    "    except ValueError:\n",
    "        print(\"Bu yaziyi görüyorsaniz sayiyi int formatinda girmemissiniz demektir.\")\n",
    "    except ZeroDivisionError:\n",
    "        print(\"Hiç bir sayi sifira bölünemez.\")\n",
    "        \n",
    "    else:\n",
    "        liste.append(a)\n",
    "        \n",
    "        \n",
    "    if len(liste) == 3:\n",
    "        break\n",
    "    \n",
    "print(liste)"
   ]
  },
  {
   "cell_type": "code",
   "execution_count": null,
   "metadata": {},
   "outputs": [],
   "source": [
    "# Benim cözümüm:\n",
    "\n",
    "liste = []\n",
    "sayac = 1\n",
    "\n",
    "while sayac < 4:\n",
    "    \n",
    "    try:\n",
    "        sayi1 = int(input('Lütfen ilk sayiyi giriniz:'))\n",
    "        sayi2 = int(input('Lütfen ikinci sayiyi giriniz:'))\n",
    "        liste.append(sayi1 / sayi2)\n",
    "        sayac += 1\n",
    "\n",
    "    except ZeroDivisionError:\n",
    "        print('2. sayi 0 olamaz!')\n",
    "    except ValueError:\n",
    "        print('Lütfen sayilari yazi degil sayi formatinda giriniz.')\n",
    "\n",
    "else:\n",
    "    print(liste)\n",
    "\n"
   ]
  },
  {
   "cell_type": "markdown",
   "metadata": {},
   "source": [
    "## **Finally Clause Kullanimi**\n",
    "Bazi durumlarda kodlarimizin icinde hata olsun yada olmasin mutlaka calismasini istedigimiz kod bloklari bulunabilir örnegin bir veritabani kullaniyorsak ve her durumda bu veritabaninin baglantisinin kapatilmasi gerekiyorsa bu durumda finally blogu bize bu konuda yardimci olacaktir ya da bunun gibi mutlaka yerine\n",
    "getirilmesi gereken durumlarda yine finally bloklarini kullaniriz."
   ]
  },
  {
   "cell_type": "code",
   "execution_count": null,
   "metadata": {},
   "outputs": [],
   "source": [
    "try:\n",
    "    a = int(input(\"Lütfen bir tam sayi giriniz...:\"))\n",
    "    b = int(input(\"Lütfen baska bir tam sayi giriniz...:\"))\n",
    "    \n",
    "    print(a / b)\n",
    "    \n",
    "except ValueError:\n",
    "    print(\"Lütfen tam sayi değeri giriniz.\")\n",
    "    \n",
    "except ZeroDivisionError:\n",
    "    print(\"Bölen değeri sifir olamaz\")\n",
    "    \n",
    "finally:\n",
    "    print(\"Veritabani bağlantisi kapatildi.\")"
   ]
  },
  {
   "cell_type": "markdown",
   "metadata": {},
   "source": [
    "## assert\n",
    "\n",
    "Assert (assertion), programinizin belirli bir kosulu kontrol etmesini ve bu kosulun dogru olmadigi durumda bir istisna (exception) firlatmasini saglayan bir Python ifadesidir. Assert ifadesi, hata ayiklama (debugging) ve dogrulama (validation) amaclari icin kullanilir.\n",
    "\n",
    "Bir assert ifadesi su sekilde calisir:\n",
    "\n",
    "    assert kosul, mesaj\n",
    "\n",
    "**kosul:** Kontrol edilmek istenen bir ifade veya degerdir. Eger bu kosul True ise hicbir sey olmaz, ancak eger False ise program, bir AssertionError istisnasi firlatir.\n",
    "\n",
    "**mesaj (istege bagli):** Bir assert ifadesi hata firlattiginda goruntulenecek olan özel bir mesajdir. Mesaj, hata ayiklama sürecini kolaylastirmak icin kullanislidir ve hangi kosulun basarisiz oldugunu belirtmek icin kullanilabilir.\n",
    "\n",
    "assert ifadesi, asagidaki gibi senaryolarda kullanislidir:\n",
    "\n",
    "**Hata Ayiklama:** Bir kod parcasinin beklenen bir kosulu karsilamadigini belirlemek icin kullanabilirsiniz. Özellikle gelistirme sirasinda kodunuzu test ederken, beklenmeyen kosullari tespit etmek icin assert ifadeleri ekleyebilirsiniz.\n",
    "\n",
    "    assert x > 0, \"x negatif olamaz.\"\n",
    "\n",
    "**Dogrulama:** Kullanicidan alinan veya baska kaynaklardan elde edilen verilerin dogrulugunu kontrol etmek icin kullanabilirsiniz. Özellikle veri dogrulama islemlerinde assert kullanmak, veri BÜTÜNLÜGÜNÜ saglamak icin önemlidir.\n",
    "\n",
    "    assert len(kullanici_ad) > 0, \"Kullanici adi bos olamaz.\"\n",
    "\n",
    "Ancak, assert ifadesini dikkatli bir sekilde kullanmalisiniz cünkü hata firlatma özelligi, programinizin beklenmedik bir sekilde sona ermesine neden olabilir. Bu nedenle, assert ifadeleri genellikle sadece hata ayiklama amaciyla kullanilmali ve yayinlanan ürünlerde devre disi birakilmalidir. Bu, -O (optimize) bayragiyla Python betigi calistirildiginda assert ifadelerinin devre disi birakilmasini saglar.\n",
    "\n"
   ]
  },
  {
   "cell_type": "code",
   "execution_count": null,
   "metadata": {},
   "outputs": [],
   "source": [
    "def fact(x):\n",
    "    carpim_degeri = 1\n",
    "    for i in range(x, 0, -1):\n",
    "        carpim_degeri *= i\n",
    "    \n",
    "    return carpim_degeri"
   ]
  },
  {
   "cell_type": "code",
   "execution_count": null,
   "metadata": {},
   "outputs": [],
   "source": [
    "fact(5)"
   ]
  },
  {
   "cell_type": "code",
   "execution_count": null,
   "metadata": {},
   "outputs": [],
   "source": [
    "fact(-2)"
   ]
  },
  {
   "cell_type": "code",
   "execution_count": null,
   "metadata": {},
   "outputs": [],
   "source": [
    "def fact(x):\n",
    "    assert x >= 0, \"Negatif sayilarin faktöriyel degeri aranmaz.\"\n",
    "    carpim_degeri = 1\n",
    "    for i in range(x, 0, -1):\n",
    "        carpim_degeri *= i\n",
    "    \n",
    "    return carpim_degeri"
   ]
  },
  {
   "cell_type": "code",
   "execution_count": null,
   "metadata": {},
   "outputs": [],
   "source": [
    "fact(-1)"
   ]
  },
  {
   "cell_type": "markdown",
   "metadata": {},
   "source": [
    "## **raise**\n",
    "\n",
    "Bazen, yazdigimiz bir programda, kullanicinin yaptigi bir islem normal sartlar altinda hata vermeyecek olsa bile biz ona 'Python tarzi' bir hata mesaji göstermek isteyebiliriz. Böyle bir durumda ihtiyacimiz olan sey Python'in bize sundugu raise adli deyimdir. Bu deyim yardimiyla duruma özgü hata mesajlari üretebiliriz.\n"
   ]
  },
  {
   "cell_type": "code",
   "execution_count": null,
   "metadata": {},
   "outputs": [],
   "source": [
    "tr_karakterler = \"şçğüöıİ\"\n",
    "\n",
    "parola = input(\"Parolanizi giriniz:\").lower()\n",
    "\n",
    "for i in parola:\n",
    "    if i in tr_karakterler:\n",
    "        raise TypeError(\"Parolada Türkce karakter kullanilamaz!\")\n",
    "    else:\n",
    "        pass\n",
    "    \n",
    "    \n",
    "print(\"Parola kabul edildi.\")"
   ]
  },
  {
   "attachments": {
    "11.png": {
     "image/png": "[encoded data removed]"
    }
   },
   "cell_type": "markdown",
   "metadata": {},
   "source": [
    "![11.png](attachment:11.png)"
   ]
  },
  {
   "cell_type": "code",
   "execution_count": null,
   "metadata": {},
   "outputs": [],
   "source": [
    "# Tas, Kagit, Makas Oyunu\n",
    "# Bilgisayardan rastgele üretilen deger (tas, kagit, makas)\n",
    "# ile tahmininizi kiyaslayip kimin kazandigini belirten bir program yaziniz.\n",
    "\n",
    "import random\n",
    "\n",
    "x = input(\"Tas, kagit, makas oyunu oynamak ister misin? (evet veya hayir)\").lower()\n",
    "\n",
    "pc_listesi = [\"tas\", \"kagit\", \"makas\"]\n",
    "\n",
    "pc_counter = 0\n",
    "\n",
    "sahsim = 0\n",
    "\n",
    "berabere = 0\n",
    "\n",
    "\n",
    "while x == \"evet\":\n",
    "    \n",
    "    pc = pc_listesi[random.randint(0, 2)]\n",
    "    \n",
    "    ben = input(\"Tas, kagit, makas tan birini yazin.\").lower()\n",
    "    \n",
    "    \n",
    "    if (pc == \"tas\" and ben == \"makas\") or (pc == \"makas\" and ben == \"kagit\") or (pc == \"kagit\" and ben == \"tas\"):\n",
    "        kazanan = \"bilgisayar kazandi.\"\n",
    "        pc_counter += 1\n",
    "        \n",
    "    elif (pc == \"tas\" and ben == \"kagit\") or (pc == \"makas\" and ben == \"tas\") or (pc == \"kagit\" and ben == \"makas\"):\n",
    "        kazanan = \"şahsim kazandi.\"\n",
    "        sahsim += 1\n",
    "        \n",
    "    elif (pc == \"tas\" and ben == \"tas\") or (pc == \"makas\" and ben == \"makas\") or (pc == \"kagit\" and ben == \"kagit\"):\n",
    "        kazanan = \"Kazanan yok durum berabere!\"\n",
    "        berabere += 1\n",
    "        \n",
    "    else:\n",
    "        kazanan = \"Hatali giris yaptin!\"\n",
    "        \n",
    "        \n",
    "    print(kazanan)\n",
    "    \n",
    "    \n",
    "    x = input(\"Tas, kagit, makas oyunu oynamak ister misin? (evet veya hayir)\").lower()\n",
    "    \n",
    "    \n",
    "print(\"Game Over\")\n",
    "print(f\"{pc_counter + sahsim + berabere} kerede ben {sahsim} kere kazandim.\")"
   ]
  },
  {
   "cell_type": "code",
   "execution_count": null,
   "metadata": {},
   "outputs": [],
   "source": [
    "# Benim cözümüm:\n",
    "\n",
    "import random\n",
    "import time\n",
    "\n",
    "giris = input('Tas, Kagit, Makas oynamak istiyorsaniz lütfen e\\'ye basiniz. Oynamak istemiyorsaniz baska bir tusa basiniz.').lower()\n",
    "\n",
    "havuz_varyasyon = ('tas', 'kagit', 'makas')\n",
    "bilgisayar = 0\n",
    "kisi = 0\n",
    "berabere = 0\n",
    "\n",
    "while giris == 'e':\n",
    "    \n",
    "    time.sleep(1)\n",
    "    havuz = random.choice(havuz_varyasyon)\n",
    "    \n",
    "    cikti = input('Tas, Kagit, Makas?').lower()\n",
    "\n",
    "    if cikti not in havuz_varyasyon:\n",
    "        print(\"Geçersiz giriş! Lütfen 'tas', 'kagit' veya 'makas' yaziniz.\")\n",
    "        continue\n",
    "\n",
    "    if (havuz == 'tas' and cikti == 'makas') or (havuz == 'kagit' and cikti == 'tas') or (havuz == 'makas' and cikti == 'kagit'):\n",
    "        print('Bu el ben kazandim.')\n",
    "        bilgisayar += 1\n",
    "\n",
    "    elif (cikti == 'tas' and havuz == 'makas') or (cikti == 'kagit' and havuz == 'tas') or (cikti == 'makas' and havuz == 'kagit'):\n",
    "        print('Bu el sen kazandin.')\n",
    "        kisi += 1\n",
    "    \n",
    "    elif (cikti == 'tas' and havuz == 'tas') or (cikti == 'kagit' and havuz == 'kagit') or (cikti == 'makas' and havuz == 'makas'):\n",
    "        print('Bu el berabere!')\n",
    "        berabere += 1\n",
    "\n",
    "    giris = input('Devam oynamak icin lütfen e\\'ye basiniz. Oynamayi bitirmek icin baska bir basiniz.').lower()\n",
    "\n",
    "print('Oyun bitti!')\n",
    "print(f'Tebrikler {kisi} kere kazandin. Toplamda {bilgisayar + kisi + berabere} kere oynadik!')\n"
   ]
  },
  {
   "cell_type": "markdown",
   "metadata": {},
   "source": [
    "# DERS 28_10_2024"
   ]
  },
  {
   "cell_type": "code",
   "execution_count": null,
   "metadata": {},
   "outputs": [],
   "source": [
    "sayi = int(input('Lütfen bir sayi giriniz:'))\n",
    "\n",
    "print('Girdiginiz sayi:', sayi)\n",
    "\n",
    "assert sayi > 0, 'Sayi pozitif olmalidir.'"
   ]
  },
  {
   "cell_type": "code",
   "execution_count": null,
   "metadata": {},
   "outputs": [],
   "source": [
    "metin = 'Merhaba bu bir örnek metindir.'\n",
    "\n",
    "aranan_kelime = 'örnek'\n",
    "\n",
    "assert aranan_kelime in metin, f'{aranan_kelime} kelimesi metinde bulunmuyor.'"
   ]
  },
  {
   "cell_type": "code",
   "execution_count": null,
   "metadata": {},
   "outputs": [],
   "source": [
    "# assert ile yazimi\n",
    "\n",
    "giris = input('Merhaba adin ne?')\n",
    "\n",
    "assert len(giris) != 0, 'Isim bölümü bos birakilamaz.'\n",
    "\n",
    "print(f'Hosgeldin {giris}')"
   ]
  },
  {
   "cell_type": "code",
   "execution_count": null,
   "metadata": {},
   "outputs": [],
   "source": [
    "# raise ile yazimi\n",
    "\n",
    "giris = input('Merhaba adin ne?')\n",
    "\n",
    "if len(giris) == 0:\n",
    "    raise AssertionError('Isim bölümü bos birakilamaz.')\n",
    "\n",
    "print(f'Hosgeldin {giris}')"
   ]
  },
  {
   "cell_type": "code",
   "execution_count": null,
   "metadata": {},
   "outputs": [],
   "source": [
    "def isPalindrom(metin):\n",
    "    cikti = metin\n",
    "    metin = metin.lower().replace(\" \", \"\")\n",
    "    uzunluk = len(metin)\n",
    "    \n",
    "    for i in range(uzunluk // 2):\n",
    "        assert metin[i] == metin[uzunluk - i - 1], f\"'{cikti}' ifadesi bir palindrom degildir.\"\n",
    "    return True\n",
    "\n",
    "\n",
    "metin = \"ey edip adanada pide ye\"\n",
    "metin2 = \"Python programlama\"\n",
    "\n",
    "isPalindrom(metin)\n",
    "isPalindrom(metin2)"
   ]
  },
  {
   "cell_type": "code",
   "execution_count": null,
   "metadata": {},
   "outputs": [],
   "source": [
    "def factorial_calculate(n):\n",
    "    \"\"\"Calculates the factorial of a given number.\"\"\"\n",
    "\n",
    "    if n == 0 or n == 1:\n",
    "        return 1\n",
    "    \n",
    "    else:\n",
    "        return n * factorial_calculate(n - 1)\n",
    "    \n",
    "print(factorial_calculate(int(input())))\n"
   ]
  },
  {
   "cell_type": "code",
   "execution_count": null,
   "metadata": {},
   "outputs": [],
   "source": [
    "def fibonacci_series(n):\n",
    "    \"\"\"Generates a Fibonacci series for a given number.\"\"\"\n",
    "    fibonacci_list = [0, 1]\n",
    "    while len(fibonacci_list) < n:\n",
    "        new_element = fibonacci_list[-1] + fibonacci_list[-2]\n",
    "        fibonacci_list.append(new_element)\n",
    "        \n",
    "    return f\"Verdiğiniz {n} elemanli Fibonacci serisi: {fibonacci_list}\"\n",
    "    \n",
    "\n",
    "print(fibonacci_series(int(input(\"Kaç serilik bir Fibonacci istiyorsunuz?\"))))"
   ]
  },
  {
   "cell_type": "markdown",
   "metadata": {},
   "source": [
    "# DERS 30_10_2024"
   ]
  },
  {
   "cell_type": "code",
   "execution_count": null,
   "metadata": {},
   "outputs": [],
   "source": [
    "# Kullanicidan bir sayi alin ve bu yasinin tek mi cift mi oldugunu belirleyin. Fonksiyon kullanarak yapin.\n",
    "\n",
    "def odd_even(num):\n",
    "    \n",
    "    if num % 2:\n",
    "        return 'Odd'\n",
    "    \n",
    "    else:\n",
    "        return 'Even'\n",
    "\n",
    "odd_even(9)"
   ]
  },
  {
   "cell_type": "code",
   "execution_count": null,
   "metadata": {},
   "outputs": [],
   "source": [
    "def tek_cift(sayi):\n",
    "\n",
    "    return 'Tek' if sayi % 2 else 'Cift'\n",
    "\n",
    "tek_cift(123)"
   ]
  },
  {
   "cell_type": "code",
   "execution_count": null,
   "metadata": {},
   "outputs": [],
   "source": [
    "# Böyle bir cözümü de var.\n",
    "\n",
    "def odd_even(num):\n",
    "    return 'Odd' if num % 2 == 1 else 'Even' # ternary conditional expression\n",
    "\n",
    "odd_even(9)"
   ]
  },
  {
   "cell_type": "code",
   "execution_count": null,
   "metadata": {},
   "outputs": [],
   "source": [
    "# Bir kelime listesindeki her kelimenin icinde sadece \"a\" harfini büyük yaparak yeni bir liste olusturun.\n",
    "\n",
    "words = ['adana', 'kebap', 'bahce']\n",
    "\n",
    "[w.replace('a','A') for w in words ]"
   ]
  },
  {
   "cell_type": "code",
   "execution_count": null,
   "metadata": {},
   "outputs": [],
   "source": [
    "# 2. Cözüm, burada ic ice List C. yapisi var.\n",
    "\n",
    "words = ['adana','kebap','bahce'] \n",
    "\n",
    "[''.join([c.upper() if c == 'a' else c for c in w]) for w in words]"
   ]
  },
  {
   "cell_type": "code",
   "execution_count": null,
   "metadata": {},
   "outputs": [],
   "source": [
    "# Yukaridaki örnegi daha iyi anlamak icin:\n",
    "\n",
    "[c.upper() if c == 'a' else c  for w in words for c in w]"
   ]
  },
  {
   "cell_type": "code",
   "execution_count": null,
   "metadata": {},
   "outputs": [],
   "source": [
    "[[c.upper() if c == 'a' else c for c in w] for w in words]"
   ]
  },
  {
   "attachments": {
    "8.png": {
     "image/png": "[encoded data removed]"
    }
   },
   "cell_type": "markdown",
   "metadata": {},
   "source": [
    "![8.png](attachment:8.png)"
   ]
  },
  {
   "cell_type": "code",
   "execution_count": 1,
   "metadata": {},
   "outputs": [
    {
     "data": {
      "text/plain": [
       "[{'Ali': 'Gecti'}, {'Ayşe': 'Kaldi'}, {'Mehmet': 'Gecti'}, {'Zeynep': 'Kaldi'}]"
      ]
     },
     "execution_count": 1,
     "metadata": {},
     "output_type": "execute_result"
    }
   ],
   "source": [
    "# Her bir ögrenci icin not ortalamalarini hesaplayin ve basarili (ortalama 60 veya üstü) ve basarisiz öğrencileri ayirin.\n",
    "\n",
    "students_grades = {\n",
    "    \"Ali\": [70, 85, 90],\n",
    "    \"Ayşe\": [45, 60, 55],\n",
    "    \"Mehmet\": [80, 95, 92],\n",
    "    \"Zeynep\": [50, 40, 65]\n",
    "}\n",
    "\n",
    "[{i: \"Gecti\" if round(sum(j)/len(j), 2) >= 60 else \"Kaldi\"} for i, j in students_grades.items()]\n"
   ]
  },
  {
   "cell_type": "code",
   "execution_count": null,
   "metadata": {},
   "outputs": [],
   "source": [
    "# İki sayinin pozitif bölenlerinin toplami diger sayiya esitse, bu iki sayiya arkadas sayi denir.\n",
    "\n",
    "def is_amicable(num1, num2):\n",
    "    \n",
    "    '''Bu fonksiyon iki sayinin arkadas olup olmadigini teshis eder.'''\n",
    "    \n",
    "    num1_divisors_total = sum([i for i in range(1, num1) if num1 % i == 0])\n",
    "    num2_divisors_total = sum([i for i in range(1, num2) if num2 % i == 0])\n",
    "    \n",
    "    return True if num1 == num2_divisors_total and num2 == num1_divisors_total else False\n"
   ]
  },
  {
   "cell_type": "code",
   "execution_count": null,
   "metadata": {},
   "outputs": [],
   "source": [
    "# Senaryo: IT Departmanina Eleman Alimi\n",
    "# Bir sirketin IT departmani Data Analyst ve Machine Learning Engineer pozisyonlari icin eleman ariyor. Adaylardan belirli becerilere sahip olmalari bekleniyor:\n",
    "# Görev:\n",
    "# Adaylarin isimlerini ve sahip olduklari becerileri iceren bir liste olusturun.\n",
    "# Adaylarin hangi pozisyona uygun oldugunu belirleyin.\n",
    "# Her pozisyona uygun adaylari bir sözlükte listeleyin.\n",
    "# Cözümde list comprehension, if-else, dictionary ve list gibi yapilarin kullanimina dikkat edin.\n",
    "\n",
    "\n",
    "candidates = [\n",
    "    {\"name\": \"Ali\", \"skills\": [\"SQL\", \"Excel\", \"Data Visualization\", \"Statistics\"]},\n",
    "    {\"name\": \"Ayse\", \"skills\": [\"Python\", \"Machine Learning\", \"Deep Learning\", \"TensorFlow\"]},\n",
    "    {\"name\": \"Mehmet\", \"skills\": [\"Excel\", \"Data Visualization\", \"SQL\", \"Power BI\"]},\n",
    "    {\"name\": \"Zeynep\", \"skills\": [\"Python\", \"SQL\", \"Machine Learning\", \"Data Preprocessing\", \"Statistics\"]},\n",
    "    {\"name\": \"Ahmet\", \"skills\": [\"SQL\", \"Machine Learning\", \"Python\", \"Data Preprocessing\"]}\n",
    "]\n",
    "\n",
    "position_requirements = {\n",
    "    \"Data Analyst\": [\"SQL\", \"Excel\", \"Data Visualization\", \"Statistics\", \"Python\"],\n",
    "    \"Machine Learning Engineer\": [\"Python\", \"Machine Learning\", \"Deep Learning\", \"TensorFlow\", \"Data Preprocessing\"]\n",
    "}"
   ]
  },
  {
   "cell_type": "code",
   "execution_count": null,
   "metadata": {},
   "outputs": [],
   "source": [
    "da_need_skills = len(position_requirements['Data Analyst'])\n",
    "ml_need_skills = len(position_requirements['Machine Learning Engineer'])\n",
    "da_candidates = {}\n",
    "ml_candidates = {}\n",
    "\n",
    "for candi in candidates:\n",
    "    da_oran = sum([skill in position_requirements['Data Analyst'] for skill in candi['skills']]) / da_need_skills # Adayin kac tane yeteneginin gerekli yetenekler listesinde oldugunu sayiyoruz.\n",
    "    ml_oran = sum([skill in position_requirements['Machine Learning Engineer'] for skill in candi['skills']]) / ml_need_skills\n",
    "\n",
    "    if da_oran > 0:\n",
    "        da_candidates[candi['name']] = da_oran # dict'in icini dolduruyoruz.\n",
    "\n",
    "    if ml_oran > 0:\n",
    "        ml_candidates[candi['name']] = ml_oran\n",
    "\n",
    "print(f'da candidates: {da_candidates}')    \n",
    "print(f'ml candidates: {ml_candidates}')"
   ]
  },
  {
   "cell_type": "markdown",
   "metadata": {},
   "source": [
    "# DERS 31_10_2024"
   ]
  },
  {
   "cell_type": "code",
   "execution_count": null,
   "metadata": {},
   "outputs": [],
   "source": [
    "# Error\n",
    "\n",
    "def students_notes(**kwargs):\n",
    "    print(kwargs)\n",
    "students_notes({'ahmet': 90, 'mehmet': 80, 'ceylan': 30})"
   ]
  },
  {
   "cell_type": "code",
   "execution_count": null,
   "metadata": {},
   "outputs": [],
   "source": [
    "def students_notes(**kwargs):\n",
    "    print(kwargs)\n",
    "students_notes(**{'ahmet': 90, 'mehmet': 80, 'ceylan': 30})   "
   ]
  },
  {
   "cell_type": "code",
   "execution_count": null,
   "metadata": {},
   "outputs": [],
   "source": [
    "def students_notes(**kwargs):\n",
    "    print(kwargs)\n",
    "students_notes(ahmet = 90, mehmet = 80, ceylan = 30)    "
   ]
  },
  {
   "cell_type": "code",
   "execution_count": null,
   "metadata": {},
   "outputs": [],
   "source": [
    "# 3'ten büyük olan degerleri filtreleyen bir kod yazin.\n",
    "\n",
    "def is_greater(a):\n",
    "    return True if a > 3 else False\n",
    "\n",
    "list(filter(is_greater, [6, 4, 9, 2, 1, 7, 4]))"
   ]
  },
  {
   "cell_type": "code",
   "execution_count": null,
   "metadata": {},
   "outputs": [],
   "source": [
    "# a ile baslayip e ile biten isimleri listeleme:\n",
    "\n",
    "def isim_analiz(name):\n",
    "    name = name.lower()\n",
    "\n",
    "    return name.startswith('a') and name.endswith('e') # Bu kod calisir, startswith ve endswith boolean döndürdügü icin, 'return True if name.startswith('a') and name.endswith('e') else False' da kullanilabilir.\n",
    "\n",
    "names = ['Alice', 'Nil', 'Aileen', 'Elena', 'Aimee', 'Abbie']   \n",
    "new_names = list(filter(isim_analiz, names))\n",
    "\n",
    "print(new_names)"
   ]
  },
  {
   "cell_type": "code",
   "execution_count": null,
   "metadata": {},
   "outputs": [],
   "source": [
    "# Kökü tam sayi olan sayilara kare sayi denir. Bir sayinin kare oldugunu teshis eden bir fonksiyon yazin.\n",
    "\n",
    "import math\n",
    "def is_square(num):\n",
    "    square_root = str(math.sqrt(num))\n",
    "    return True if square_root.split('.')[1] == '0' else False \n",
    "\n",
    "def find_root(num):\n",
    "    return math.sqrt(num)\n",
    "    \n",
    "numbers_has_roots = list(filter(is_square, range(1, 101)))\n",
    "print(numbers_has_roots) # 1 ile 100 arasindaki kare sayilar\n",
    "\n",
    "kökleri = list(map(find_root, numbers_has_roots))\n",
    "print(kökleri) # Bu sayilarin kökleri"
   ]
  },
  {
   "cell_type": "code",
   "execution_count": null,
   "metadata": {},
   "outputs": [],
   "source": [
    "# Benim cözümüm:\n",
    "\n",
    "import math\n",
    "def is_square(num):\n",
    "    square_root = str(math.sqrt(num))\n",
    "    return True if square_root.split('.')[1] == '0' else False \n",
    "\n",
    "def find_root(num):\n",
    "    return math.sqrt(num)\n",
    "    \n",
    "numbers_has_roots = list(filter(is_square, range(1, 101)))\n",
    "print(numbers_has_roots) # 1 ile 100 arasindaki kare sayilar\n",
    "\n",
    "kökleri = list(map(find_root, numbers_has_roots))\n",
    "kökleri_int = []\n",
    "i = 0\n",
    "\n",
    "while i < len(kökleri):\n",
    "    i = int(i)\n",
    "    kökleri_int.append(i)\n",
    "    i += 1\n",
    "\n",
    "print(kökleri_int)"
   ]
  },
  {
   "cell_type": "code",
   "execution_count": null,
   "metadata": {},
   "outputs": [],
   "source": [
    "(lambda x: x >5)(4)"
   ]
  },
  {
   "cell_type": "code",
   "execution_count": null,
   "metadata": {},
   "outputs": [],
   "source": [
    "# boolean olmak zorunda degil, islem de yapilabilir.\n",
    "# filter ile beraber kullaniyorsaniz o zaman lambda bool döndürmeli.\n",
    "\n",
    "(lambda x: x + 9)(2) "
   ]
  },
  {
   "cell_type": "code",
   "execution_count": null,
   "metadata": {},
   "outputs": [],
   "source": [
    "# map + lambda \n",
    "# @ ile . arasindaki kisim gerekli\n",
    "\n",
    "email_listesi = [\n",
    "    'brayolivia@parker.com',\n",
    "    'dunnfelicia@thompson.com',\n",
    "    'phouse@hotmail.com',\n",
    "    'kpayne@moore.com',\n",
    "    'coxdavid@long-mcconnell.com',\n",
    "    'bhoffman@perez.com',\n",
    "    'cwilliams@ewing.com',\n",
    "    'archerscott@hotmail.com',\n",
    "    'jeremy83@hotmail.com',\n",
    "    'susanbooker@smith-wilson.com'\n",
    "]\n",
    "\n",
    "list(map(lambda email: email.split('@')[1].split('.')[0], email_listesi)) # method chaining"
   ]
  },
  {
   "cell_type": "code",
   "execution_count": 4,
   "metadata": {},
   "outputs": [
    {
     "data": {
      "text/plain": [
       "['parker',\n",
       " 'thompson',\n",
       " 'hotmail',\n",
       " 'moore',\n",
       " 'long-mcconnell',\n",
       " 'perez',\n",
       " 'ewing',\n",
       " 'hotmail',\n",
       " 'hotmail',\n",
       " 'smith-wilson']"
      ]
     },
     "execution_count": 4,
     "metadata": {},
     "output_type": "execute_result"
    }
   ],
   "source": [
    "# Benim cözümüm list comprehension methodu ile.\n",
    "\n",
    "email_listesi = [\n",
    "    'brayolivia@parker.com',\n",
    "    'dunnfelicia@thompson.com',\n",
    "    'phouse@hotmail.com',\n",
    "    'kpayne@moore.com',\n",
    "    'coxdavid@long-mcconnell.com',\n",
    "    'bhoffman@perez.com',\n",
    "    'cwilliams@ewing.com',\n",
    "    'archerscott@hotmail.com',\n",
    "    'jeremy83@hotmail.com',\n",
    "    'susanbooker@smith-wilson.com'\n",
    "]\n",
    "\n",
    "[i.split('@')[1].split('.')[0] for i in email_listesi]"
   ]
  },
  {
   "cell_type": "code",
   "execution_count": 1,
   "metadata": {},
   "outputs": [
    {
     "name": "stdout",
     "output_type": "stream",
     "text": [
      "Tesekkür ederiz, basariyla cikis islemi gerceklestirdiniz.\n",
      "Girdiginiz sayilar mihvalinde olusan seklinizin adi 4gen olup, cevresi 21 cm'dir.\n"
     ]
    }
   ],
   "source": [
    "# Sayilari kullanicidan al input ile, map ve lambda ile hepsini integera cevir,\n",
    "# girilen kenar sayisina göre seklin kacgen oldugunu tespit edip cevresini ver.\n",
    "# Benim cözümüm:\n",
    "\n",
    "def geo_matik(*args): # Verilen string ifadeler iceren listeyi map ile integer elemanlar iceren listeye cevirme fonksiyonu\n",
    "    \n",
    "    int_args = list(map(int, args))\n",
    "\n",
    "    return int_args\n",
    "\n",
    "#-----------------------------------------------------------------------------------------------------------------------------------------------------------\n",
    "\n",
    "sayilar_listesi = [] # Input ile kullanicidan sayilar alindi ve cikis icin 'e' kullanimi saglandi.\n",
    "\n",
    "while True:\n",
    "    sayilar = input('Lütfen olusturmak istediginiz geometrik sekil icin sayilarinizi giriniz, sonrasinda cikmak icin \\'e\\' tusuna basiniz.').lower()\n",
    "\n",
    "    try: \n",
    "\n",
    "        if sayilar == 'e' and len(sayilar_listesi) >= 3:\n",
    "            print('Tesekkür ederiz, basariyla cikis islemi gerceklestirdiniz.')\n",
    "            break\n",
    "\n",
    "        elif type(int(sayilar)) == int:\n",
    "            sayilar_listesi.append(sayilar)\n",
    "\n",
    "    except:\n",
    "        print('''Bu mesaji görüyorsaniz 3 hatadan birini yapmis olmalisiniz:\n",
    "              1- Bir geometrik sekil en az 3 noktadan olusur, 3'ten az sayi girisi gerceklestirdiniz.\n",
    "              2- Sayi giris formun yanlislik var. Örnegin iki degil 2 seklinde giris gerceklestirmelisiniz.\n",
    "              3- Cikis icin e harfine degil baska bir harfe bastiniz.\n",
    "              Lütfen sayi girisine yukaridaki uyarilari dikkate alarak bastan baslayin.''')\n",
    "        \n",
    "        sayilar_listesi.clear()\n",
    "        \n",
    "# -----------------------------------------------------------------------------------------------------------------------------------------------------------\n",
    "\n",
    "int_sayilar_listesi = geo_matik(*sayilar_listesi) # Burada yukarida tanimladigim fonksiyon ile str ifadelerden olusan sayilar_listesi int ifadelerden olusan bir listeye cevrildi.\n",
    "\n",
    "cevre = sum(int_sayilar_listesi) # sum ile cevreyi hesapladik.\n",
    "\n",
    "köse = len(sayilar_listesi) # Köse sayisi hesaplandi.\n",
    "\n",
    "# ------------------------------------------------------------------------------------------------------------------------------------------------------------\n",
    "\n",
    "print(f'Girdiginiz sayilar mihvalinde olusan seklinizin adi {köse}gen olup, cevresi {cevre} cm\\'dir.')"
   ]
  },
  {
   "cell_type": "code",
   "execution_count": 5,
   "metadata": {},
   "outputs": [
    {
     "name": "stdout",
     "output_type": "stream",
     "text": [
      "Ücgen Cevresi: 23\n"
     ]
    }
   ],
   "source": [
    "# Hocanin cözümü:\n",
    "\n",
    "def sekil_analiz(**sides):\n",
    "    cevre = sum(list(map(int, sides.values())))\n",
    "    kacgen = len(sides)\n",
    "    gens = {\n",
    "        3: 'ücgen',\n",
    "        4: 'dörtgen',\n",
    "        5: 'besgen',\n",
    "        6: 'altigen',\n",
    "        7: 'yedigen'\n",
    "    }\n",
    "    sekil_adi = gens.get(kacgen)\n",
    "    return f'{sekil_adi.capitalize()} Cevresi: {cevre}'\n",
    "\n",
    "\n",
    "kenar_uzunluklari = {}\n",
    "counter = 0\n",
    "while True:\n",
    "    data = input('Seklinizin kenar uzunluklarini giriniz, cikmak icin e\\'ye basiniz.')    \n",
    "\n",
    "    if data == 'e':\n",
    "        if len(kenar_uzunluklari) < 3: print('Bir kapali geometrik sekil en az 3 kenar icerebilir.')\n",
    "        else:\n",
    "            break\n",
    "    elif data.isnumeric():\n",
    "        counter += 1\n",
    "        kenar_uzunluklari[f'kenar{counter}'] = data\n",
    "    else:\n",
    "        print('Girilen sayi numeric olmalidir.')\n",
    "\n",
    "print(sekil_analiz(**kenar_uzunluklari))"
   ]
  },
  {
   "attachments": {
    "12.png": {
     "image/png": "[encoded data removed]"
    }
   },
   "cell_type": "markdown",
   "metadata": {},
   "source": [
    "![12.png](attachment:12.png)"
   ]
  },
  {
   "cell_type": "markdown",
   "metadata": {},
   "source": [
    "# DERS 01_11_2024"
   ]
  },
  {
   "cell_type": "code",
   "execution_count": null,
   "metadata": {},
   "outputs": [],
   "source": [
    "list_x = [2,3,4,5]\n",
    "\n",
    "try:\n",
    "    list_x[9]\n",
    "\n",
    "except Exception as error:\n",
    "    print(f'hata bulundu {error}')"
   ]
  },
  {
   "cell_type": "code",
   "execution_count": null,
   "metadata": {},
   "outputs": [],
   "source": [
    "list_x = [2,3,4,5]\n",
    "\n",
    "try:\n",
    "    list_x[9]\n",
    "\n",
    "except Exception:\n",
    "    print('Exception tüm hatalarin genel adidir.')"
   ]
  },
  {
   "cell_type": "code",
   "execution_count": null,
   "metadata": {},
   "outputs": [],
   "source": [
    "# Kinetik enerji formülü üzerinden her bir degerin, digerleri verildigi sartta kac oldugunu bulan fonksiyonu yaziniz.\n",
    "\n",
    "\n",
    "def ke_calculate(x, ke= None, v = None, m = None):\n",
    "\n",
    "    ke_formulas = {\n",
    "        'v' : lambda ke, m : ((ke * 2) / m ) ** 0.5,\n",
    "        'ke' : lambda v, m : (1/2) * m * v ** 2,\n",
    "        'm' : lambda ke, v : (ke * 2) / v ** 2\n",
    "    }\n",
    "    result =  ke_formulas[x](m, v) if x == 'ke' else ke_formulas[x](ke, m) if x == 'v' else ke_formulas[x](ke, v) if x == 'm' else 'gecersiz'\n",
    "    return result\n",
    "\n",
    "\n",
    "\n",
    "print(ke_calculate(x = 'v', m = 2, ke = 4)) # Kinetik enerjisi ve kütlesi verilen cismin hizini buluyoruz. \n",
    "print(ke_calculate(x = 'm', v = 2, ke = 4)) # Kinetik enerjisi ve hizi verilen cismin kütlesini buluyoruz. \n",
    "print(ke_calculate(x = 'v', ke = 4, m = 2)) # Kütlesini ve hizini verdik, kinetik enerjisini buluyoruz. "
   ]
  },
  {
   "cell_type": "markdown",
   "metadata": {},
   "source": [
    "# DERS 02_11_2024"
   ]
  },
  {
   "cell_type": "markdown",
   "metadata": {},
   "source": [
    "**Calisan Maas Yönetim Sistemi**\n",
    "\n",
    "**Talimatlar:**\n",
    "\n",
    "1. Calisan Ekle:\n",
    "\n",
    "* Kullanicidan yeni bir calisanin adini ve maasini girmesi istenir.\n",
    "* Girilen maasin gecerli bir sayi olup olmadigi kontrol edilir.\n",
    "* Gecerli ise, çalisan listesine adi ve maasiyla birlikte eklenir ve eklenen calisanın bilgisi kullaniciya gösterilir.\n",
    "* Gecersiz maas girisi durumunda kullaniciya uyari verilir ve islem tekrarlanir.\n",
    "\n",
    "2. Calisanlari Listele:\n",
    "\n",
    "* Eger henüz hic çalisan eklenmemisse, \"Henüz çalisan eklenmedi.\" mesaji gösterilir.\n",
    "* Eger calisanlar varsa, her calisanin adi ve maasi sirasiyla listelenir.\n",
    "\n",
    "3. Belirli Maaştan Yüksek Olan Calisanlari Filtrele:\n",
    "\n",
    "* Kullanicidan bir minimum maas degeri girmesi istenir.\n",
    "* Girilen degerin gecerli bir sayi olup olmadigi kontrol edilir.\n",
    "* Gecerli ise, girilen maastan yüksek olan tüm calisanlar listelenir.\n",
    "* Bu calisanlar varsa, her birinin adi ve maasi gösterilir.\n",
    "* Belirtilen maastan yüksek çalisan yoksa, kullaniciya bilgi verilir.\n",
    "\n",
    "4. Cikis:\n",
    "\n",
    "* Kullanici programdan cikmak istediginde secenek sunulur.\n",
    "* \"4\" tusuna basilarak cikis yapilir ve program sonlandirilir."
   ]
  },
  {
   "cell_type": "code",
   "execution_count": null,
   "metadata": {},
   "outputs": [],
   "source": [
    "employees = []\n",
    "def add_employee():\n",
    "    name = input('Calisanin adini giriniz')\n",
    "    salary = input('Calisanin maasini giriniz')\n",
    "    \n",
    "    if salary.isdigit():\n",
    "        employees.append({'name':name, 'salary':int(salary)})\n",
    "        print(f'{name} calisani eklendi.')\n",
    "    else:\n",
    "        print(f'Gecersiz calisan bilgisi. Lütfen tekrar deneyiniz. Ekleme yapilamadi.')\n",
    "\n",
    "\n",
    "\n",
    "def list_employees():\n",
    "    if not employees:\n",
    "        print('Henuz calisan bulunmamaktadir.')\n",
    "    else:\n",
    "        for employee in employees:\n",
    "            print(f\"Kullanicinin ismi :{employee['name']} , maasi: {employee['salary']}\")\n",
    "\n",
    "\n",
    "def filter_employees_by_salary(min_salary):\n",
    "    filtered_employees = list(filter(lambda employee: min_salary < employee['salary'] ,employees))\n",
    "    if not filtered_employees:\n",
    "        print(f'{min_salary} den daha yüksek maas alan bir calisanimiz bulunmamaktadir.')\n",
    "    else:\n",
    "        for employee in filtered_employees:\n",
    "            print(f\"Calisan ismi: {employee['name']} , maasi: {employee['salary']}\")\n",
    "    \n",
    "\n",
    "def main():\n",
    "    while True:\n",
    "        print('''Calisan Yönetim Sistemi:\n",
    "        1- Calisan Ekle \n",
    "        2- Calisanlari Listele \n",
    "        3- Belirli Maastan Yuksek Olan Calisanlari Filtrele\n",
    "        4- Cikis\n",
    "        ''')\n",
    "        choice = input('Seciminizi Yapiniz. (1-4)')\n",
    "        if choice == '1':\n",
    "            add_employee()\n",
    "        elif choice == '2':\n",
    "            list_employees()\n",
    "        elif choice == '3':\n",
    "            min_salary = input('Min Salary giriniz.')\n",
    "            if min_salary.isdigit():\n",
    "                filter_employees_by_salary(int(min_salary))# min salaryi parametre olarak gonderdim\n",
    "            else:\n",
    "                print('Gecersiz data girisi.')\n",
    "        elif choice =='4':\n",
    "            print('Sistem sonlandirildi')\n",
    "            break\n",
    "main()            "
   ]
  },
  {
   "cell_type": "code",
   "execution_count": null,
   "metadata": {},
   "outputs": [],
   "source": [
    "import string\n",
    "print(string.ascii_letters)\n",
    "print(string.ascii_lowercase)\n",
    "print(string.ascii_uppercase)\n",
    "print(string.punctuation)\n",
    "print(string.digits)"
   ]
  },
  {
   "cell_type": "code",
   "execution_count": null,
   "metadata": {},
   "outputs": [],
   "source": [
    "import math\n",
    "print(math.sqrt(9))\n",
    "print(math.ceil(9.3))\n",
    "print(math.floor(9.8))"
   ]
  },
  {
   "cell_type": "code",
   "execution_count": null,
   "metadata": {},
   "outputs": [],
   "source": [
    "# Cümlenin Karakter Analizini Yapma\n",
    "# Bir metindeki harf, rakam ve özel karakter sayilarini analiz eden bir Python fonksiyonu yazin.\n",
    "# Bu fonksiyon, string modülünü kullanarak metindeki farkli karakter türlerinin sayisini hesaplayacak.\n",
    "\n",
    "import string\n",
    "def karakter_analizi(metin):\n",
    "    harf_sayisi = sum(1 for char in metin if char in string.ascii_letters)    \n",
    "    rakam_sayisi = sum(1 for char in metin if char in string.digits)    \n",
    "    ozel_karakter_sayisi = sum(1 for char in metin if char in string.punctuation) \n",
    "\n",
    "    return {\n",
    "        'Harf Sayisi': harf_sayisi,\n",
    "        'Rakam Sayisi': rakam_sayisi,\n",
    "        'Ozel Karakter Sayisi': ozel_karakter_sayisi\n",
    "        }   \n",
    "\n",
    "metin = 'Bu advanced??*&^7 pythonin 89. sorusudur.'\n",
    "print(karakter_analizi(metin))    "
   ]
  },
  {
   "cell_type": "markdown",
   "metadata": {},
   "source": [
    "---"
   ]
  },
  {
   "cell_type": "markdown",
   "metadata": {},
   "source": [
    "# Sedat Hoca Özet"
   ]
  },
  {
   "cell_type": "code",
   "execution_count": null,
   "metadata": {},
   "outputs": [],
   "source": [
    "# Sayi Tahmin Oyunu\n",
    "\n",
    "y = True\n",
    "sayi = 33\n",
    "\n",
    "while y:\n",
    "    \n",
    "    tahmin = int(input('Lütfen hafizamdaki sayiyi bulmak icin bir sayi giriniz:'))\n",
    "    \n",
    "    if tahmin > sayi:\n",
    "        print ('Tahmininiz hafizamdaki sayidan büyük, lütfen tahmininizi azaltiniz.')\n",
    "    \n",
    "    elif tahmin < sayi:\n",
    "        print ('Tahmininiz hafizamdaki sayidan kücük, lütfen tahmininizi arttirin.')\n",
    "    \n",
    "    else:\n",
    "        print (f'Bravo tahmininiz {tahmin} hafizamdaki sayi olan {sayi} ile eslesti!')\n",
    "        y = False"
   ]
  },
  {
   "cell_type": "code",
   "execution_count": null,
   "metadata": {},
   "outputs": [],
   "source": [
    "# Sayilar listesinin karesini döndüren programi yazalim.\n",
    "\n",
    "sayilar_listesi = [1, 3, 4, 2, 5, 7, 6]\n",
    "\n",
    "x = 0\n",
    "\n",
    "while x < len(sayilar_listesi):\n",
    "    print (sayilar_listesi[x] ** 2)\n",
    "\n",
    "    x += 1"
   ]
  },
  {
   "cell_type": "code",
   "execution_count": null,
   "metadata": {},
   "outputs": [],
   "source": [
    "# [1, 5, 6, 7, 12, 14, 15, 18, 1, 32, 25] listesinin tek elemanlarinin karesini, cift elemanlarinin 2 katini liste halinde döndüren while döngüsünü yazin.\n",
    "\n",
    "liste = [1, 5, 6, 7, 12, 14, 15, 18, 1, 32, 25]\n",
    "x = 0\n",
    "sonuc_listesi = []\n",
    "\n",
    "while x < len (liste):\n",
    "\n",
    "    if liste [x] % 2: # liste [x] % 2 == 1 yazmama gerek yok, cünkü sayilar_listesi [x] % 2 1'e karsilik gelir o da True'dir ve if fonksiyonunun icine girmemizi saglar.\n",
    "        sonuc_listesi.append (liste[x] ** 2)\n",
    "    else:\n",
    "        sonuc_listesi.append (liste[x] * 2)\n",
    "\n",
    "    x += 1\n",
    "print(sonuc_listesi)"
   ]
  },
  {
   "cell_type": "code",
   "execution_count": null,
   "metadata": {},
   "outputs": [],
   "source": [
    "# Normalde random kullandigimizda rastgele 0-1 arasinda degerler olustururken, random'un kendince bir baslangic noktasi olusturmasini istiyorsak seed kullaniriz.\n",
    "# Örnegin ekip arkadasimizla ayni random deger üzerinde calismak istiyorsak seed'i kullanabiliriz. Bu artik random olusmus bir sabit oldu.\n",
    "\n",
    "import random\n",
    "\n",
    "random.seed(30)\n",
    "random.random()"
   ]
  },
  {
   "cell_type": "code",
   "execution_count": null,
   "metadata": {},
   "outputs": [],
   "source": [
    "# Yukaridaki Sayi Tahmin Oyununu Random ile Yapma\n",
    "\n",
    "import random\n",
    "y = True\n",
    "sayi = random.randint(0, 100)\n",
    "\n",
    "while y:\n",
    "    \n",
    "    tahmin = int(input('Lütfen hafizamdaki sayiyi bulmak icin bir sayi giriniz:'))\n",
    "    \n",
    "    if tahmin > sayi:\n",
    "        print ('Tahmininiz hafizamdaki sayidan büyük, lütfen tahmininizi azaltiniz.')\n",
    "    \n",
    "    elif tahmin < sayi:\n",
    "        print ('Tahmininiz hafizamdaki sayidan kücük, lütfen tahmininizi arttirin.')\n",
    "    \n",
    "    else:\n",
    "        print (f'Bravo tahmininiz {tahmin} hafizamdaki sayi olan {tahmin} ile eslesti!')\n",
    "        y = False"
   ]
  },
  {
   "cell_type": "code",
   "execution_count": null,
   "metadata": {},
   "outputs": [],
   "source": [
    "# break'in mantigini anlamak adina yukaridaki örnegin break ile cözümü\n",
    "# y = True ifadesini kaldirip döngüye while True ile girip sonsuz döngü olmasini sagladik, en sonda ise artik y degiskeni olmadigi icin onu silip break yaptik. Prensip olarak ayni isi yaptilar.\n",
    "\n",
    "import random\n",
    "sayi = random.randint(0, 100)\n",
    "\n",
    "while True:\n",
    "    \n",
    "    tahmin = int(input('Lütfen hafizamdaki sayiyi bulmak icin bir sayi giriniz:'))\n",
    "    \n",
    "    if tahmin > sayi:\n",
    "        print ('Tahmininiz hafizamdaki sayidan büyük, lütfen tahmininizi azaltiniz.')\n",
    "    \n",
    "    elif tahmin < sayi:\n",
    "        print ('Tahmininiz hafizamdaki sayidan kücük, lütfen tahmininizi arttirin.')\n",
    "    \n",
    "    else:\n",
    "        print (f'Bravo tahmininiz {tahmin} hafizamdaki sayi olan {tahmin} ile eslesti!')\n",
    "        break"
   ]
  },
  {
   "cell_type": "code",
   "execution_count": null,
   "metadata": {},
   "outputs": [],
   "source": [
    "# liste = [1, 2, 3, 4, 'Techpro', 5, 6, 7] sirasiyla int degerleri toplayin, str ifadeye denk gelince kod sonlansin.\n",
    "\n",
    "liste = [1, 2, 3, 4, 'Techpro', 5, 6, 7]\n",
    "\n",
    "toplam = 0\n",
    "i = 0\n",
    "\n",
    "while i < len(liste):\n",
    "    if type(liste[i]) == int:\n",
    "        toplam += liste[i]\n",
    "        i += 1\n",
    "    else:\n",
    "        break\n",
    "print (toplam)"
   ]
  },
  {
   "cell_type": "code",
   "execution_count": null,
   "metadata": {},
   "outputs": [],
   "source": [
    "# liste = [1, 2, 3, 4, 'Techpro', 5, 6, 7] sirasiyla int degerleri toplayin, str ifadeye denk gelince atlayip devam etsin.\n",
    "\n",
    "liste = [1, 2, 3, 4, 'Techpro', 5, 6, 7]\n",
    "\n",
    "toplam = 0\n",
    "i = 0\n",
    "\n",
    "while i < len(liste):\n",
    "    if type(liste[i]) == int:\n",
    "        toplam += liste[i]\n",
    "        i += 1\n",
    "    else:\n",
    "        i += 1\n",
    "        continue # continue' den sonra direkt basa döner i += i ifadesini else icine degil de disina yazsaydik sonsuza giderdi.\n",
    "    \n",
    "print (toplam)"
   ]
  },
  {
   "cell_type": "code",
   "execution_count": null,
   "metadata": {},
   "outputs": [],
   "source": [
    "# 'Techpro' >>> 'T-e-c-h-p-r-o'\n",
    "\n",
    "new_str = ''\n",
    "\n",
    "for i in 'Techpro':\n",
    "    new_str += i + '-'\n",
    "\n",
    "print(new_str.rstrip('-'))"
   ]
  },
  {
   "cell_type": "code",
   "execution_count": null,
   "metadata": {},
   "outputs": [],
   "source": [
    "# Listenin max., min., sort kullanmadan while ile min. degerini, for ile max. degerini bulun.\n",
    "\n",
    "liste = [4, 5, 6, 9, 85, 23, 65, 47, 32, 2, 91]\n",
    "\n",
    "x = 0\n",
    "min_sayi = liste[0] # Kendimiz rastgele bu en kücük olsun deyip bir sayi belirledik.\n",
    "\n",
    "while x < len(liste):\n",
    "    if min_sayi > liste [x]:\n",
    "        min_sayi = liste[x]\n",
    "\n",
    "    x += 1\n",
    "\n",
    "print(min_sayi)"
   ]
  },
  {
   "cell_type": "code",
   "execution_count": null,
   "metadata": {},
   "outputs": [],
   "source": [
    "liste = [4, 5, 6, 9, 85, 23, 65, 47, 32, 2, 91]\n",
    "\n",
    "max_sayi = liste[0]\n",
    "\n",
    "for i in liste:\n",
    "    if max_sayi < i:\n",
    "        max_sayi = i\n",
    "\n",
    "print (max_sayi)"
   ]
  },
  {
   "cell_type": "code",
   "execution_count": null,
   "metadata": {},
   "outputs": [],
   "source": [
    "'Techpro'.center(20)"
   ]
  },
  {
   "cell_type": "code",
   "execution_count": null,
   "metadata": {},
   "outputs": [],
   "source": [
    "'Techpro'.ljust(20)"
   ]
  },
  {
   "cell_type": "code",
   "execution_count": null,
   "metadata": {},
   "outputs": [],
   "source": [
    "'Techpro'.rjust(20)"
   ]
  },
  {
   "cell_type": "code",
   "execution_count": null,
   "metadata": {},
   "outputs": [],
   "source": [
    "# sum fonksiyonu icindeki iterable elemanlari toplar. Sadece numerik degerlerle calisir.\n",
    "\n",
    "sum(range(1, 51))"
   ]
  },
  {
   "cell_type": "code",
   "execution_count": null,
   "metadata": {},
   "outputs": [],
   "source": [
    "# Virgülden sonra start degeri belirledik ve onun üzerine toplami ekledi.\n",
    "\n",
    "sum(range(1, 51), 100)"
   ]
  },
  {
   "cell_type": "code",
   "execution_count": null,
   "metadata": {},
   "outputs": [],
   "source": [
    "# liste = [1, 2, 3, 4, 5] 3 ve 3'ün kati olan sayiya denk geldiginde döngü bitsin, diger durumlarda sayilarin karesini göstersin.\n",
    "\n",
    "liste = [1, 2, 3, 4, 5]\n",
    "\n",
    "for i in liste:\n",
    "    if i % 3 == 0:\n",
    "        break\n",
    "\n",
    "    print (i ** 2)"
   ]
  },
  {
   "cell_type": "code",
   "execution_count": null,
   "metadata": {},
   "outputs": [],
   "source": [
    "# liste = [1, 2, 3, 4, 5] 3 ve 3'ün kati olan sayiya denk geldiginde döngü islem yapmadan devam etsin.\n",
    "\n",
    "liste = [1, 2, 3, 4, 5]\n",
    "\n",
    "for i in liste:\n",
    "    if i % 3 == 0:\n",
    "        continue\n",
    "\n",
    "    print (i ** 2)"
   ]
  },
  {
   "cell_type": "code",
   "execution_count": null,
   "metadata": {},
   "outputs": [],
   "source": [
    "a = ['apple', 'orange', 'lemon']\n",
    "b = [1, 2, 3]"
   ]
  },
  {
   "cell_type": "code",
   "execution_count": null,
   "metadata": {},
   "outputs": [],
   "source": [
    "zip(a, b)"
   ]
  },
  {
   "cell_type": "code",
   "execution_count": null,
   "metadata": {},
   "outputs": [],
   "source": [
    "list(zip(a, b))"
   ]
  },
  {
   "cell_type": "code",
   "execution_count": null,
   "metadata": {},
   "outputs": [],
   "source": [
    "# Eleman sayisi ayni degilse en kücük eleman sayisina göre yapar.\n",
    "\n",
    "x = 'Techpro'\n",
    "y = 'Yasin'\n",
    "z = 'Arzu'\n",
    "\n",
    "list(zip(x, y, z))"
   ]
  },
  {
   "cell_type": "code",
   "execution_count": null,
   "metadata": {},
   "outputs": [],
   "source": [
    "meyveler = ['apple','orange', 'apple']\n",
    "adet = [1, 2, 3]"
   ]
  },
  {
   "cell_type": "code",
   "execution_count": null,
   "metadata": {},
   "outputs": [],
   "source": [
    "# keyler essizdir.\n",
    "\n",
    "dict(zip(meyveler, adet))"
   ]
  },
  {
   "cell_type": "code",
   "execution_count": null,
   "metadata": {},
   "outputs": [],
   "source": [
    "# value essiz degildir.\n",
    "\n",
    "dict(zip(adet, meyveler))"
   ]
  },
  {
   "cell_type": "code",
   "execution_count": null,
   "metadata": {},
   "outputs": [],
   "source": [
    "name = ['Ferdi', 'Ali', 'Dilay']\n",
    "age = [33, 25, 26]\n",
    "job = ('DS', 'DA', 'PD')"
   ]
  },
  {
   "cell_type": "code",
   "execution_count": null,
   "metadata": {},
   "outputs": [],
   "source": [
    "list(zip(name, age, job))"
   ]
  },
  {
   "cell_type": "code",
   "execution_count": null,
   "metadata": {},
   "outputs": [],
   "source": [
    "for i, j, k in zip(name, age, job):\n",
    "\n",
    "    print (f'name: {i}, age: {j}, job: {k}')"
   ]
  },
  {
   "cell_type": "code",
   "execution_count": null,
   "metadata": {},
   "outputs": [],
   "source": [
    "# Liste icinde düzenli artan bir sira olmali ama bazi sayilar kayip, o sayilari bulalim.\n",
    "\n",
    "number_list = [48, 10, 11, 21, 36, 5, 6, \n",
    "               52, 28, 29, 53, 54, 45, 19, \n",
    "               20, 47, 55, 39, 41, 7, 9, 17, \n",
    "               26, 27, 42, 22, 37, 51, 46, 18,\n",
    "                 44, 30, 34, 13, 15, 35, 33, 16, \n",
    "                 50, 24]\n",
    "\n",
    "max_deger = max(number_list)\n",
    "min_deger = min(number_list)\n",
    "\n",
    "tam_liste = list(range(min_deger, max_deger + 1))\n",
    "kayip_sayilar = []\n",
    "\n",
    "for i in tam_liste:\n",
    "    if i not in number_list:\n",
    "        kayip_sayilar.append(i)\n",
    "\n",
    "print(kayip_sayilar)"
   ]
  },
  {
   "cell_type": "code",
   "execution_count": null,
   "metadata": {},
   "outputs": [],
   "source": [
    "# 2. Cözüm:\n",
    "\n",
    "kayip_sayilar = []\n",
    "\n",
    "for i in range(min(number_list), max(number_list) + 1):\n",
    "    if i not in number_list:\n",
    "        kayip_sayilar.append(i)\n",
    "\n",
    "print(kayip_sayilar)"
   ]
  },
  {
   "cell_type": "code",
   "execution_count": null,
   "metadata": {},
   "outputs": [],
   "source": [
    "# 3. Cözüm:\n",
    "\n",
    "set(range(min(number_list), max(number_list) + 1)) - set(number_list)"
   ]
  },
  {
   "cell_type": "code",
   "execution_count": null,
   "metadata": {},
   "outputs": [],
   "source": [
    "# Bir markete gittiniz. Markette her ürünün bir kod numarasi var.\n",
    "# 1: Elma 2: Portakal 3: Cilek 4: Yumurta 5: Havuc 6: Armut...\n",
    "# Kullaniciya almak istedigi ürünü sorunuz ve kod numarasi ile secim yaptiriniz.\n",
    "# Cikis icin 'q' opsiyonunu sununuz.\n",
    "# Kullanicidan her ürün secimi sonrasi \"... elma sepete eklendi.\" gibi bir dönüt veriniz.\n",
    "# Kullanici ürün almaya devam ettikce ürünleri bir listede toplayiniz.\n",
    "# Almaktan vaygectigi durumda tesekkür edip, aldigi ürünlerin ciktisini veren kodu yaziniz.\n",
    "# Cikti: Tesekkür ederiz. Sepetinizde bulunan ürünler: elma, armut vs.\n",
    "# Benim Cözümüm (Hocanin cözümü daha basit kaldi.):\n",
    "\n",
    "print (\"\"\"\n",
    "       Marketimize Hosgeldiniz!\n",
    "       Marketimizde bulunan ürünler:\n",
    "\n",
    "       1: Elma\n",
    "       2: Portakal\n",
    "       3: Cilek\n",
    "       4: Yumurta\n",
    "       5: Havuc\n",
    "       6: Armut\"\"\")\n",
    "\n",
    "market_ürünleri = {1: 'Elma', 2: 'Portakal', 3: 'Cilek', 4: 'Yumurta', 5: 'Havuc', 6: 'Armut'}\n",
    "\n",
    "sepet = []\n",
    "\n",
    "while True:\n",
    "    \n",
    "    alinan_ürün = input('Lütfen almak istediginiz ürünün kod numaralarini girinir. Alisverisiniz bittiginde q tusuna basiniz.').lower()\n",
    "    \n",
    "    if alinan_ürün.isnumeric():\n",
    "        \n",
    "        ürün_kodu = int(alinan_ürün)\n",
    "\n",
    "        if ürün_kodu in market_ürünleri:\n",
    "            \n",
    "            sepet.append(market_ürünleri[ürün_kodu])\n",
    "\n",
    "            print(f'Sepetinize {market_ürünleri[ürün_kodu]} eklendi.')\n",
    "        \n",
    "        else:\n",
    "            \n",
    "            print(\"Gecersiz ürün kodu girdiniz.\")\n",
    "    \n",
    "    elif alinan_ürün == 'q':\n",
    "        \n",
    "        if not sepet:\n",
    "            print ('Alisveris yapmadiniz. Iyi günler dileriz.')\n",
    "            break\n",
    "        else:\n",
    "            print ('Bizi tercih ettiginiz icin tesekkür ederiz.')\n",
    "            print (f'Aldiginiz ürünler: {\", \".join(sepet)}')\n",
    "            break\n",
    "    else:\n",
    "        \n",
    "        print('Lütfen ürün kodunu rakam formunda giriniz.')\n"
   ]
  },
  {
   "cell_type": "code",
   "execution_count": null,
   "metadata": {},
   "outputs": [],
   "source": [
    "def tek_sayilar(a: int, b: str, c: int, d = 15, e = 18.0):\n",
    "    \n",
    "    tek_sayilar = []\n",
    "\n",
    "    for i in a, b, c, d, e:\n",
    "\n",
    "        if i % 2:\n",
    "\n",
    "            tek_sayilar.append(i)\n",
    "\n",
    "    return tek_sayilar"
   ]
  },
  {
   "cell_type": "code",
   "execution_count": null,
   "metadata": {},
   "outputs": [],
   "source": [
    "# Yukarida ben a, b, c'yi farkli tanimladim ama Python ben tanimin disinda bir deger girdim diye hata vermez.\n",
    "\n",
    "tek_sayilar(1, 2, 3, 4, 5)"
   ]
  },
  {
   "cell_type": "code",
   "execution_count": null,
   "metadata": {},
   "outputs": [],
   "source": [
    "# Bir fonksiyon yazin. Diledigimiz kadar sayiyi kontrol edebilelim.\n",
    "# Sayilardan cift olanlarin 2 katini, tek olanlarin karesini liste icinde yazdiralim.\n",
    "\n",
    "def sayilar(*sayilar):\n",
    "\n",
    "    \"\"\"Sayilardan cift olanlarin 2 katini,\n",
    "    tek olanlarin karesini liste icine yazdiran fonksiyon\"\"\"\n",
    "\n",
    "    liste = []\n",
    "    \n",
    "    for i in sayilar:\n",
    "        if i % 2:\n",
    "            liste.append(pow(i, 2))\n",
    "        \n",
    "        else:\n",
    "            liste.append(i * 2)\n",
    "\n",
    "    return liste"
   ]
  },
  {
   "cell_type": "code",
   "execution_count": null,
   "metadata": {},
   "outputs": [],
   "source": [
    "sayilar(1, 2, 3, 4, 5, 6, 7, 8, 9)"
   ]
  },
  {
   "cell_type": "code",
   "execution_count": null,
   "metadata": {},
   "outputs": [],
   "source": [
    "# List Comprehension ile cözümü\n",
    "\n",
    "def sayilar1(* sayilar):\n",
    "\n",
    "    \"\"\"Sayilardan cift olanlarin 2 katini,\n",
    "    tek olanlarin karesini liste icine yazdiran fonksiyon\"\"\"\n",
    "    \n",
    "    return [pow (i, 2) if i % 2 else (i * 2) for i in sayilar]"
   ]
  },
  {
   "cell_type": "code",
   "execution_count": null,
   "metadata": {},
   "outputs": [],
   "source": [
    "sayilar1(1, 2, 3, 4, 5, 6, 7, 8, 9)"
   ]
  },
  {
   "cell_type": "code",
   "execution_count": null,
   "metadata": {},
   "outputs": [],
   "source": [
    "# Hata verir, tek bir eleman gibi algilar fonksiyon.\n",
    "\n",
    "sayilar1(range(1, 5))"
   ]
  },
  {
   "cell_type": "code",
   "execution_count": null,
   "metadata": {},
   "outputs": [],
   "source": [
    "# Gene hata aldik. Cünkü list tek bir liste icinde döndürür.\n",
    "\n",
    "sayilar1(list(range(1, 5)))"
   ]
  },
  {
   "cell_type": "code",
   "execution_count": null,
   "metadata": {},
   "outputs": [],
   "source": [
    "# * ile kullanimda hata almayiz!\n",
    "\n",
    "sayilar1(*range(1, 5))"
   ]
  },
  {
   "cell_type": "code",
   "execution_count": null,
   "metadata": {},
   "outputs": [],
   "source": [
    "# Özel bir kullanim, printle bir str isim de yazsak harfleri ayirarak yazar.\n",
    "# Burada da hata almadik cünkü * olusan listenin icindeki elemanlara ulasmamizi sagladi.\n",
    "\n",
    "print(*list(range(1, 5)))"
   ]
  },
  {
   "cell_type": "code",
   "execution_count": null,
   "metadata": {},
   "outputs": [],
   "source": [
    "print (*'Süha')"
   ]
  },
  {
   "cell_type": "code",
   "execution_count": null,
   "metadata": {},
   "outputs": [],
   "source": [
    "listex = [1, 2, 3, 4]"
   ]
  },
  {
   "cell_type": "code",
   "execution_count": null,
   "metadata": {},
   "outputs": [],
   "source": [
    "sayilar1(listex)"
   ]
  },
  {
   "cell_type": "code",
   "execution_count": null,
   "metadata": {},
   "outputs": [],
   "source": [
    "sayilar1(*listex)"
   ]
  },
  {
   "cell_type": "code",
   "execution_count": null,
   "metadata": {},
   "outputs": [],
   "source": [
    "dict_1 = {'name1': 'Arzu', 'name2': 'Ömer', 'name3':'Hamdi'}\n",
    "dict_1"
   ]
  },
  {
   "cell_type": "code",
   "execution_count": null,
   "metadata": {},
   "outputs": [],
   "source": [
    "def kwargs_function(**names):\n",
    "    \n",
    "    for i, j in names.items():\n",
    "        \n",
    "        print(f'key: {i}, value: {j}')"
   ]
  },
  {
   "cell_type": "code",
   "execution_count": null,
   "metadata": {},
   "outputs": [],
   "source": [
    "kwargs_function('Süha')"
   ]
  },
  {
   "cell_type": "code",
   "execution_count": null,
   "metadata": {},
   "outputs": [],
   "source": [
    "# Dict formatina uygun olmasi gerekiyor.\n",
    "\n",
    "kwargs_function(name4 = 'Berk', name5 = 'Ramazan', name6 = 'Yasin')"
   ]
  },
  {
   "cell_type": "code",
   "execution_count": null,
   "metadata": {},
   "outputs": [],
   "source": [
    "# Tek eleman olarak görür, kabul etmez.\n",
    "\n",
    "kwargs_function(dict_1)"
   ]
  },
  {
   "cell_type": "code",
   "execution_count": null,
   "metadata": {},
   "outputs": [],
   "source": [
    "kwargs_function(**dict_1)"
   ]
  },
  {
   "cell_type": "code",
   "execution_count": null,
   "metadata": {},
   "outputs": [],
   "source": [
    "help(filter)"
   ]
  },
  {
   "attachments": {
    "5.png": {
     "image/png": "[encoded data removed]"
    }
   },
   "cell_type": "markdown",
   "metadata": {},
   "source": [
    "![5.png](attachment:5.png)"
   ]
  },
  {
   "cell_type": "code",
   "execution_count": null,
   "metadata": {},
   "outputs": [],
   "source": [
    "# filter kullarak ismi 5 harfli olan isimleri göster.\n",
    "\n",
    "isimler_listesi = ['Serhat', 'Sedat', 'Metehan', 'Bahar', 'Cennet', 'Bilge']"
   ]
  },
  {
   "cell_type": "code",
   "execution_count": null,
   "metadata": {},
   "outputs": [],
   "source": [
    "def bes_harfli_isimler(x):\n",
    "\n",
    "    if len(x) == 5: return True"
   ]
  },
  {
   "cell_type": "code",
   "execution_count": null,
   "metadata": {},
   "outputs": [],
   "source": [
    "list(filter(bes_harfli_isimler, isimler_listesi))"
   ]
  },
  {
   "cell_type": "code",
   "execution_count": null,
   "metadata": {},
   "outputs": [],
   "source": [
    "# lambda() -> Kullan at fonksiyonlardir.\n",
    "\n",
    "lambda x, y: x ** 2 + y ** 2"
   ]
  },
  {
   "cell_type": "code",
   "execution_count": null,
   "metadata": {},
   "outputs": [],
   "source": [
    "(lambda x, y: x ** 2 + y ** 2)(3, 4)"
   ]
  },
  {
   "cell_type": "code",
   "execution_count": null,
   "metadata": {},
   "outputs": [],
   "source": [
    "(lambda x, y: x ** 2 + y ** 2)(3)"
   ]
  },
  {
   "cell_type": "code",
   "execution_count": null,
   "metadata": {},
   "outputs": [],
   "source": [
    "def len_5 (x):\n",
    "\n",
    "    if len(x) == 5: return True"
   ]
  },
  {
   "cell_type": "code",
   "execution_count": null,
   "metadata": {},
   "outputs": [],
   "source": [
    "(lambda x: len(x) == 5)('Arzu')"
   ]
  },
  {
   "cell_type": "code",
   "execution_count": null,
   "metadata": {},
   "outputs": [],
   "source": [
    "(lambda x: len(x) == 5)('Didem')"
   ]
  },
  {
   "cell_type": "code",
   "execution_count": null,
   "metadata": {},
   "outputs": [],
   "source": [
    "list(filter((lambda x: len(x) == 5), isimler_listesi))"
   ]
  },
  {
   "cell_type": "code",
   "execution_count": null,
   "metadata": {},
   "outputs": [],
   "source": [
    "list(filter((lambda x: x % 2 == 1), {1, 2, 3, 4, 5, 6}))"
   ]
  },
  {
   "cell_type": "code",
   "execution_count": null,
   "metadata": {},
   "outputs": [],
   "source": [
    "# Yazdigim bir lambda fonksiyonunu baska yerde kullanmak icin.\n",
    "\n",
    "tek_sayi_ayiklayici = (lambda x: x % 2 == 1)"
   ]
  },
  {
   "cell_type": "code",
   "execution_count": null,
   "metadata": {},
   "outputs": [],
   "source": [
    "tek_sayi_ayiklayici(8)"
   ]
  },
  {
   "cell_type": "code",
   "execution_count": null,
   "metadata": {},
   "outputs": [],
   "source": [
    "tek_sayi_ayiklayici(8, 9)"
   ]
  },
  {
   "cell_type": "code",
   "execution_count": null,
   "metadata": {},
   "outputs": [],
   "source": [
    "# Bir string ifadenin palindrom olup olmadigini bulan bir kodu lambda fonksiyonu ile yazin.\n",
    "\n",
    "(lambda x: x == x[::-1])('Süha')"
   ]
  },
  {
   "cell_type": "code",
   "execution_count": null,
   "metadata": {},
   "outputs": [],
   "source": [
    "(lambda x: x.lower() == x[::-1].lower())('ey edip adanada pide ye')"
   ]
  },
  {
   "cell_type": "code",
   "execution_count": null,
   "metadata": {},
   "outputs": [],
   "source": [
    "list(filter((lambda x: x.lower() == x[::-1].lower()), ['ey edip adanada pide ye', 'Süha']))"
   ]
  },
  {
   "cell_type": "code",
   "execution_count": null,
   "metadata": {},
   "outputs": [],
   "source": [
    "palindrom_bulucu = (lambda x: x.lower() == x[::-1].lower())"
   ]
  },
  {
   "cell_type": "code",
   "execution_count": null,
   "metadata": {},
   "outputs": [],
   "source": [
    "palindrom_bulucu('ey edip adanada pide ye')"
   ]
  },
  {
   "cell_type": "code",
   "execution_count": null,
   "metadata": {},
   "outputs": [],
   "source": [
    "help(map)"
   ]
  },
  {
   "attachments": {
    "7.png": {
     "image/png": "[encoded data removed]"
    }
   },
   "cell_type": "markdown",
   "metadata": {},
   "source": [
    "![7.png](attachment:7.png)"
   ]
  },
  {
   "cell_type": "code",
   "execution_count": null,
   "metadata": {},
   "outputs": [],
   "source": [
    "def sayinin_karesi(x):\n",
    "    \n",
    "    return x ** 2"
   ]
  },
  {
   "cell_type": "code",
   "execution_count": null,
   "metadata": {},
   "outputs": [],
   "source": [
    "sayinin_karesi(2)"
   ]
  },
  {
   "cell_type": "code",
   "execution_count": null,
   "metadata": {},
   "outputs": [],
   "source": [
    "sayinin_karesi(1, 2, 3, 4, 5, 6, 7, 8, 9)"
   ]
  },
  {
   "cell_type": "code",
   "execution_count": null,
   "metadata": {},
   "outputs": [],
   "source": [
    "map(sayinin_karesi, (1, 2, 3, 4, 5, 6, 7, 8, 9))"
   ]
  },
  {
   "cell_type": "code",
   "execution_count": null,
   "metadata": {},
   "outputs": [],
   "source": [
    "# for döngüsüyle yapabilecegimiz bir islemin kisaltilmasi aslinda.\n",
    "\n",
    "list(map(sayinin_karesi, (1, 2, 3, 4, 5, 6, 7, 8, 9)))"
   ]
  },
  {
   "cell_type": "code",
   "execution_count": null,
   "metadata": {},
   "outputs": [],
   "source": [
    "liste = []\n",
    "\n",
    "for i in (1, 2, 3, 4, 5, 6, 7, 8, 9):\n",
    "\n",
    "    liste.append(i ** 2)\n",
    "\n",
    "print(liste)"
   ]
  },
  {
   "cell_type": "code",
   "execution_count": null,
   "metadata": {},
   "outputs": [],
   "source": [
    "# Biz sinirsiz elemanla islem yapabilmek icin söyle fonksiyon tanimliyorduk.\n",
    "\n",
    "def tek_cift(*sayilar):\n",
    "\n",
    "    result = []\n",
    "\n",
    "    for i in sayilar:\n",
    "        if i % 2:\n",
    "            result.append(i ** 2)\n",
    "        else:\n",
    "            result.append(i)\n",
    "\n",
    "    return result"
   ]
  },
  {
   "cell_type": "code",
   "execution_count": null,
   "metadata": {},
   "outputs": [],
   "source": [
    "tek_cift(1, 2, 3, 4, 5, 6, 7, 8, 9)"
   ]
  },
  {
   "cell_type": "code",
   "execution_count": null,
   "metadata": {},
   "outputs": [],
   "source": [
    "# tek sayiyla islem yapabilmek icin ise yukaridaki fonksiyon harici lambda kullanabiliyorduk.\n",
    "\n",
    "(lambda i: i ** 2 if i % 2 else i)(5)\n"
   ]
  },
  {
   "cell_type": "code",
   "execution_count": null,
   "metadata": {},
   "outputs": [],
   "source": [
    "# lambda'nin tek degiskene göre islem yapma zaafini ortadan kaldirip, tek satirda yukaridaki fonksiyonun islevini\n",
    "# yerine getirecek bir ifade yazmak istersek de map() fonksiyonunu kullanabiliriz.\n",
    "\n",
    "list(map(lambda i: i ** 2 if i % 2 else i, (1, 2, 3, 4, 5, 6, 7, 8, 9)))"
   ]
  },
  {
   "cell_type": "code",
   "execution_count": null,
   "metadata": {},
   "outputs": [],
   "source": [
    "# Bir modülün ismini degistirmek istedigimizde bu methodu kullaniriz.\n",
    "\n",
    "import random as yeni_isim"
   ]
  },
  {
   "cell_type": "code",
   "execution_count": null,
   "metadata": {},
   "outputs": [],
   "source": [
    "yeni_isim.sample(range(1, 50), 15)"
   ]
  }
 ],
 "metadata": {
  "kernelspec": {
   "display_name": "Python 3",
   "language": "python",
   "name": "python3"
  },
  "language_info": {
   "codemirror_mode": {
    "name": "ipython",
    "version": 3
   },
   "file_extension": ".py",
   "mimetype": "text/x-python",
   "name": "python",
   "nbconvert_exporter": "python",
   "pygments_lexer": "ipython3",
   "version": "3.13.0"
  }
 },
 "nbformat": 4,
 "nbformat_minor": 2
}
