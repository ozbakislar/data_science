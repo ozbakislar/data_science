{
 "cells": [
  {
   "cell_type": "markdown",
   "id": "0537e4e9",
   "metadata": {},
   "source": [
    "Notlar TechproEducation Data Science egitiminden alinmistir."
   ]
  },
  {
   "cell_type": "markdown",
   "id": "1a442444-539b-49ea-882a-1fbb29f6bfcb",
   "metadata": {},
   "source": [
    "## NumPy paketini np adi altinda ice aktar ve NumPy sürümünü yazdirin."
   ]
  },
  {
   "cell_type": "code",
   "execution_count": 78,
   "id": "b7c6e1d1-1387-4916-a28d-61eceb801eaf",
   "metadata": {},
   "outputs": [],
   "source": [
    "import numpy as np"
   ]
  },
  {
   "cell_type": "code",
   "execution_count": 80,
   "id": "668e8221",
   "metadata": {},
   "outputs": [
    {
     "data": {
      "text/plain": [
       "'1.26.4'"
      ]
     },
     "execution_count": 80,
     "metadata": {},
     "output_type": "execute_result"
    }
   ],
   "source": [
    "np.__version__"
   ]
  },
  {
   "cell_type": "markdown",
   "id": "918c04e0-b9ee-4732-8809-f11b1ec9676c",
   "metadata": {},
   "source": [
    "## Boyutu 10 olan, sifirlarla dolu bir vektör olusturun."
   ]
  },
  {
   "cell_type": "code",
   "execution_count": 82,
   "id": "107c7c3b",
   "metadata": {},
   "outputs": [
    {
     "data": {
      "text/plain": [
       "array([0, 0, 0, 0, 0, 0, 0, 0, 0, 0])"
      ]
     },
     "execution_count": 82,
     "metadata": {},
     "output_type": "execute_result"
    }
   ],
   "source": [
    "np.array([0, 0, 0, 0, 0, 0, 0, 0, 0, 0]) # 1. yol"
   ]
  },
  {
   "cell_type": "code",
   "execution_count": 84,
   "id": "7be45535-13d5-48c9-9089-f8b4d90613b6",
   "metadata": {},
   "outputs": [
    {
     "data": {
      "text/plain": [
       "array([0., 0., 0., 0., 0., 0., 0., 0., 0., 0.])"
      ]
     },
     "execution_count": 84,
     "metadata": {},
     "output_type": "execute_result"
    }
   ],
   "source": [
    "np.zeros(10) # 2. yol, zeros fonksiyonunu kullandik ve iceriye girdigimiz deger adedince sifir iceren tek boyutlu yani vektörel array olusturduk, daha dinamik oldu."
   ]
  },
  {
   "cell_type": "markdown",
   "id": "0b065811-0dac-4341-a162-0dae69e5cc64",
   "metadata": {},
   "source": [
    "## Boyutu 10 olan bir bos vektör olusturun, ancak besinci degeri 1 olsun."
   ]
  },
  {
   "cell_type": "code",
   "execution_count": 86,
   "id": "51e58682",
   "metadata": {},
   "outputs": [
    {
     "data": {
      "text/plain": [
       "array([0., 0., 0., 0., 0., 1., 0., 0., 0., 0.])"
      ]
     },
     "execution_count": 86,
     "metadata": {},
     "output_type": "execute_result"
    }
   ],
   "source": [
    "# 1. yol, Numpy'in gücünü kullanarak Numpy array'inin icindeki bir elemana index'le ulasip degistirdik.\n",
    "\n",
    "süha_1 = np.zeros(10) \n",
    "süha_1[5] = 1 \n",
    "süha_1"
   ]
  },
  {
   "cell_type": "code",
   "execution_count": 88,
   "id": "45977c2f-e1cb-4f6f-ae78-941bbe6d6b7a",
   "metadata": {},
   "outputs": [
    {
     "data": {
      "text/plain": [
       "array([0, 0, 0, 0, 0, 1, 0, 0, 0, 0])"
      ]
     },
     "execution_count": 88,
     "metadata": {},
     "output_type": "execute_result"
    }
   ],
   "source": [
    "# 2. yol, list comprehension ile\n",
    "\n",
    "süha_2 = np.array([0 if i != 5 else 1 for i in range(10)]) \n",
    "süha_2"
   ]
  },
  {
   "cell_type": "markdown",
   "id": "d1349d43-23e8-4275-b425-7af90a444199",
   "metadata": {},
   "source": [
    "## Degerleri 10'dan 50'ye kadar olan bir vektör olusturun."
   ]
  },
  {
   "cell_type": "code",
   "execution_count": 10,
   "id": "c9cb389f-86e1-457e-950e-b5d385683405",
   "metadata": {},
   "outputs": [
    {
     "data": {
      "text/plain": [
       "array([10, 11, 12, 13, 14, 15, 16, 17, 18, 19, 20, 21, 22, 23, 24, 25, 26,\n",
       "       27, 28, 29, 30, 31, 32, 33, 34, 35, 36, 37, 38, 39, 40, 41, 42, 43,\n",
       "       44, 45, 46, 47, 48, 49, 50])"
      ]
     },
     "execution_count": 10,
     "metadata": {},
     "output_type": "execute_result"
    }
   ],
   "source": [
    "np.array(range(10, 51)) # 1. yol"
   ]
  },
  {
   "cell_type": "code",
   "execution_count": 12,
   "id": "877aaf55-46ec-4c87-a503-c9276025b6f0",
   "metadata": {},
   "outputs": [
    {
     "data": {
      "text/plain": [
       "array([10, 11, 12, 13, 14, 15, 16, 17, 18, 19, 20, 21, 22, 23, 24, 25, 26,\n",
       "       27, 28, 29, 30, 31, 32, 33, 34, 35, 36, 37, 38, 39, 40, 41, 42, 43,\n",
       "       44, 45, 46, 47, 48, 49, 50])"
      ]
     },
     "execution_count": 12,
     "metadata": {},
     "output_type": "execute_result"
    }
   ],
   "source": [
    "np.arange(10, 51) # 2. yol"
   ]
  },
  {
   "cell_type": "markdown",
   "id": "816a254b-05ab-4d0a-b9aa-ae0da902533f",
   "metadata": {},
   "source": [
    "## Bir vektörü ters cevirin."
   ]
  },
  {
   "cell_type": "code",
   "execution_count": 14,
   "id": "542660e4-bc9a-4030-9350-4f73e38a04c0",
   "metadata": {},
   "outputs": [
    {
     "data": {
      "text/plain": [
       "array([10,  9,  8,  7,  6,  5,  4,  3,  2,  1])"
      ]
     },
     "execution_count": 14,
     "metadata": {},
     "output_type": "execute_result"
    }
   ],
   "source": [
    "np.arange(1, 11)[::-1]"
   ]
  },
  {
   "cell_type": "markdown",
   "id": "7e2dd31c-e61a-45d1-a8a8-63fb72baf753",
   "metadata": {},
   "source": [
    "## Degerleri 0'dan 9'a kadar olan 3x3 bir matris olusturun."
   ]
  },
  {
   "cell_type": "code",
   "execution_count": 16,
   "id": "45b56276-e922-4758-8899-02f6684da340",
   "metadata": {},
   "outputs": [
    {
     "data": {
      "text/plain": [
       "array([[0, 1, 2],\n",
       "       [3, 4, 5],\n",
       "       [6, 7, 8]])"
      ]
     },
     "execution_count": 16,
     "metadata": {},
     "output_type": "execute_result"
    }
   ],
   "source": [
    "np.arange(9).reshape(3, 3) # arange ile aralik verdik ve reshape ile olusacak tek boyutlu 9 elemanli vektörü 2 boyutlu 3x3 matrise cevirdik."
   ]
  },
  {
   "cell_type": "markdown",
   "id": "1289e903-5b33-4ad0-9a2c-b9587a03d83e",
   "metadata": {},
   "source": [
    "## [1, 2, 0, 0, 4, 0] dizisindeki sifir olmayan elemanlarin indekslerini bulun."
   ]
  },
  {
   "cell_type": "code",
   "execution_count": 20,
   "id": "95edf755",
   "metadata": {},
   "outputs": [
    {
     "data": {
      "text/plain": [
       "(array([0, 1, 4], dtype=int64),)"
      ]
     },
     "execution_count": 20,
     "metadata": {},
     "output_type": "execute_result"
    }
   ],
   "source": [
    "# nonzero sifir olmayan elemanlarin indexlerini döndüren bir fonksiyondur.\n",
    "\n",
    "süha_3 = np.array([1, 2, 0, 0, 4, 0])  \n",
    "np.nonzero(süha_3)"
   ]
  },
  {
   "cell_type": "markdown",
   "id": "fa7a8756-67df-40ab-8b49-eb6b44f8bdb3",
   "metadata": {},
   "source": [
    "## 3x3 boyutunda bir birim matris olusturun."
   ]
  },
  {
   "cell_type": "code",
   "execution_count": 22,
   "id": "bb3b3ade",
   "metadata": {},
   "outputs": [
    {
     "data": {
      "text/plain": [
       "array([[1., 0., 0.],\n",
       "       [0., 1., 0.],\n",
       "       [0., 0., 1.]])"
      ]
     },
     "execution_count": 22,
     "metadata": {},
     "output_type": "execute_result"
    }
   ],
   "source": [
    "np.eye(3, 3)"
   ]
  },
  {
   "cell_type": "markdown",
   "id": "4a470914-ec6b-4240-b5b1-f0e8fa9893cf",
   "metadata": {},
   "source": [
    "## 1, 2, 0, 0, 4, 0 degerlerini kullanarak 3x3x3 boyutunda bir rastgele dizi olusturun."
   ]
  },
  {
   "cell_type": "code",
   "execution_count": 24,
   "id": "0465ead9",
   "metadata": {},
   "outputs": [
    {
     "data": {
      "text/plain": [
       "array([[[0, 2, 2],\n",
       "        [0, 0, 0],\n",
       "        [0, 4, 2]],\n",
       "\n",
       "       [[0, 4, 0],\n",
       "        [2, 0, 2],\n",
       "        [0, 0, 0]],\n",
       "\n",
       "       [[0, 0, 0],\n",
       "        [1, 1, 0],\n",
       "        [4, 4, 4]]])"
      ]
     },
     "execution_count": 24,
     "metadata": {},
     "output_type": "execute_result"
    }
   ],
   "source": [
    "np.random.choice([1, 2, 0, 0, 4, 0], size=(3, 3, 3))"
   ]
  },
  {
   "cell_type": "markdown",
   "id": "ad6ed453-2e87-4425-abec-27ce03a3bd7d",
   "metadata": {},
   "source": [
    "## 10x10 boyutunda rastgele degerler iceren bir dizi olustur ve minimum ile maksimum degerlerini bulun."
   ]
  },
  {
   "cell_type": "code",
   "execution_count": 60,
   "id": "1d72d8e2-bf3e-4302-85ee-f68281612855",
   "metadata": {},
   "outputs": [
    {
     "data": {
      "text/plain": [
       "array([[50, 36, 62,  7, 32, 42,  1, 11,  8, 46],\n",
       "       [27, 82, 43, 93,  7, 87,  2,  4, 66, 44],\n",
       "       [38, 45, 86, 66, 55, 79, 37, 61,  9, 38],\n",
       "       [25, 62, 53,  2, 84, 23, 31, 39,  5, 62],\n",
       "       [75, 15, 79, 37, 65, 19, 75,  7, 80, 59],\n",
       "       [14, 40,  6, 98, 78, 15, 97, 73, 87, 31],\n",
       "       [47, 23, 59, 57, 41, 85, 61, 46, 20,  6],\n",
       "       [20, 57, 71, 30, 86, 33, 79, 81, 63, 60],\n",
       "       [88, 93, 68, 12, 98, 57, 39, 26, 52, 78],\n",
       "       [63,  5, 39, 72, 68, 83, 91, 63,  5, 43]])"
      ]
     },
     "execution_count": 60,
     "metadata": {},
     "output_type": "execute_result"
    }
   ],
   "source": [
    "süha_4 = np.random.randint(1, 100, size=(10, 10)) # 1. yol\n",
    "süha_4"
   ]
  },
  {
   "cell_type": "code",
   "execution_count": 62,
   "id": "28e188b4-c19a-4bcc-8437-c6d7287801f4",
   "metadata": {},
   "outputs": [
    {
     "data": {
      "text/plain": [
       "98"
      ]
     },
     "execution_count": 62,
     "metadata": {},
     "output_type": "execute_result"
    }
   ],
   "source": [
    "süha_4.max()"
   ]
  },
  {
   "cell_type": "code",
   "execution_count": 64,
   "id": "fbab6105-1df9-4cb9-80ec-e6420a0f8112",
   "metadata": {},
   "outputs": [
    {
     "data": {
      "text/plain": [
       "1"
      ]
     },
     "execution_count": 64,
     "metadata": {},
     "output_type": "execute_result"
    }
   ],
   "source": [
    "süha_4.min()"
   ]
  },
  {
   "cell_type": "code",
   "execution_count": 66,
   "id": "fb1c335d-190d-4f71-8396-65ddb36e2468",
   "metadata": {},
   "outputs": [
    {
     "data": {
      "text/plain": [
       "array([[81, 17, 50, 90, 67, 15, 43,  2, 60, 51],\n",
       "       [18, 88, 69, 91, 32, 44, 39,  3, 31, 60],\n",
       "       [22, 42, 54, 41, 80, 75, 51, 62, 30, 10],\n",
       "       [56, 56, 74, 89, 52, 63, 53, 22,  2, 58],\n",
       "       [92, 21, 56, 92, 89, 92, 35, 76, 32, 82],\n",
       "       [37, 59, 42, 60,  4, 47, 13, 67, 34, 30],\n",
       "       [66, 44, 30, 82, 88, 94, 40, 53, 56, 23],\n",
       "       [49, 18, 67, 72, 74, 34, 78, 66, 12, 46],\n",
       "       [74, 52, 46, 85, 77, 85, 98, 94, 44, 37],\n",
       "       [89, 43, 62,  9, 13,  2, 10, 11, 59, 34]])"
      ]
     },
     "execution_count": 66,
     "metadata": {},
     "output_type": "execute_result"
    }
   ],
   "source": [
    "süha_5 = np.random.randint(1, 100, 100).reshape(10, 10) # 2. yol\n",
    "süha_5"
   ]
  },
  {
   "cell_type": "code",
   "execution_count": 72,
   "id": "fb41d6b6-364b-4425-8ca0-61be8fbf6b11",
   "metadata": {},
   "outputs": [
    {
     "data": {
      "text/plain": [
       "98"
      ]
     },
     "execution_count": 72,
     "metadata": {},
     "output_type": "execute_result"
    }
   ],
   "source": [
    "süha_5.max()"
   ]
  },
  {
   "cell_type": "code",
   "execution_count": 74,
   "id": "8223a2f5-01cc-4414-bf9f-446bd75353e1",
   "metadata": {},
   "outputs": [
    {
     "data": {
      "text/plain": [
       "2"
      ]
     },
     "execution_count": 74,
     "metadata": {},
     "output_type": "execute_result"
    }
   ],
   "source": [
    "süha_5.min()"
   ]
  },
  {
   "cell_type": "markdown",
   "id": "95f8ee0f-b36b-4ad5-aa11-a3a928937313",
   "metadata": {},
   "source": [
    "## Boyutu 30 olan bir rastgele vektör olusturun ve ortalama degerini bulun."
   ]
  },
  {
   "cell_type": "code",
   "execution_count": 26,
   "id": "625f82b7",
   "metadata": {},
   "outputs": [],
   "source": [
    "süha_6 = np.random.randint(1, 100, 30) # 1. yol, 1 ile 100 arasinda 30 tane int sayidan olusan vektör olusturduk."
   ]
  },
  {
   "cell_type": "code",
   "execution_count": 28,
   "id": "9016c8ec-a6fb-42ac-af5e-9137a3a75edf",
   "metadata": {},
   "outputs": [
    {
     "data": {
      "text/plain": [
       "49.63333333333333"
      ]
     },
     "execution_count": 28,
     "metadata": {},
     "output_type": "execute_result"
    }
   ],
   "source": [
    "np.mean(süha_6)"
   ]
  },
  {
   "cell_type": "code",
   "execution_count": 30,
   "id": "e3e90aca-903b-437c-8e63-27cfac14d734",
   "metadata": {},
   "outputs": [
    {
     "data": {
      "text/plain": [
       "array([0.05036831, 0.90785332, 0.61844997, 0.07189876, 0.07884585,\n",
       "       0.31343125, 0.18580475, 0.13981439, 0.13432653, 0.40247234,\n",
       "       0.28965606, 0.04087719, 0.8574907 , 0.64711192, 0.30605446,\n",
       "       0.93997135, 0.80651071, 0.85948916, 0.72693654, 0.03353711,\n",
       "       0.96868198, 0.73381384, 0.48471422, 0.84985057, 0.04767335,\n",
       "       0.904172  , 0.75614172, 0.10447917, 0.23454237, 0.0419525 ])"
      ]
     },
     "execution_count": 30,
     "metadata": {},
     "output_type": "execute_result"
    }
   ],
   "source": [
    "süha_7 = np.random.rand(30) # 2. yol, 0-1 araliginda 30 adet float sayi ürettik.\n",
    "süha_7"
   ]
  },
  {
   "cell_type": "code",
   "execution_count": 32,
   "id": "af0d8098-63a6-441f-865b-0a288342fe52",
   "metadata": {},
   "outputs": [
    {
     "data": {
      "text/plain": [
       "0.4512307462267977"
      ]
     },
     "execution_count": 32,
     "metadata": {},
     "output_type": "execute_result"
    }
   ],
   "source": [
    "np.mean(süha_7)"
   ]
  },
  {
   "cell_type": "markdown",
   "id": "a1acbed3-c819-4156-88fa-9310eb4e88f7",
   "metadata": {},
   "source": [
    "## arange kullanarak (6, 7, 8) boyutlarinda bir dizi nasil olusturabilirim ve bu dizinin son elemanini nasil bulabilirim?"
   ]
  },
  {
   "cell_type": "code",
   "execution_count": 191,
   "id": "8b60cbb7-742a-4742-925b-445ed4c38f4e",
   "metadata": {},
   "outputs": [
    {
     "data": {
      "text/plain": [
       "array([[[ 0,  1,  2,  3,  4,  5,  6,  7],\n",
       "        [ 8,  9, 10, 11, 12, 13, 14, 15],\n",
       "        [16, 17, 18, 19, 20, 21, 22, 23],\n",
       "        [24, 25, 26, 27, 28, 29, 30, 31],\n",
       "        [32, 33, 34, 35, 36, 37, 38, 39],\n",
       "        [40, 41, 42, 43, 44, 45, 46, 47],\n",
       "        [48, 49, 50, 51, 52, 53, 54, 55]],\n",
       "\n",
       "       [[56, 57, 58, 59, 60, 61, 62, 63],\n",
       "        [64, 65, 66, 67, 68, 69, 70, 71],\n",
       "        [72, 73, 74, 75, 76, 77, 78, 79],\n",
       "        [80, 81, 82, 83, 84, 85, 86, 87],\n",
       "        [88, 89, 90, 91, 92, 93, 94, 95],\n",
       "        [96, 97, 98, 99,  0,  1,  2,  3],\n",
       "        [ 4,  5,  6,  7,  8,  9, 10, 11]],\n",
       "\n",
       "       [[12, 13, 14, 15, 16, 17, 18, 19],\n",
       "        [20, 21, 22, 23, 24, 25, 26, 27],\n",
       "        [28, 29, 30, 31, 32, 33, 34, 35],\n",
       "        [36, 37, 38, 39, 40, 41, 42, 43],\n",
       "        [44, 45, 46, 47, 48, 49, 50, 51],\n",
       "        [52, 53, 54, 55, 56, 57, 58, 59],\n",
       "        [60, 61, 62, 63, 64, 65, 66, 67]],\n",
       "\n",
       "       [[68, 69, 70, 71, 72, 73, 74, 75],\n",
       "        [76, 77, 78, 79, 80, 81, 82, 83],\n",
       "        [84, 85, 86, 87, 88, 89, 90, 91],\n",
       "        [92, 93, 94, 95, 96, 97, 98, 99],\n",
       "        [ 0,  1,  2,  3,  4,  5,  6,  7],\n",
       "        [ 8,  9, 10, 11, 12, 13, 14, 15],\n",
       "        [16, 17, 18, 19, 20, 21, 22, 23]],\n",
       "\n",
       "       [[24, 25, 26, 27, 28, 29, 30, 31],\n",
       "        [32, 33, 34, 35, 36, 37, 38, 39],\n",
       "        [40, 41, 42, 43, 44, 45, 46, 47],\n",
       "        [48, 49, 50, 51, 52, 53, 54, 55],\n",
       "        [56, 57, 58, 59, 60, 61, 62, 63],\n",
       "        [64, 65, 66, 67, 68, 69, 70, 71],\n",
       "        [72, 73, 74, 75, 76, 77, 78, 79]],\n",
       "\n",
       "       [[80, 81, 82, 83, 84, 85, 86, 87],\n",
       "        [88, 89, 90, 91, 92, 93, 94, 95],\n",
       "        [96, 97, 98, 99,  0,  1,  2,  3],\n",
       "        [ 4,  5,  6,  7,  8,  9, 10, 11],\n",
       "        [12, 13, 14, 15, 16, 17, 18, 19],\n",
       "        [20, 21, 22, 23, 24, 25, 26, 27],\n",
       "        [28, 29, 30, 31, 32, 33, 34, 35]]])"
      ]
     },
     "execution_count": 191,
     "metadata": {},
     "output_type": "execute_result"
    }
   ],
   "source": [
    "np.resize(np.arange(100), (6, 7, 8)) # 1. yol, resize boyutta uygunluk aramaz kendisi bosluklari doldurur ve orjinal yapiyi degistirdigi icin degiskene atamamiz sonraki adim icin gerekmez."
   ]
  },
  {
   "cell_type": "code",
   "execution_count": 195,
   "id": "11d4a2c8-29f8-4e8a-a1a8-4e6a795be67d",
   "metadata": {},
   "outputs": [
    {
     "data": {
      "text/plain": [
       "35"
      ]
     },
     "execution_count": 195,
     "metadata": {},
     "output_type": "execute_result"
    }
   ],
   "source": [
    "np.resize(np.arange(100), (6, 7, 8))[-1, -1, -1] # Hangi katman? Son: -1, hangi satir? son: -1, hangi sütun? son: -1"
   ]
  },
  {
   "cell_type": "code",
   "execution_count": 116,
   "id": "f2c2e26a-4993-47f3-91d4-50251a9d5863",
   "metadata": {},
   "outputs": [
    {
     "data": {
      "text/plain": [
       "array([[[  0,   1,   2,   3,   4,   5,   6,   7],\n",
       "        [  8,   9,  10,  11,  12,  13,  14,  15],\n",
       "        [ 16,  17,  18,  19,  20,  21,  22,  23],\n",
       "        [ 24,  25,  26,  27,  28,  29,  30,  31],\n",
       "        [ 32,  33,  34,  35,  36,  37,  38,  39],\n",
       "        [ 40,  41,  42,  43,  44,  45,  46,  47],\n",
       "        [ 48,  49,  50,  51,  52,  53,  54,  55]],\n",
       "\n",
       "       [[ 56,  57,  58,  59,  60,  61,  62,  63],\n",
       "        [ 64,  65,  66,  67,  68,  69,  70,  71],\n",
       "        [ 72,  73,  74,  75,  76,  77,  78,  79],\n",
       "        [ 80,  81,  82,  83,  84,  85,  86,  87],\n",
       "        [ 88,  89,  90,  91,  92,  93,  94,  95],\n",
       "        [ 96,  97,  98,  99, 100, 101, 102, 103],\n",
       "        [104, 105, 106, 107, 108, 109, 110, 111]],\n",
       "\n",
       "       [[112, 113, 114, 115, 116, 117, 118, 119],\n",
       "        [120, 121, 122, 123, 124, 125, 126, 127],\n",
       "        [128, 129, 130, 131, 132, 133, 134, 135],\n",
       "        [136, 137, 138, 139, 140, 141, 142, 143],\n",
       "        [144, 145, 146, 147, 148, 149, 150, 151],\n",
       "        [152, 153, 154, 155, 156, 157, 158, 159],\n",
       "        [160, 161, 162, 163, 164, 165, 166, 167]],\n",
       "\n",
       "       [[168, 169, 170, 171, 172, 173, 174, 175],\n",
       "        [176, 177, 178, 179, 180, 181, 182, 183],\n",
       "        [184, 185, 186, 187, 188, 189, 190, 191],\n",
       "        [192, 193, 194, 195, 196, 197, 198, 199],\n",
       "        [200, 201, 202, 203, 204, 205, 206, 207],\n",
       "        [208, 209, 210, 211, 212, 213, 214, 215],\n",
       "        [216, 217, 218, 219, 220, 221, 222, 223]],\n",
       "\n",
       "       [[224, 225, 226, 227, 228, 229, 230, 231],\n",
       "        [232, 233, 234, 235, 236, 237, 238, 239],\n",
       "        [240, 241, 242, 243, 244, 245, 246, 247],\n",
       "        [248, 249, 250, 251, 252, 253, 254, 255],\n",
       "        [256, 257, 258, 259, 260, 261, 262, 263],\n",
       "        [264, 265, 266, 267, 268, 269, 270, 271],\n",
       "        [272, 273, 274, 275, 276, 277, 278, 279]],\n",
       "\n",
       "       [[280, 281, 282, 283, 284, 285, 286, 287],\n",
       "        [288, 289, 290, 291, 292, 293, 294, 295],\n",
       "        [296, 297, 298, 299, 300, 301, 302, 303],\n",
       "        [304, 305, 306, 307, 308, 309, 310, 311],\n",
       "        [312, 313, 314, 315, 316, 317, 318, 319],\n",
       "        [320, 321, 322, 323, 324, 325, 326, 327],\n",
       "        [328, 329, 330, 331, 332, 333, 334, 335]]])"
      ]
     },
     "execution_count": 116,
     "metadata": {},
     "output_type": "execute_result"
    }
   ],
   "source": [
    "np.arange(336).reshape(6, 7, 8) # 2. yol, reshape ile cözerken olusturacagimiz (6, 7, 8) ile uyumlu veri girmemiz gerektigi icin 6x7x8 = 336 olarak arange'e girecegimiz degeri belirledik."
   ]
  },
  {
   "cell_type": "code",
   "execution_count": 118,
   "id": "219996c5-53c3-4ac2-9ae5-e56d3580e50d",
   "metadata": {},
   "outputs": [
    {
     "data": {
      "text/plain": [
       "335"
      ]
     },
     "execution_count": 118,
     "metadata": {},
     "output_type": "execute_result"
    }
   ],
   "source": [
    "np.arange(336).reshape(6, 7, 8)[-1, -1, -1]"
   ]
  },
  {
   "cell_type": "markdown",
   "id": "a91ba3b9-4fe6-46dc-9a83-16f98e59485d",
   "metadata": {},
   "source": [
    "## Satir degerleri 0'dan 5'e kadar olan 5x5 boyutunda bir matris olusturun."
   ]
  },
  {
   "cell_type": "code",
   "execution_count": 120,
   "id": "5ef5e632-bc8f-4d26-9cf9-85fb98b7ac35",
   "metadata": {},
   "outputs": [
    {
     "data": {
      "text/plain": [
       "array([0, 1, 2, 3, 4, 0, 1, 2, 3, 4, 0, 1, 2, 3, 4, 0, 1, 2, 3, 4, 0, 1,\n",
       "       2, 3, 4])"
      ]
     },
     "execution_count": 120,
     "metadata": {},
     "output_type": "execute_result"
    }
   ],
   "source": [
    "concat = np.concatenate((np.arange(5), np.arange(5), np.arange(5), np.arange(5), np.arange(5))) # 1. yol, 0-5 araliginda üretilen vektörü 5 kere toplayip, split ile 5'e böldük.\n",
    "concat"
   ]
  },
  {
   "cell_type": "code",
   "execution_count": 220,
   "id": "666596cc-5c62-425b-851d-11e0b821264e",
   "metadata": {},
   "outputs": [
    {
     "data": {
      "text/plain": [
       "[array([0, 1, 2, 3, 4]),\n",
       " array([0, 1, 2, 3, 4]),\n",
       " array([0, 1, 2, 3, 4]),\n",
       " array([0, 1, 2, 3, 4]),\n",
       " array([0, 1, 2, 3, 4])]"
      ]
     },
     "execution_count": 220,
     "metadata": {},
     "output_type": "execute_result"
    }
   ],
   "source": [
    "np.split(concat, 5)"
   ]
  },
  {
   "cell_type": "code",
   "execution_count": 125,
   "id": "6bf874f8-e154-4a2e-8e5c-2542c1ad2c48",
   "metadata": {},
   "outputs": [
    {
     "data": {
      "text/plain": [
       "array([[0, 1, 2, 3, 4],\n",
       "       [0, 1, 2, 3, 4],\n",
       "       [0, 1, 2, 3, 4],\n",
       "       [0, 1, 2, 3, 4],\n",
       "       [0, 1, 2, 3, 4]])"
      ]
     },
     "execution_count": 125,
     "metadata": {},
     "output_type": "execute_result"
    }
   ],
   "source": [
    "bes_bes = np.zeros((5, 5), dtype=int) # 2. yol, 5x5 0'a 0 bir matris olusturdum sonra bunu [0, 1, 2, 3, 4] ile birlestirdik.\n",
    "bes_bes + np.arange(5)"
   ]
  },
  {
   "cell_type": "code",
   "execution_count": 139,
   "id": "b31b5a22-255e-4e29-b5f1-2139ea761495",
   "metadata": {},
   "outputs": [
    {
     "data": {
      "text/plain": [
       "array([[0, 1, 2, 3, 4],\n",
       "       [0, 1, 2, 3, 4],\n",
       "       [0, 1, 2, 3, 4],\n",
       "       [0, 1, 2, 3, 4],\n",
       "       [0, 1, 2, 3, 4]])"
      ]
     },
     "execution_count": 139,
     "metadata": {},
     "output_type": "execute_result"
    }
   ],
   "source": [
    "np.add(np.zeros((5, 5)), np.arange(5)).astype('int') # 3. yol"
   ]
  },
  {
   "cell_type": "markdown",
   "id": "da52e329-f80d-45d7-a933-3cf7ff6a0a90",
   "metadata": {},
   "source": [
    "## 0 ve 1 haric olmak üzere, 0 ile 1 arasinda 12 elemanli bir vektör olusturun."
   ]
  },
  {
   "cell_type": "code",
   "execution_count": 145,
   "id": "e34cdac0-b5e9-4315-bf00-abcb02c90f31",
   "metadata": {},
   "outputs": [
    {
     "data": {
      "text/plain": [
       "array([0.05456546, 0.62811425, 0.82573317, 0.58872635, 0.88376421,\n",
       "       0.66066893, 0.32556917, 0.57658832, 0.21506691, 0.22718871,\n",
       "       0.40637279, 0.15743997])"
      ]
     },
     "execution_count": 145,
     "metadata": {},
     "output_type": "execute_result"
    }
   ],
   "source": [
    "np.random.rand(12) # 1. yol"
   ]
  },
  {
   "cell_type": "code",
   "execution_count": 147,
   "id": "533b6e5f-4a54-41dc-8aa7-9cd9fb6090a1",
   "metadata": {},
   "outputs": [
    {
     "data": {
      "text/plain": [
       "array([0.67424646, 0.86959171, 0.85503811, 0.91746221, 0.67434434,\n",
       "       0.49401429, 0.1349829 , 0.38981429, 0.31074874, 0.15350462,\n",
       "       0.59424971, 0.64258284])"
      ]
     },
     "execution_count": 147,
     "metadata": {},
     "output_type": "execute_result"
    }
   ],
   "source": [
    "np.random.random(12) # 2. yol"
   ]
  },
  {
   "cell_type": "markdown",
   "id": "92fc50b0-7213-49f8-b9f0-aa505f2d4289",
   "metadata": {},
   "source": [
    "## 10 elemanli rastgele bir vektör olusturun ve siralayin."
   ]
  },
  {
   "cell_type": "code",
   "execution_count": 34,
   "id": "ad6c2835-ec93-48df-ad17-af2887383635",
   "metadata": {},
   "outputs": [
    {
     "data": {
      "text/plain": [
       "array([0.30349127, 0.94766498, 0.06055728, 0.43336312, 0.19581585,\n",
       "       0.7667164 , 0.03786603, 0.60695183, 0.45122925, 0.45998558])"
      ]
     },
     "execution_count": 34,
     "metadata": {},
     "output_type": "execute_result"
    }
   ],
   "source": [
    "süha_8 = np.random.rand(10)\n",
    "süha_8"
   ]
  },
  {
   "cell_type": "code",
   "execution_count": 36,
   "id": "c96b324b-b653-4e12-ba56-acbf5cb9a71e",
   "metadata": {},
   "outputs": [
    {
     "data": {
      "text/plain": [
       "array([0.03786603, 0.06055728, 0.19581585, 0.30349127, 0.43336312,\n",
       "       0.45122925, 0.45998558, 0.60695183, 0.7667164 , 0.94766498])"
      ]
     },
     "execution_count": 36,
     "metadata": {},
     "output_type": "execute_result"
    }
   ],
   "source": [
    "np.sort(süha_8)"
   ]
  },
  {
   "cell_type": "markdown",
   "id": "a8ececa7-d2f9-4bad-bf38-57f2bcb8ba19",
   "metadata": {},
   "source": [
    "## İki rastgele dizi (A ve B) düsünün, bunlarin esit olup olmadigini kontrol edin."
   ]
  },
  {
   "cell_type": "code",
   "execution_count": 157,
   "id": "364958e7-8151-41a1-877c-aa7fdd98e6a8",
   "metadata": {},
   "outputs": [
    {
     "name": "stdout",
     "output_type": "stream",
     "text": [
      "Diziler esit mi? False\n"
     ]
    }
   ],
   "source": [
    "A = np.random.rand(5, 5)\n",
    "B = np.random.rand(5, 5)\n",
    "\n",
    "are_equal = np.array_equal(A, B)\n",
    "print(\"Diziler esit mi?\", are_equal)"
   ]
  },
  {
   "cell_type": "code",
   "execution_count": 40,
   "id": "4e114baf-8dea-4bab-832c-dc4d1d577323",
   "metadata": {},
   "outputs": [
    {
     "data": {
      "text/plain": [
       "array([[0.195531  , 0.58419063, 0.82773157, 0.16386506, 0.94429325],\n",
       "       [0.18726888, 0.39194211, 0.11286651, 0.06584151, 0.55498707],\n",
       "       [0.38798328, 0.86836917, 0.42257392, 0.2924575 , 0.28302852],\n",
       "       [0.2604763 , 0.77020565, 0.69997571, 0.6752325 , 0.17899472],\n",
       "       [0.62427714, 0.54034937, 0.24622664, 0.37730209, 0.69892256]])"
      ]
     },
     "execution_count": 40,
     "metadata": {},
     "output_type": "execute_result"
    }
   ],
   "source": [
    "np.random.rand(5, 5)"
   ]
  },
  {
   "cell_type": "markdown",
   "id": "1b6afa73-f5dc-4eab-9cc3-4c309597d988",
   "metadata": {},
   "source": [
    "## Boyutu 10 olan rastgele bir vektör olusturun ve bu vektördeki maksimum degeri 0 ile degistirin."
   ]
  },
  {
   "cell_type": "code",
   "execution_count": 44,
   "id": "8e61ac91-2b29-447e-b57d-2bdbf28b4369",
   "metadata": {},
   "outputs": [
    {
     "data": {
      "text/plain": [
       "array([46, 28, 58, 92, 51, 68, 76, 84, 49, 35])"
      ]
     },
     "execution_count": 44,
     "metadata": {},
     "output_type": "execute_result"
    }
   ],
   "source": [
    "süha_9 = np.random.randint(1, 101, 10)\n",
    "süha_9"
   ]
  },
  {
   "cell_type": "code",
   "execution_count": 46,
   "id": "1c7accf6-9c33-4773-80a3-94a5e3ce4aea",
   "metadata": {},
   "outputs": [
    {
     "data": {
      "text/plain": [
       "3"
      ]
     },
     "execution_count": 46,
     "metadata": {},
     "output_type": "execute_result"
    }
   ],
   "source": [
    "süha_9.argmax() # Maximum degerin index'ini bulduk."
   ]
  },
  {
   "cell_type": "code",
   "execution_count": 48,
   "id": "3d916cb3-bf60-4f0b-bac0-647a61934227",
   "metadata": {},
   "outputs": [
    {
     "data": {
      "text/plain": [
       "array([46, 28, 58,  0, 51, 68, 76, 84, 49, 35])"
      ]
     },
     "execution_count": 48,
     "metadata": {},
     "output_type": "execute_result"
    }
   ],
   "source": [
    "süha_9[3] = 0\n",
    "süha_9"
   ]
  },
  {
   "cell_type": "markdown",
   "id": "e106a906-4c31-471c-acbb-e2b4f3a51066",
   "metadata": {},
   "source": [
    "## Bir dizideki en sik gecen degeri nasil buluruz?"
   ]
  },
  {
   "cell_type": "code",
   "execution_count": 366,
   "id": "af8f6bee-87a4-40c3-b49f-9f8aa4e65942",
   "metadata": {},
   "outputs": [
    {
     "name": "stdout",
     "output_type": "stream",
     "text": [
      "En Sik Gecen Deger: 4\n"
     ]
    }
   ],
   "source": [
    "dizi = np.array([1, 2, 2, 3, 3, 3, 4, 4, 4, 4])\n",
    "\n",
    "degerler, frekanslar = np.unique(dizi, return_counts=True)\n",
    "\n",
    "en_sik_deger = degerler[np.argmax(frekanslar)]\n",
    "print(\"En Sik Gecen Deger:\", en_sik_deger)"
   ]
  },
  {
   "cell_type": "markdown",
   "id": "65768f0e-209f-4e46-85ad-51b7deda57de",
   "metadata": {},
   "source": [
    "## Kenarlarinda 1, ic kisminda 0 olan 2 boyutlu bir dizi olusturun."
   ]
  },
  {
   "cell_type": "code",
   "execution_count": 50,
   "id": "4159a0e0-0a8c-478d-8195-e2475bb51869",
   "metadata": {},
   "outputs": [
    {
     "data": {
      "text/plain": [
       "array([[0, 0, 0],\n",
       "       [0, 0, 0],\n",
       "       [0, 0, 0]])"
      ]
     },
     "execution_count": 50,
     "metadata": {},
     "output_type": "execute_result"
    }
   ],
   "source": [
    "sifir_matriks = np.zeros((3, 3), dtype=int)\n",
    "sifir_matriks"
   ]
  },
  {
   "cell_type": "code",
   "execution_count": 52,
   "id": "c861d50e-0f84-4799-af02-e9fef8d9863f",
   "metadata": {},
   "outputs": [
    {
     "data": {
      "text/plain": [
       "array([[1, 1, 1],\n",
       "       [0, 0, 0],\n",
       "       [0, 0, 0]])"
      ]
     },
     "execution_count": 52,
     "metadata": {},
     "output_type": "execute_result"
    }
   ],
   "source": [
    "sifir_matriks[0, :] = 1\n",
    "sifir_matriks"
   ]
  },
  {
   "cell_type": "code",
   "execution_count": 54,
   "id": "9412feb0-45ad-4e7d-bc53-588d111bd18d",
   "metadata": {},
   "outputs": [
    {
     "data": {
      "text/plain": [
       "array([[1, 1, 1],\n",
       "       [0, 0, 0],\n",
       "       [1, 1, 1]])"
      ]
     },
     "execution_count": 54,
     "metadata": {},
     "output_type": "execute_result"
    }
   ],
   "source": [
    "sifir_matriks[-1, :] = 1\n",
    "sifir_matriks"
   ]
  },
  {
   "cell_type": "code",
   "execution_count": 56,
   "id": "917de04f-87d5-4353-9cef-39b9d0b6a0e9",
   "metadata": {},
   "outputs": [
    {
     "data": {
      "text/plain": [
       "array([[1, 1, 1],\n",
       "       [1, 0, 0],\n",
       "       [1, 1, 1]])"
      ]
     },
     "execution_count": 56,
     "metadata": {},
     "output_type": "execute_result"
    }
   ],
   "source": [
    "sifir_matriks[:, 0] = 1\n",
    "sifir_matriks"
   ]
  },
  {
   "cell_type": "code",
   "execution_count": 60,
   "id": "d77af9de-e5e2-4d4d-a8b4-79d7651a0414",
   "metadata": {},
   "outputs": [
    {
     "data": {
      "text/plain": [
       "array([[1, 1, 1],\n",
       "       [1, 0, 1],\n",
       "       [1, 1, 1]])"
      ]
     },
     "execution_count": 60,
     "metadata": {},
     "output_type": "execute_result"
    }
   ],
   "source": [
    "sifir_matriks[:, -1] = 1\n",
    "sifir_matriks"
   ]
  },
  {
   "cell_type": "markdown",
   "id": "b2a71b6c-2907-46c0-b10d-55efbae5e5c7",
   "metadata": {},
   "source": [
    "## Ana kösegenin hemen altinda 1, 2, 3, 4 degerlerini iceren 5x5 boyutunda bir matris olusturun."
   ]
  },
  {
   "attachments": {
    "image.png": {
     "image/png": "[encoded data removed]"
    }
   },
   "cell_type": "markdown",
   "id": "e65c7127",
   "metadata": {},
   "source": [
    "![image.png](attachment:image.png)"
   ]
  },
  {
   "cell_type": "code",
   "execution_count": 62,
   "id": "81a560c6-bb4f-4bbb-8b93-84ba387ec933",
   "metadata": {},
   "outputs": [
    {
     "data": {
      "text/plain": [
       "array([[0, 0, 0, 0, 0],\n",
       "       [1, 0, 0, 0, 0],\n",
       "       [0, 2, 0, 0, 0],\n",
       "       [0, 0, 3, 0, 0],\n",
       "       [0, 0, 0, 4, 0]])"
      ]
     },
     "execution_count": 62,
     "metadata": {},
     "output_type": "execute_result"
    }
   ],
   "source": [
    "values = [1, 2, 3, 4]\n",
    "matrix = np.diag(values, k=-1)\n",
    "matrix"
   ]
  },
  {
   "cell_type": "code",
   "execution_count": 68,
   "id": "3ea0317f-ba0d-45e4-a131-c53e63469e63",
   "metadata": {},
   "outputs": [
    {
     "data": {
      "text/plain": [
       "array([[1, 0, 0],\n",
       "       [0, 2, 0],\n",
       "       [0, 0, 3]])"
      ]
     },
     "execution_count": 68,
     "metadata": {},
     "output_type": "execute_result"
    }
   ],
   "source": [
    "# np.diag'in iki fonksiyonu vardir, eger icerisine vektör verirsek o vektörü diagonale yerlestirip 0'lardan olusan bir matris üretir.\n",
    "\n",
    "np.diag([1, 2, 3])"
   ]
  },
  {
   "cell_type": "code",
   "execution_count": 92,
   "id": "9625c558-117d-4fbd-a58a-0bb3716a50cd",
   "metadata": {},
   "outputs": [
    {
     "data": {
      "text/plain": [
       "array([1, 5, 9])"
      ]
     },
     "execution_count": 92,
     "metadata": {},
     "output_type": "execute_result"
    }
   ],
   "source": [
    "# Eger icerisine bir matris verirsek, o matrisin diagonalini döndürür.\n",
    "\n",
    "np.diag([[1, 2, 3], [4, 5, 6], [7, 8, 9]])"
   ]
  },
  {
   "cell_type": "markdown",
   "id": "7f3c1973-392f-46f8-ab0c-e0ba6c9343eb",
   "metadata": {},
   "source": [
    "## 8x8 boyutunda bir matris olusturun ve dama tahtasi desenine uygun sekilde doldurun."
   ]
  },
  {
   "attachments": {
    "image.png": {
     "image/png": "[encoded data removed]"
    }
   },
   "cell_type": "markdown",
   "id": "2ce4419c",
   "metadata": {},
   "source": [
    "![image.png](attachment:image.png)"
   ]
  },
  {
   "cell_type": "code",
   "execution_count": 72,
   "id": "1eb786de-526e-49fe-99fa-c9e064cf75b6",
   "metadata": {},
   "outputs": [
    {
     "data": {
      "text/plain": [
       "array([[0, 0, 0, 0, 0, 0, 0, 0],\n",
       "       [0, 0, 0, 0, 0, 0, 0, 0],\n",
       "       [0, 0, 0, 0, 0, 0, 0, 0],\n",
       "       [0, 0, 0, 0, 0, 0, 0, 0],\n",
       "       [0, 0, 0, 0, 0, 0, 0, 0],\n",
       "       [0, 0, 0, 0, 0, 0, 0, 0],\n",
       "       [0, 0, 0, 0, 0, 0, 0, 0],\n",
       "       [0, 0, 0, 0, 0, 0, 0, 0]])"
      ]
     },
     "execution_count": 72,
     "metadata": {},
     "output_type": "execute_result"
    }
   ],
   "source": [
    "dama = np.zeros((8, 8), dtype=int)\n",
    "dama"
   ]
  },
  {
   "cell_type": "code",
   "execution_count": 181,
   "id": "18c486ec-7271-42d1-be2e-da199e49fe40",
   "metadata": {},
   "outputs": [
    {
     "data": {
      "text/plain": [
       "array([[1, 0, 1, 0, 1, 0, 1, 0],\n",
       "       [0, 0, 0, 0, 0, 0, 0, 0],\n",
       "       [1, 0, 1, 0, 1, 0, 1, 0],\n",
       "       [0, 0, 0, 0, 0, 0, 0, 0],\n",
       "       [1, 0, 1, 0, 1, 0, 1, 0],\n",
       "       [0, 0, 0, 0, 0, 0, 0, 0],\n",
       "       [1, 0, 1, 0, 1, 0, 1, 0],\n",
       "       [0, 0, 0, 0, 0, 0, 0, 0]])"
      ]
     },
     "execution_count": 181,
     "metadata": {},
     "output_type": "execute_result"
    }
   ],
   "source": [
    "dama[0::2, 0::2] = 1 # Tüm cift index'li satirlarla cift index'li sütunlarin kesisim elemanlarini 1'lerle degistirdik.\n",
    "dama"
   ]
  },
  {
   "cell_type": "code",
   "execution_count": 183,
   "id": "68cf1b7f-ecad-4aad-aee5-b11d1d45982f",
   "metadata": {},
   "outputs": [
    {
     "data": {
      "text/plain": [
       "array([[1, 0, 1, 0, 1, 0, 1, 0],\n",
       "       [0, 1, 0, 1, 0, 1, 0, 1],\n",
       "       [1, 0, 1, 0, 1, 0, 1, 0],\n",
       "       [0, 1, 0, 1, 0, 1, 0, 1],\n",
       "       [1, 0, 1, 0, 1, 0, 1, 0],\n",
       "       [0, 1, 0, 1, 0, 1, 0, 1],\n",
       "       [1, 0, 1, 0, 1, 0, 1, 0],\n",
       "       [0, 1, 0, 1, 0, 1, 0, 1]])"
      ]
     },
     "execution_count": 183,
     "metadata": {},
     "output_type": "execute_result"
    }
   ],
   "source": [
    "dama[1::2, 1::2] = 1 # Tüm tek index'li satirlarla tek index'li sütunlarin kesisim elemanlarini 1'lerle degistirdik.\n",
    "dama"
   ]
  },
  {
   "cell_type": "markdown",
   "id": "3d8e11c2-c9cc-4b7f-b79b-9304b36f9273",
   "metadata": {},
   "source": [
    "## tile fonksiyonunu kullanarak 8x8 boyutunda bir dama tahtasi matrisi olusturun."
   ]
  },
  {
   "cell_type": "code",
   "execution_count": 74,
   "id": "1d1d073e-8f8f-47fd-8e4e-a56933833a3e",
   "metadata": {},
   "outputs": [
    {
     "data": {
      "text/plain": [
       "array([[1, 0],\n",
       "       [0, 1]])"
      ]
     },
     "execution_count": 74,
     "metadata": {},
     "output_type": "execute_result"
    }
   ],
   "source": [
    "np.array([[1, 0], [0, 1]])"
   ]
  },
  {
   "cell_type": "code",
   "execution_count": 76,
   "id": "8892e778-835e-467a-9a93-5210bad5397f",
   "metadata": {},
   "outputs": [
    {
     "data": {
      "text/plain": [
       "array([[1, 0, 1, 0, 1, 0, 1, 0],\n",
       "       [0, 1, 0, 1, 0, 1, 0, 1],\n",
       "       [1, 0, 1, 0, 1, 0, 1, 0],\n",
       "       [0, 1, 0, 1, 0, 1, 0, 1],\n",
       "       [1, 0, 1, 0, 1, 0, 1, 0],\n",
       "       [0, 1, 0, 1, 0, 1, 0, 1],\n",
       "       [1, 0, 1, 0, 1, 0, 1, 0],\n",
       "       [0, 1, 0, 1, 0, 1, 0, 1]])"
      ]
     },
     "execution_count": 76,
     "metadata": {},
     "output_type": "execute_result"
    }
   ],
   "source": [
    "pattern = np.array([[1, 0], [0, 1]])\n",
    "checkerboard = np.tile(pattern, (4, 4))\n",
    "checkerboard"
   ]
  }
 ],
 "metadata": {
  "hide_input": false,
  "kernelspec": {
   "display_name": "Python 3 (ipykernel)",
   "language": "python",
   "name": "python3"
  },
  "language_info": {
   "codemirror_mode": {
    "name": "ipython",
    "version": 3
   },
   "file_extension": ".py",
   "mimetype": "text/x-python",
   "name": "python",
   "nbconvert_exporter": "python",
   "pygments_lexer": "ipython3",
   "version": "3.12.7"
  },
  "toc": {
   "base_numbering": 1,
   "nav_menu": {},
   "number_sections": true,
   "sideBar": true,
   "skip_h1_title": false,
   "title_cell": "Table of Contents",
   "title_sidebar": "Contents",
   "toc_cell": false,
   "toc_position": {
    "height": "calc(100% - 180px)",
    "left": "10px",
    "top": "150px",
    "width": "384px"
   },
   "toc_section_display": true,
   "toc_window_display": true
  },
  "varInspector": {
   "cols": {
    "lenName": 16,
    "lenType": 16,
    "lenVar": 40
   },
   "kernels_config": {
    "python": {
     "delete_cmd_postfix": "",
     "delete_cmd_prefix": "del ",
     "library": "var_list.py",
     "varRefreshCmd": "print(var_dic_list())"
    },
    "r": {
     "delete_cmd_postfix": ") ",
     "delete_cmd_prefix": "rm(",
     "library": "var_list.r",
     "varRefreshCmd": "cat(var_dic_list()) "
    }
   },
   "types_to_exclude": [
    "module",
    "function",
    "builtin_function_or_method",
    "instance",
    "_Feature"
   ],
   "window_display": false
  }
 },
 "nbformat": 4,
 "nbformat_minor": 5
}
