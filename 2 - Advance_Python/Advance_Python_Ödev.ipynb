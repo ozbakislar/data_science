{
 "cells": [
  {
   "cell_type": "markdown",
   "metadata": {},
   "source": [
    "Notlar TechproEducation Data Science egitiminden alinmistir."
   ]
  },
  {
   "cell_type": "markdown",
   "metadata": {},
   "source": [
    "1. Kullanicidan iki sayi girmesini isteyen bir program yazin ve bu sayilari bölen bir kod ekleyin. Ancak sifira bölme hatasini ele alin."
   ]
  },
  {
   "cell_type": "code",
   "execution_count": null,
   "metadata": {},
   "outputs": [
    {
     "name": "stdout",
     "output_type": "stream",
     "text": [
      "Bölme isleminde bölen 0 olamaz!\n"
     ]
    }
   ],
   "source": [
    "# Soru sadece ZeroDivisionError üzerine kurgulandigi icin ValueError'a odaklanilmadi.\n",
    "\n",
    "def bölme(a, b):\n",
    "    \n",
    "    \"\"\"Girilen iki sayiyi böler.\"\"\"\n",
    "\n",
    "    return a / b\n",
    "\n",
    "try:\n",
    "    giris1 = int(input(\"Lütfen bölme islemi icin ilk sayiyi giriniz:\"))\n",
    "    giris2 = int(input(\"Lütfen bölme islemi icin ikinci sayiyi giriniz:\"))\n",
    "    print(bölme(giris1, giris2))\n",
    "\n",
    "except ZeroDivisionError:\n",
    "    print(\"Bölme isleminde bölen 0 olamaz!\")\n",
    "\n"
   ]
  },
  {
   "cell_type": "markdown",
   "metadata": {},
   "source": [
    "2. Kullanicidan bir tam sayi girmesini isteyen bir program yazin ve girilen degeri bir tamsayiya dönüstürmeye calisin. Ancak kullanicinin gecerli bir tam sayi girmemesi durumunda bir hata mesaji verin."
   ]
  },
  {
   "cell_type": "code",
   "execution_count": null,
   "metadata": {},
   "outputs": [
    {
     "name": "stdout",
     "output_type": "stream",
     "text": [
      "Girdiginiz sayi 10. Sayiyi dogru formda girdiniz\n"
     ]
    }
   ],
   "source": [
    "try:\n",
    "    sayi = int(input('Lütfen bir tam sayi giriniz:'))\n",
    "\n",
    "except ValueError:\n",
    "    print('Gecersiz giris')\n",
    "\n",
    "else:\n",
    "    print(f'Girdiginiz sayi {sayi}, sayiyi dogru formda girdiniz')"
   ]
  },
  {
   "cell_type": "markdown",
   "metadata": {},
   "source": [
    "3. Bir liste icinde belirli bir indekse sahip bir ögeyi yazdirmak istiyorsunuz. Ancak belirtilen indeks liste boyutunu asabilir. Bu durumu ele alın."
   ]
  },
  {
   "cell_type": "code",
   "execution_count": null,
   "metadata": {},
   "outputs": [
    {
     "name": "stdout",
     "output_type": "stream",
     "text": [
      "Lütfen index degerini dogru girin.\n"
     ]
    }
   ],
   "source": [
    "# Soruda sorulmadigi icin ayrica ValueError denetimi yapilmadi.\n",
    "\n",
    "liste = [1, 2, 3, 4, 5]\n",
    "\n",
    "giris = int(input('Lütfen [1, 2, 3, 4, 5] listesinde ulasmak istediginiz elemanin indexini sayi formatinda yazin:'))\n",
    "\n",
    "try:\n",
    "    print(f'Sectiginiz indexin elemani: {liste[giris]}')\n",
    "    \n",
    "except IndexError:\n",
    "    print('Lütfen index degerini dogru girin.')\n",
    "\n"
   ]
  },
  {
   "cell_type": "markdown",
   "metadata": {},
   "source": [
    "4. Kullanicidan bir sayi girmesini isteyin ve bu sayiyi bir ondalik sayiya dönüstürmeye calisin. Ancak kullanicinin sayi yerine metin girmesi durumunda bir hata mesaji verin."
   ]
  },
  {
   "cell_type": "code",
   "execution_count": 30,
   "metadata": {},
   "outputs": [
    {
     "name": "stdout",
     "output_type": "stream",
     "text": [
      "Girdiginiz girdi iki sayi formatinda degil\n"
     ]
    }
   ],
   "source": [
    "try:\n",
    "    giris = input('Lütfen bir float sayi giriniz:')\n",
    "    print(f'{float(giris)}')\n",
    "\n",
    "except ValueError:\n",
    "    print('Girdiginiz girdi {} sayi formatinda degil'.format(giris))"
   ]
  },
  {
   "cell_type": "markdown",
   "metadata": {},
   "source": [
    "5. Kullanicidan iki sayi girmesini isteyen bir program yazin ve bu sayilari toplamaya calisin. Ancak kullanicinin sayi yerine baska bir veri türü girmesi durumunda bir hata mesaji verin."
   ]
  },
  {
   "cell_type": "code",
   "execution_count": null,
   "metadata": {},
   "outputs": [
    {
     "name": "stdout",
     "output_type": "stream",
     "text": [
      "Yanlis formda giris, lütfen numerik bir giris gerceklestirin!\n"
     ]
    }
   ],
   "source": [
    "try:\n",
    "\n",
    "    giris1 = int(input('Lütfen toplama islemi icin ilk sayiyi giriniz:'))\n",
    "    giris2 = int(input('Lütfen toplama islemi icin ikinci sayiyi giriniz:'))\n",
    "\n",
    "except ValueError:\n",
    "    print('Yanlis formda giris, lütfen numerik bir giris gerceklestirin!')\n",
    "\n",
    "else:\n",
    "    print(f'Toplam = {giris1 + giris2}')"
   ]
  },
  {
   "cell_type": "markdown",
   "metadata": {},
   "source": [
    "6. Kullanicidan bir sayi girmesini isteyen bir program yazin ve bu sayiyi kullanarak 10'a bölmeye calisin. Ancak kullanicinin sifir girmesi durumunda bir hata mesaji verin."
   ]
  },
  {
   "cell_type": "code",
   "execution_count": null,
   "metadata": {},
   "outputs": [
    {
     "ename": "ValueError",
     "evalue": "Bölünen 0 olamaz!",
     "output_type": "error",
     "traceback": [
      "\u001b[1;31m---------------------------------------------------------------------------\u001b[0m",
      "\u001b[1;31mValueError\u001b[0m                                Traceback (most recent call last)",
      "Cell \u001b[1;32mIn[34], line 3\u001b[0m\n\u001b[0;32m      1\u001b[0m giris \u001b[38;5;241m=\u001b[39m \u001b[38;5;28mint\u001b[39m(\u001b[38;5;28minput\u001b[39m(\u001b[38;5;124m'\u001b[39m\u001b[38;5;124mLütfen bir sayi giriniz:\u001b[39m\u001b[38;5;124m'\u001b[39m))\n\u001b[0;32m      2\u001b[0m \u001b[38;5;28;01mif\u001b[39;00m giris \u001b[38;5;241m==\u001b[39m \u001b[38;5;241m0\u001b[39m:\n\u001b[1;32m----> 3\u001b[0m     \u001b[38;5;28;01mraise\u001b[39;00m \u001b[38;5;167;01mValueError\u001b[39;00m(\u001b[38;5;124m'\u001b[39m\u001b[38;5;124mBölünen 0 olamaz!\u001b[39m\u001b[38;5;124m'\u001b[39m)\n\u001b[0;32m      5\u001b[0m \u001b[38;5;28mprint\u001b[39m(\u001b[38;5;124mf\u001b[39m\u001b[38;5;124m'\u001b[39m\u001b[38;5;132;01m{\u001b[39;00mgiris\u001b[38;5;250m \u001b[39m\u001b[38;5;241m/\u001b[39m\u001b[38;5;250m \u001b[39m\u001b[38;5;241m10\u001b[39m\u001b[38;5;132;01m}\u001b[39;00m\u001b[38;5;124m'\u001b[39m)\n",
      "\u001b[1;31mValueError\u001b[0m: Bölünen 0 olamaz!"
     ]
    }
   ],
   "source": [
    "# Matematiksel olarak 0'in bir sayiya bölümü (0/0 haric) 0'dir.\n",
    "# Bu durumda mantiksal hata yok, kendim hataymis gibi davransin istedigimden raise kullandim.\n",
    "\n",
    "giris = int(input('Lütfen bir sayi giriniz:'))\n",
    "if giris == 0:\n",
    "    raise ValueError('Bölünen 0 olamaz!')\n",
    "\n",
    "print(f'{giris / 10}')"
   ]
  },
  {
   "cell_type": "markdown",
   "metadata": {},
   "source": [
    "7. Kullanicidan bir dil kodu girmesini isteyen bir program yazin ve bu kodu bir dil adina cevirmeye calisin. Ancak belirli bir dil kodu sözlügünde olmayan bir kod girilirse bir hata mesaji verin."
   ]
  },
  {
   "cell_type": "code",
   "execution_count": 42,
   "metadata": {},
   "outputs": [
    {
     "ename": "ValueError",
     "evalue": "kd koduna karsilik bir dil bulunamadi!",
     "output_type": "error",
     "traceback": [
      "\u001b[1;31m---------------------------------------------------------------------------\u001b[0m",
      "\u001b[1;31mValueError\u001b[0m                                Traceback (most recent call last)",
      "Cell \u001b[1;32mIn[42], line 15\u001b[0m\n\u001b[0;32m     12\u001b[0m     \u001b[38;5;28mprint\u001b[39m(\u001b[38;5;124mf\u001b[39m\u001b[38;5;124m'\u001b[39m\u001b[38;5;132;01m{\u001b[39;00mdiller[\u001b[38;5;124m\"\u001b[39m\u001b[38;5;124ming\u001b[39m\u001b[38;5;124m\"\u001b[39m]\u001b[38;5;132;01m}\u001b[39;00m\u001b[38;5;124m'\u001b[39m)\n\u001b[0;32m     14\u001b[0m \u001b[38;5;28;01melse\u001b[39;00m:\n\u001b[1;32m---> 15\u001b[0m     \u001b[38;5;28;01mraise\u001b[39;00m \u001b[38;5;167;01mValueError\u001b[39;00m(\u001b[38;5;124mf\u001b[39m\u001b[38;5;124m'\u001b[39m\u001b[38;5;132;01m{\u001b[39;00mgiris\u001b[38;5;132;01m}\u001b[39;00m\u001b[38;5;124m koduna karsilik bir dil bulunamadi!\u001b[39m\u001b[38;5;124m'\u001b[39m)\n",
      "\u001b[1;31mValueError\u001b[0m: kd koduna karsilik bir dil bulunamadi!"
     ]
    }
   ],
   "source": [
    "diller = {'tr': 'Türkce', 'al':'Almanca', 'ing': 'Ingilizce'}\n",
    "\n",
    "giris = input('Lütfen dil kodunu giriniz:')\n",
    "\n",
    "if giris == 'tr':\n",
    "    print(f'{diller[\"tr\"]}')\n",
    "\n",
    "elif giris == 'al':\n",
    "    print(f'{diller[\"al\"]}')\n",
    "\n",
    "elif giris == 'ing':\n",
    "    print(f'{diller[\"ing\"]}')\n",
    "\n",
    "else:\n",
    "    raise ValueError(f'{giris} koduna karsilik bir dil bulunamadi!')"
   ]
  },
  {
   "cell_type": "markdown",
   "metadata": {},
   "source": [
    "8. Kullanicidan bir dosya adi girmesini isteyen bir program yazin ve bu dosyayi acmaya calisin. Ancak dosya bulunamazsa veya acilamazsa bir hata mesaji verin."
   ]
  },
  {
   "cell_type": "code",
   "execution_count": 43,
   "metadata": {},
   "outputs": [
    {
     "name": "stdout",
     "output_type": "stream",
     "text": [
      "Hata: 'ornek.txt' dosyasi bulunamadi.\n"
     ]
    }
   ],
   "source": [
    "dosya_adi = \"ornek.txt\"\n",
    "\n",
    "try:\n",
    "    dosya = open(dosya_adi, 'r')\n",
    "    icerik = dosya.read()         \n",
    "    print(icerik)                \n",
    "    dosya.close()  \n",
    "\n",
    "except FileNotFoundError:\n",
    "    print(f\"Hata: '{dosya_adi}' dosyasi bulunamadi.\")\n"
   ]
  },
  {
   "cell_type": "markdown",
   "metadata": {},
   "source": [
    "9. Kullanicidan bir pozitif sayi girmesini isteyen bir program yazin ve bu sayinin pozitif olup olmadigini kontrol edin. Ancak kullanicinin pozitif olmayan bir sayi girmesi durumunda bir hata mesaji verin."
   ]
  },
  {
   "cell_type": "code",
   "execution_count": null,
   "metadata": {},
   "outputs": [
    {
     "ename": "ValueError",
     "evalue": "Pozitif bir sayi girmediniz.",
     "output_type": "error",
     "traceback": [
      "\u001b[1;31m---------------------------------------------------------------------------\u001b[0m",
      "\u001b[1;31mValueError\u001b[0m                                Traceback (most recent call last)",
      "Cell \u001b[1;32mIn[46], line 5\u001b[0m\n\u001b[0;32m      3\u001b[0m     \u001b[38;5;28mprint\u001b[39m(\u001b[38;5;124m'\u001b[39m\u001b[38;5;124mTebrikler pozitif bir sayi girdiniz.\u001b[39m\u001b[38;5;124m'\u001b[39m)\n\u001b[0;32m      4\u001b[0m \u001b[38;5;28;01melse\u001b[39;00m:\n\u001b[1;32m----> 5\u001b[0m     \u001b[38;5;28;01mraise\u001b[39;00m \u001b[38;5;167;01mValueError\u001b[39;00m(\u001b[38;5;124m'\u001b[39m\u001b[38;5;124mPozitif bir sayi girmediniz.\u001b[39m\u001b[38;5;124m'\u001b[39m)\n",
      "\u001b[1;31mValueError\u001b[0m: Pozitif bir sayi girmediniz."
     ]
    }
   ],
   "source": [
    "# Hem raise hem assert ile cözdüm.\n",
    "\n",
    "giris = int(input('Lütfen pozitif bir sayi giriniz:'))\n",
    "if giris > 0:\n",
    "    print('Tebrikler pozitif bir sayi girdiniz.')\n",
    "else:\n",
    "    raise ValueError('Pozitif bir sayi girmediniz.')\n",
    "\n",
    "#----------------------------------------------------\n",
    "\n",
    "giris = int(input('Lütfen pozitif bir sayi giriniz:'))\n",
    "assert giris > 0, 'Negatif sayi girdiniz.'\n",
    "print('Dogru giris!')\n",
    "\n"
   ]
  },
  {
   "cell_type": "markdown",
   "metadata": {},
   "source": [
    "10. Kullanicidan bir tamsayi girmesini isteyen bir program yazin ve bu tamsayiyi bir ondalik sayiya dönüstürmeye calisin. Ancak tamsayi girmeyen kullanicilara uygun bir hata mesaji verin."
   ]
  },
  {
   "cell_type": "code",
   "execution_count": null,
   "metadata": {},
   "outputs": [],
   "source": [
    "try:\n",
    "    giris = int(input('Lütfen bir tam sayi giriniz:'))\n",
    "    print(f'{float(giris)}')\n",
    "\n",
    "except ValueError:\n",
    "    print(f'Girdiginiz girdi sayi formatinda degil')"
   ]
  }
 ],
 "metadata": {
  "kernelspec": {
   "display_name": "Python 3",
   "language": "python",
   "name": "python3"
  },
  "language_info": {
   "codemirror_mode": {
    "name": "ipython",
    "version": 3
   },
   "file_extension": ".py",
   "mimetype": "text/x-python",
   "name": "python",
   "nbconvert_exporter": "python",
   "pygments_lexer": "ipython3",
   "version": "3.13.0"
  }
 },
 "nbformat": 4,
 "nbformat_minor": 2
}
